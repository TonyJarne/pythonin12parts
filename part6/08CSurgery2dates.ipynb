{
  "nbformat": 4,
  "nbformat_minor": 0,
  "metadata": {
    "colab": {
      "provenance": [],
      "toc_visible": true
    },
    "kernelspec": {
      "name": "python3",
      "display_name": "Python 3"
    },
    "language_info": {
      "name": "python"
    }
  },
  "cells": [
    {
      "cell_type": "markdown",
      "source": [
        "# Python case study: dealing with dates\n",
        "\n",
        "When we import or grab dates they are often treated as text strings, when we actually want to treat them *as* dates. \n",
        "\n",
        "In this notebook we scrape some data that includes dates, and then convert the dates to a 'datetime' variable so we can perform related actions (such as extracting a month, or identifying which day of the week a date fell on)."
      ],
      "metadata": {
        "id": "WzoS7mH_2ERJ"
      }
    },
    {
      "cell_type": "markdown",
      "source": [
        "## Scrape the page\n",
        "\n",
        "First we scrape the data - we are going to scrape a page of tribunal decisions."
      ],
      "metadata": {
        "id": "r9IFvOMIG-ur"
      }
    },
    {
      "cell_type": "code",
      "execution_count": 4,
      "metadata": {
        "colab": {
          "base_uri": "https://localhost:8080/"
        },
        "id": "yiMuJViD0N5m",
        "outputId": "fb667d49-a21c-44cc-bb69-08d434898b1f"
      },
      "outputs": [
        {
          "output_type": "stream",
          "name": "stdout",
          "text": [
            "<a class=\"gem-c-skip-link govuk-skip-link govuk-!-display-none-print\" data-module=\"govuk-skip-link\" href=\"#content\">Skip to main content</a>\n"
          ]
        }
      ],
      "source": [
        "#importing requests\n",
        "import requests\n",
        "#importing beautiful soup scraper library\n",
        "from bs4 import BeautifulSoup\n",
        "import pandas as pd\n",
        "\n",
        "\n",
        "#fetch URL \n",
        "page = requests.get(\"https://www.gov.uk/employment-tribunal-decisions\")\n",
        "\n",
        "#command beautiful soup to parse the page\n",
        "soup = BeautifulSoup(page.content,'html.parser')\n",
        "\n",
        "#identify the lines in the page that I want by link and class\n",
        "cases = soup.select('a')\n",
        "\n",
        "#print the first match\n",
        "print(cases[0])"
      ]
    },
    {
      "cell_type": "markdown",
      "source": [
        "## Grabbing all the links\n",
        "\n",
        "We check we can grab the links."
      ],
      "metadata": {
        "id": "U-IsZmJIKKKT"
      }
    },
    {
      "cell_type": "code",
      "source": [
        "#this grabs the links to each case\n",
        "cases = soup.select('a[class=\"gem-c-document-list__item-title govuk-link\"]')\n",
        "#check the first\n",
        "print(cases[0])"
      ],
      "metadata": {
        "colab": {
          "base_uri": "https://localhost:8080/"
        },
        "id": "2ebV3lbqFVO9",
        "outputId": "cf88f108-12a7-4477-c446-552687596d52"
      },
      "execution_count": 7,
      "outputs": [
        {
          "output_type": "stream",
          "name": "stdout",
          "text": [
            "<a class=\"gem-c-document-list__item-title govuk-link\" data-ecommerce-index=\"1\" data-ecommerce-path=\"/employment-tribunal-decisions/miss-c-lewis-v-joy2care-ltd-2600556-slash-2021\" data-ecommerce-row=\"1\" data-ga4-ecommerce-path=\"/employment-tribunal-decisions/miss-c-lewis-v-joy2care-ltd-2600556-slash-2021\" data-track-action=\"Employment tribunal decisions.1\" data-track-category=\"navFinderLinkClicked\" data-track-label=\"/employment-tribunal-decisions/miss-c-lewis-v-joy2care-ltd-2600556-slash-2021\" data-track-options='{\"dimension28\":50,\"dimension29\":\"Miss C Lewis v Joy2Care Ltd: 2600556/2021\"}' href=\"/employment-tribunal-decisions/miss-c-lewis-v-joy2care-ltd-2600556-slash-2021\">Miss C Lewis v Joy2Care Ltd: 2600556/2021</a>\n"
          ]
        }
      ]
    },
    {
      "cell_type": "markdown",
      "source": [
        "## Grabbing just the text, and just the link\n",
        "\n",
        "Now we loop through those matches and store the linked text, and the link URL, separately in two lists. \n",
        "\n",
        "Those two lists are used to make a dataframe."
      ],
      "metadata": {
        "id": "VXEEK54BKBe8"
      }
    },
    {
      "cell_type": "code",
      "source": [
        "#remove superflulous html/css\n",
        "case = []\n",
        "link = []\n",
        "\n",
        "#loop through cases \n",
        "for i in cases:\n",
        "  #extract the text\n",
        "  casename = i.get_text()\n",
        "  #extract link\n",
        "  linkname = i['href']\n",
        "  #add the text and link to the previously empty lists\n",
        "  case.append(casename)\n",
        "  link.append(linkname)\n",
        "\n",
        "#create a new dataframe which uses those two lists as its two columns\n",
        "caselist = pd.DataFrame({\"case name\" : case, \"URL\" : link})\n",
        "\n",
        "#show the first 5 rows\n",
        "caselist[:5]"
      ],
      "metadata": {
        "colab": {
          "base_uri": "https://localhost:8080/",
          "height": 206
        },
        "id": "yaLey0isFcxI",
        "outputId": "aa275ea9-935f-45e7-cc35-2eef9c000864"
      },
      "execution_count": 8,
      "outputs": [
        {
          "output_type": "execute_result",
          "data": {
            "text/plain": [
              "                                           case name  \\\n",
              "0          Miss C Lewis v Joy2Care Ltd: 2600556/2021   \n",
              "1  Ms B Reddish v SMN Care Homes Ltd and SMN Inve...   \n",
              "2  Mrs N Frost and Mrs M Schofield v DMJ Drainage...   \n",
              "3  Mr S Mamodaly v EEV Management Ltd: 2601955/20...   \n",
              "4         Mr G Peck v Esland North Ltd: 2602432/2022   \n",
              "\n",
              "                                                 URL  \n",
              "0  /employment-tribunal-decisions/miss-c-lewis-v-...  \n",
              "1  /employment-tribunal-decisions/ms-b-reddish-v-...  \n",
              "2  /employment-tribunal-decisions/mrs-n-frost-and...  \n",
              "3  /employment-tribunal-decisions/mr-s-mamodaly-v...  \n",
              "4  /employment-tribunal-decisions/mr-g-peck-v-esl...  "
            ],
            "text/html": [
              "\n",
              "  <div id=\"df-f64420de-78f7-44fc-9312-5efd935ac37f\">\n",
              "    <div class=\"colab-df-container\">\n",
              "      <div>\n",
              "<style scoped>\n",
              "    .dataframe tbody tr th:only-of-type {\n",
              "        vertical-align: middle;\n",
              "    }\n",
              "\n",
              "    .dataframe tbody tr th {\n",
              "        vertical-align: top;\n",
              "    }\n",
              "\n",
              "    .dataframe thead th {\n",
              "        text-align: right;\n",
              "    }\n",
              "</style>\n",
              "<table border=\"1\" class=\"dataframe\">\n",
              "  <thead>\n",
              "    <tr style=\"text-align: right;\">\n",
              "      <th></th>\n",
              "      <th>case name</th>\n",
              "      <th>URL</th>\n",
              "    </tr>\n",
              "  </thead>\n",
              "  <tbody>\n",
              "    <tr>\n",
              "      <th>0</th>\n",
              "      <td>Miss C Lewis v Joy2Care Ltd: 2600556/2021</td>\n",
              "      <td>/employment-tribunal-decisions/miss-c-lewis-v-...</td>\n",
              "    </tr>\n",
              "    <tr>\n",
              "      <th>1</th>\n",
              "      <td>Ms B Reddish v SMN Care Homes Ltd and SMN Inve...</td>\n",
              "      <td>/employment-tribunal-decisions/ms-b-reddish-v-...</td>\n",
              "    </tr>\n",
              "    <tr>\n",
              "      <th>2</th>\n",
              "      <td>Mrs N Frost and Mrs M Schofield v DMJ Drainage...</td>\n",
              "      <td>/employment-tribunal-decisions/mrs-n-frost-and...</td>\n",
              "    </tr>\n",
              "    <tr>\n",
              "      <th>3</th>\n",
              "      <td>Mr S Mamodaly v EEV Management Ltd: 2601955/20...</td>\n",
              "      <td>/employment-tribunal-decisions/mr-s-mamodaly-v...</td>\n",
              "    </tr>\n",
              "    <tr>\n",
              "      <th>4</th>\n",
              "      <td>Mr G Peck v Esland North Ltd: 2602432/2022</td>\n",
              "      <td>/employment-tribunal-decisions/mr-g-peck-v-esl...</td>\n",
              "    </tr>\n",
              "  </tbody>\n",
              "</table>\n",
              "</div>\n",
              "      <button class=\"colab-df-convert\" onclick=\"convertToInteractive('df-f64420de-78f7-44fc-9312-5efd935ac37f')\"\n",
              "              title=\"Convert this dataframe to an interactive table.\"\n",
              "              style=\"display:none;\">\n",
              "        \n",
              "  <svg xmlns=\"http://www.w3.org/2000/svg\" height=\"24px\"viewBox=\"0 0 24 24\"\n",
              "       width=\"24px\">\n",
              "    <path d=\"M0 0h24v24H0V0z\" fill=\"none\"/>\n",
              "    <path d=\"M18.56 5.44l.94 2.06.94-2.06 2.06-.94-2.06-.94-.94-2.06-.94 2.06-2.06.94zm-11 1L8.5 8.5l.94-2.06 2.06-.94-2.06-.94L8.5 2.5l-.94 2.06-2.06.94zm10 10l.94 2.06.94-2.06 2.06-.94-2.06-.94-.94-2.06-.94 2.06-2.06.94z\"/><path d=\"M17.41 7.96l-1.37-1.37c-.4-.4-.92-.59-1.43-.59-.52 0-1.04.2-1.43.59L10.3 9.45l-7.72 7.72c-.78.78-.78 2.05 0 2.83L4 21.41c.39.39.9.59 1.41.59.51 0 1.02-.2 1.41-.59l7.78-7.78 2.81-2.81c.8-.78.8-2.07 0-2.86zM5.41 20L4 18.59l7.72-7.72 1.47 1.35L5.41 20z\"/>\n",
              "  </svg>\n",
              "      </button>\n",
              "      \n",
              "  <style>\n",
              "    .colab-df-container {\n",
              "      display:flex;\n",
              "      flex-wrap:wrap;\n",
              "      gap: 12px;\n",
              "    }\n",
              "\n",
              "    .colab-df-convert {\n",
              "      background-color: #E8F0FE;\n",
              "      border: none;\n",
              "      border-radius: 50%;\n",
              "      cursor: pointer;\n",
              "      display: none;\n",
              "      fill: #1967D2;\n",
              "      height: 32px;\n",
              "      padding: 0 0 0 0;\n",
              "      width: 32px;\n",
              "    }\n",
              "\n",
              "    .colab-df-convert:hover {\n",
              "      background-color: #E2EBFA;\n",
              "      box-shadow: 0px 1px 2px rgba(60, 64, 67, 0.3), 0px 1px 3px 1px rgba(60, 64, 67, 0.15);\n",
              "      fill: #174EA6;\n",
              "    }\n",
              "\n",
              "    [theme=dark] .colab-df-convert {\n",
              "      background-color: #3B4455;\n",
              "      fill: #D2E3FC;\n",
              "    }\n",
              "\n",
              "    [theme=dark] .colab-df-convert:hover {\n",
              "      background-color: #434B5C;\n",
              "      box-shadow: 0px 1px 3px 1px rgba(0, 0, 0, 0.15);\n",
              "      filter: drop-shadow(0px 1px 2px rgba(0, 0, 0, 0.3));\n",
              "      fill: #FFFFFF;\n",
              "    }\n",
              "  </style>\n",
              "\n",
              "      <script>\n",
              "        const buttonEl =\n",
              "          document.querySelector('#df-f64420de-78f7-44fc-9312-5efd935ac37f button.colab-df-convert');\n",
              "        buttonEl.style.display =\n",
              "          google.colab.kernel.accessAllowed ? 'block' : 'none';\n",
              "\n",
              "        async function convertToInteractive(key) {\n",
              "          const element = document.querySelector('#df-f64420de-78f7-44fc-9312-5efd935ac37f');\n",
              "          const dataTable =\n",
              "            await google.colab.kernel.invokeFunction('convertToInteractive',\n",
              "                                                     [key], {});\n",
              "          if (!dataTable) return;\n",
              "\n",
              "          const docLinkHtml = 'Like what you see? Visit the ' +\n",
              "            '<a target=\"_blank\" href=https://colab.research.google.com/notebooks/data_table.ipynb>data table notebook</a>'\n",
              "            + ' to learn more about interactive tables.';\n",
              "          element.innerHTML = '';\n",
              "          dataTable['output_type'] = 'display_data';\n",
              "          await google.colab.output.renderOutput(dataTable, element);\n",
              "          const docLink = document.createElement('div');\n",
              "          docLink.innerHTML = docLinkHtml;\n",
              "          element.appendChild(docLink);\n",
              "        }\n",
              "      </script>\n",
              "    </div>\n",
              "  </div>\n",
              "  "
            ]
          },
          "metadata": {},
          "execution_count": 8
        }
      ]
    },
    {
      "cell_type": "markdown",
      "source": [
        "## Grabbing list items\n",
        "\n",
        "The first time we try to grab list items (the tag `<li>` it's too broad."
      ],
      "metadata": {
        "id": "PnTZ_xEZKTTe"
      }
    },
    {
      "cell_type": "code",
      "source": [
        "#grab all li tags\n",
        "dates = soup.select('li')\n",
        "#show the first 3 results\n",
        "dates[:3]\n"
      ],
      "metadata": {
        "colab": {
          "base_uri": "https://localhost:8080/"
        },
        "id": "rsXuJ9CHFqrE",
        "outputId": "2fcb9c43-1143-4158-f556-3cdda2104fe3"
      },
      "execution_count": 10,
      "outputs": [
        {
          "output_type": "execute_result",
          "data": {
            "text/plain": [
              "[<li class=\"gem-c-layout-super-navigation-header__dropdown-list-item\">\n",
              " <a class=\"govuk-link gem-c-layout-super-navigation-header__navigation-second-item-link\" data-ga4-link='{\"event_name\":\"navigation\",\"type\":\"header menu bar\",\"index\":\"1.1.1\",\"index_total\":29,\"section\":\"Topics\"}' data-track-action=\"topicsLink\" data-track-category=\"headerClicked\" data-track-dimension=\"Benefits\" data-track-dimension-index=\"29\" data-track-label=\"/browse/benefits\" href=\"/browse/benefits\">Benefits</a>\n",
              " </li>, <li class=\"gem-c-layout-super-navigation-header__dropdown-list-item\">\n",
              " <a class=\"govuk-link gem-c-layout-super-navigation-header__navigation-second-item-link\" data-ga4-link='{\"event_name\":\"navigation\",\"type\":\"header menu bar\",\"index\":\"1.1.2\",\"index_total\":29,\"section\":\"Topics\"}' data-track-action=\"topicsLink\" data-track-category=\"headerClicked\" data-track-dimension=\"Births, death, marriages and care\" data-track-dimension-index=\"29\" data-track-label=\"/browse/births-deaths-marriages\" href=\"/browse/births-deaths-marriages\">Births, death, marriages and care</a>\n",
              " </li>, <li class=\"gem-c-layout-super-navigation-header__dropdown-list-item\">\n",
              " <a class=\"govuk-link gem-c-layout-super-navigation-header__navigation-second-item-link\" data-ga4-link='{\"event_name\":\"navigation\",\"type\":\"header menu bar\",\"index\":\"1.1.3\",\"index_total\":29,\"section\":\"Topics\"}' data-track-action=\"topicsLink\" data-track-category=\"headerClicked\" data-track-dimension=\"Business and self-employed\" data-track-dimension-index=\"29\" data-track-label=\"/browse/business\" href=\"/browse/business\">Business and self-employed</a>\n",
              " </li>]"
            ]
          },
          "metadata": {},
          "execution_count": 10
        }
      ]
    },
    {
      "cell_type": "markdown",
      "source": [
        "## Specify a class attribute\n",
        "\n",
        "So we specify we only want `<li>` tags with a specific `class=`."
      ],
      "metadata": {
        "id": "Ts789dVuKaZH"
      }
    },
    {
      "cell_type": "code",
      "source": [
        "#grab the tags that match the description\n",
        "dates= soup.select('li[class=\"gem-c-document-list__attribute\"]')\n",
        "#show the first 3\n",
        "dates[:3]"
      ],
      "metadata": {
        "colab": {
          "base_uri": "https://localhost:8080/"
        },
        "id": "Qt95BQ7hFu2c",
        "outputId": "8a27e4b2-c6c9-4eb1-edd6-e8c2b23164d4"
      },
      "execution_count": 11,
      "outputs": [
        {
          "output_type": "execute_result",
          "data": {
            "text/plain": [
              "[<li class=\"gem-c-document-list__attribute\">\n",
              "                     Decided: <time datetime=\"2023-02-07\">7 February 2023</time>\n",
              " </li>, <li class=\"gem-c-document-list__attribute\">\n",
              "                     Decided: <time datetime=\"2023-02-02\">2 February 2023</time>\n",
              " </li>, <li class=\"gem-c-document-list__attribute\">\n",
              "                     Decided: <time datetime=\"2023-01-23\">23 January 2023</time>\n",
              " </li>]"
            ]
          },
          "metadata": {},
          "execution_count": 11
        }
      ]
    },
    {
      "cell_type": "markdown",
      "source": [
        "## Loop to store the results in lists\n",
        "\n",
        "Now we can generate a 3 column dataframe by adding another loop for the new list of matches."
      ],
      "metadata": {
        "id": "JQHWuxOcKlr-"
      }
    },
    {
      "cell_type": "code",
      "source": [
        "#create an empty list\n",
        "date = []\n",
        "\n",
        "#loop through 'dates'\n",
        "for i in dates:\n",
        "  #extract the date\n",
        "  datename = i.get_text()\n",
        "  #add the date to the date list\n",
        "  date.append(datename)\n",
        "\n",
        "#create two more empty lists\n",
        "case = []\n",
        "link = []\n",
        "\n",
        "#loop through 'cases'\n",
        "for i in cases:\n",
        "  #extract the text\n",
        "  casename = i.get_text()\n",
        "  #extract link\n",
        "  linkname = i['href']\n",
        "  #add the text and link to the previously empty lists\n",
        "  case.append(casename)\n",
        "  link.append(linkname)\n",
        "\n",
        "#create a new dataframe with those three lists as the 3 columns\n",
        "caselist = pd.DataFrame({\"case name\" : case, \"URL\" : link, \"date\" : date})\n",
        "\n",
        "#show the first 5 rows\n",
        "caselist[:5]"
      ],
      "metadata": {
        "colab": {
          "base_uri": "https://localhost:8080/",
          "height": 206
        },
        "id": "fkHRO5mMFyHn",
        "outputId": "c03a3ca5-31de-4df9-c7cd-40554fe2a441"
      },
      "execution_count": 12,
      "outputs": [
        {
          "output_type": "execute_result",
          "data": {
            "text/plain": [
              "                                           case name  \\\n",
              "0          Miss C Lewis v Joy2Care Ltd: 2600556/2021   \n",
              "1  Ms B Reddish v SMN Care Homes Ltd and SMN Inve...   \n",
              "2  Mrs N Frost and Mrs M Schofield v DMJ Drainage...   \n",
              "3  Mr S Mamodaly v EEV Management Ltd: 2601955/20...   \n",
              "4         Mr G Peck v Esland North Ltd: 2602432/2022   \n",
              "\n",
              "                                                 URL  \\\n",
              "0  /employment-tribunal-decisions/miss-c-lewis-v-...   \n",
              "1  /employment-tribunal-decisions/ms-b-reddish-v-...   \n",
              "2  /employment-tribunal-decisions/mrs-n-frost-and...   \n",
              "3  /employment-tribunal-decisions/mr-s-mamodaly-v...   \n",
              "4  /employment-tribunal-decisions/mr-g-peck-v-esl...   \n",
              "\n",
              "                                               date  \n",
              "0  \\n                    Decided: 7 February 2023\\n  \n",
              "1  \\n                    Decided: 2 February 2023\\n  \n",
              "2  \\n                    Decided: 23 January 2023\\n  \n",
              "3  \\n                    Decided: 12 January 2023\\n  \n",
              "4   \\n                    Decided: 3 January 2023\\n  "
            ],
            "text/html": [
              "\n",
              "  <div id=\"df-43978da1-a9c8-4e0c-a8e1-a1bbbcf49ab2\">\n",
              "    <div class=\"colab-df-container\">\n",
              "      <div>\n",
              "<style scoped>\n",
              "    .dataframe tbody tr th:only-of-type {\n",
              "        vertical-align: middle;\n",
              "    }\n",
              "\n",
              "    .dataframe tbody tr th {\n",
              "        vertical-align: top;\n",
              "    }\n",
              "\n",
              "    .dataframe thead th {\n",
              "        text-align: right;\n",
              "    }\n",
              "</style>\n",
              "<table border=\"1\" class=\"dataframe\">\n",
              "  <thead>\n",
              "    <tr style=\"text-align: right;\">\n",
              "      <th></th>\n",
              "      <th>case name</th>\n",
              "      <th>URL</th>\n",
              "      <th>date</th>\n",
              "    </tr>\n",
              "  </thead>\n",
              "  <tbody>\n",
              "    <tr>\n",
              "      <th>0</th>\n",
              "      <td>Miss C Lewis v Joy2Care Ltd: 2600556/2021</td>\n",
              "      <td>/employment-tribunal-decisions/miss-c-lewis-v-...</td>\n",
              "      <td>\\n                    Decided: 7 February 2023\\n</td>\n",
              "    </tr>\n",
              "    <tr>\n",
              "      <th>1</th>\n",
              "      <td>Ms B Reddish v SMN Care Homes Ltd and SMN Inve...</td>\n",
              "      <td>/employment-tribunal-decisions/ms-b-reddish-v-...</td>\n",
              "      <td>\\n                    Decided: 2 February 2023\\n</td>\n",
              "    </tr>\n",
              "    <tr>\n",
              "      <th>2</th>\n",
              "      <td>Mrs N Frost and Mrs M Schofield v DMJ Drainage...</td>\n",
              "      <td>/employment-tribunal-decisions/mrs-n-frost-and...</td>\n",
              "      <td>\\n                    Decided: 23 January 2023\\n</td>\n",
              "    </tr>\n",
              "    <tr>\n",
              "      <th>3</th>\n",
              "      <td>Mr S Mamodaly v EEV Management Ltd: 2601955/20...</td>\n",
              "      <td>/employment-tribunal-decisions/mr-s-mamodaly-v...</td>\n",
              "      <td>\\n                    Decided: 12 January 2023\\n</td>\n",
              "    </tr>\n",
              "    <tr>\n",
              "      <th>4</th>\n",
              "      <td>Mr G Peck v Esland North Ltd: 2602432/2022</td>\n",
              "      <td>/employment-tribunal-decisions/mr-g-peck-v-esl...</td>\n",
              "      <td>\\n                    Decided: 3 January 2023\\n</td>\n",
              "    </tr>\n",
              "  </tbody>\n",
              "</table>\n",
              "</div>\n",
              "      <button class=\"colab-df-convert\" onclick=\"convertToInteractive('df-43978da1-a9c8-4e0c-a8e1-a1bbbcf49ab2')\"\n",
              "              title=\"Convert this dataframe to an interactive table.\"\n",
              "              style=\"display:none;\">\n",
              "        \n",
              "  <svg xmlns=\"http://www.w3.org/2000/svg\" height=\"24px\"viewBox=\"0 0 24 24\"\n",
              "       width=\"24px\">\n",
              "    <path d=\"M0 0h24v24H0V0z\" fill=\"none\"/>\n",
              "    <path d=\"M18.56 5.44l.94 2.06.94-2.06 2.06-.94-2.06-.94-.94-2.06-.94 2.06-2.06.94zm-11 1L8.5 8.5l.94-2.06 2.06-.94-2.06-.94L8.5 2.5l-.94 2.06-2.06.94zm10 10l.94 2.06.94-2.06 2.06-.94-2.06-.94-.94-2.06-.94 2.06-2.06.94z\"/><path d=\"M17.41 7.96l-1.37-1.37c-.4-.4-.92-.59-1.43-.59-.52 0-1.04.2-1.43.59L10.3 9.45l-7.72 7.72c-.78.78-.78 2.05 0 2.83L4 21.41c.39.39.9.59 1.41.59.51 0 1.02-.2 1.41-.59l7.78-7.78 2.81-2.81c.8-.78.8-2.07 0-2.86zM5.41 20L4 18.59l7.72-7.72 1.47 1.35L5.41 20z\"/>\n",
              "  </svg>\n",
              "      </button>\n",
              "      \n",
              "  <style>\n",
              "    .colab-df-container {\n",
              "      display:flex;\n",
              "      flex-wrap:wrap;\n",
              "      gap: 12px;\n",
              "    }\n",
              "\n",
              "    .colab-df-convert {\n",
              "      background-color: #E8F0FE;\n",
              "      border: none;\n",
              "      border-radius: 50%;\n",
              "      cursor: pointer;\n",
              "      display: none;\n",
              "      fill: #1967D2;\n",
              "      height: 32px;\n",
              "      padding: 0 0 0 0;\n",
              "      width: 32px;\n",
              "    }\n",
              "\n",
              "    .colab-df-convert:hover {\n",
              "      background-color: #E2EBFA;\n",
              "      box-shadow: 0px 1px 2px rgba(60, 64, 67, 0.3), 0px 1px 3px 1px rgba(60, 64, 67, 0.15);\n",
              "      fill: #174EA6;\n",
              "    }\n",
              "\n",
              "    [theme=dark] .colab-df-convert {\n",
              "      background-color: #3B4455;\n",
              "      fill: #D2E3FC;\n",
              "    }\n",
              "\n",
              "    [theme=dark] .colab-df-convert:hover {\n",
              "      background-color: #434B5C;\n",
              "      box-shadow: 0px 1px 3px 1px rgba(0, 0, 0, 0.15);\n",
              "      filter: drop-shadow(0px 1px 2px rgba(0, 0, 0, 0.3));\n",
              "      fill: #FFFFFF;\n",
              "    }\n",
              "  </style>\n",
              "\n",
              "      <script>\n",
              "        const buttonEl =\n",
              "          document.querySelector('#df-43978da1-a9c8-4e0c-a8e1-a1bbbcf49ab2 button.colab-df-convert');\n",
              "        buttonEl.style.display =\n",
              "          google.colab.kernel.accessAllowed ? 'block' : 'none';\n",
              "\n",
              "        async function convertToInteractive(key) {\n",
              "          const element = document.querySelector('#df-43978da1-a9c8-4e0c-a8e1-a1bbbcf49ab2');\n",
              "          const dataTable =\n",
              "            await google.colab.kernel.invokeFunction('convertToInteractive',\n",
              "                                                     [key], {});\n",
              "          if (!dataTable) return;\n",
              "\n",
              "          const docLinkHtml = 'Like what you see? Visit the ' +\n",
              "            '<a target=\"_blank\" href=https://colab.research.google.com/notebooks/data_table.ipynb>data table notebook</a>'\n",
              "            + ' to learn more about interactive tables.';\n",
              "          element.innerHTML = '';\n",
              "          dataTable['output_type'] = 'display_data';\n",
              "          await google.colab.output.renderOutput(dataTable, element);\n",
              "          const docLink = document.createElement('div');\n",
              "          docLink.innerHTML = docLinkHtml;\n",
              "          element.appendChild(docLink);\n",
              "        }\n",
              "      </script>\n",
              "    </div>\n",
              "  </div>\n",
              "  "
            ]
          },
          "metadata": {},
          "execution_count": 12
        }
      ]
    },
    {
      "cell_type": "markdown",
      "source": [
        "## Grab the `time` attributes\n",
        "\n",
        "Now although the dates are on the pages as text, there are also tags that have those dates in a much more useful format, with months shown as numbers, e.g. `<time datetime=\"2022-02-07\">`"
      ],
      "metadata": {
        "id": "JlJaqlA8KxHR"
      }
    },
    {
      "cell_type": "code",
      "source": [
        "#grab the <time> tags\n",
        "times = soup.select('time')\n",
        "#show the first 5\n",
        "times[:5]"
      ],
      "metadata": {
        "colab": {
          "base_uri": "https://localhost:8080/"
        },
        "id": "5OD0ZvoOF7yM",
        "outputId": "94aacfb9-613d-4c45-d522-31a195011856"
      },
      "execution_count": 13,
      "outputs": [
        {
          "output_type": "execute_result",
          "data": {
            "text/plain": [
              "[<time datetime=\"2023-02-07\">7 February 2023</time>,\n",
              " <time datetime=\"2023-02-02\">2 February 2023</time>,\n",
              " <time datetime=\"2023-01-23\">23 January 2023</time>,\n",
              " <time datetime=\"2023-01-12\">12 January 2023</time>,\n",
              " <time datetime=\"2023-01-03\">3 January 2023</time>]"
            ]
          },
          "metadata": {},
          "execution_count": 13
        }
      ]
    },
    {
      "cell_type": "markdown",
      "source": [
        "## Extract the `datetime` attribute\n",
        "\n",
        "To extract the `datetime=` attribute you need to add `['datetime']` after a match item (not the whole list)"
      ],
      "metadata": {
        "id": "34I4D-vkLCgj"
      }
    },
    {
      "cell_type": "code",
      "source": [
        "#show the first match in full\n",
        "print(times[0])\n",
        "#now show the datetime attribute of that match\n",
        "print(times[0]['datetime'])\n",
        "#store it\n",
        "testdatetime = times[0]['datetime']\n",
        "#now extract the first 4 characters\n",
        "print(testdatetime[0:4])\n",
        "#and the characters from position 8 to 9 (the month)\n",
        "print(testdatetime[8:10])\n",
        "#and the characters from position 5 to 6 (the day)\n",
        "#converting to an integer at the same time\n",
        "print(int(testdatetime[5:7]))"
      ],
      "metadata": {
        "colab": {
          "base_uri": "https://localhost:8080/"
        },
        "id": "ZhbInwQPHA-O",
        "outputId": "11e609eb-86c9-4967-e5e9-f82801e2d34f"
      },
      "execution_count": null,
      "outputs": [
        {
          "output_type": "stream",
          "name": "stdout",
          "text": [
            "<time datetime=\"2022-02-07\">7 February 2022</time>\n",
            "2022-02-07\n",
            "2022\n",
            "07\n",
            "2\n"
          ]
        }
      ]
    },
    {
      "cell_type": "markdown",
      "source": [
        "## Loop to store the `datetime` in the dataframe too\n",
        "\n",
        "Now we expand the earlier code to include this. \n",
        "\n",
        "We create 4 new lists - one for the whole datetime string, and one each for the day, month and year that we extract from that."
      ],
      "metadata": {
        "id": "0pfR9Y1HHAnH"
      }
    },
    {
      "cell_type": "code",
      "source": [
        "#create 4 empty lists\n",
        "datetimes = []\n",
        "years = []\n",
        "days = []\n",
        "months = []\n",
        "\n",
        "#loop through those <time> tag matches\n",
        "for i in times:\n",
        "  #extract the datetime= value\n",
        "  casedate = i['datetime']\n",
        "  #add to the datetimes list\n",
        "  datetimes.append(casedate)\n",
        "  #'slice' the string to extract the year, month and day, adding each to a different list\n",
        "  years.append(int(casedate[0:4]))\n",
        "  months.append(int(casedate[5:7]))\n",
        "  days.append(int(casedate[8:10]))"
      ],
      "metadata": {
        "id": "2nWoeAjSGPui"
      },
      "execution_count": 15,
      "outputs": []
    },
    {
      "cell_type": "code",
      "source": [
        "#show the first 5 items in the datetimes list\n",
        "datetimes[:5]"
      ],
      "metadata": {
        "colab": {
          "base_uri": "https://localhost:8080/"
        },
        "id": "WjARgf0GHig6",
        "outputId": "17c9adc6-00b5-4246-e2c1-8777981340a3"
      },
      "execution_count": 16,
      "outputs": [
        {
          "output_type": "execute_result",
          "data": {
            "text/plain": [
              "['2023-02-07', '2023-02-02', '2023-01-23', '2023-01-12', '2023-01-03']"
            ]
          },
          "metadata": {},
          "execution_count": 16
        }
      ]
    }
  ]
}
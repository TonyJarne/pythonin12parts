{
  "nbformat": 4,
  "nbformat_minor": 0,
  "metadata": {
    "colab": {
      "name": "12pandas_api.ipynb",
      "provenance": [],
      "collapsed_sections": [],
      "toc_visible": true
    },
    "kernelspec": {
      "name": "python3",
      "display_name": "Python 3"
    },
    "language_info": {
      "name": "python"
    }
  },
  "cells": [
    {
      "cell_type": "markdown",
      "metadata": {
        "id": "w9M6HnAlM4iR"
      },
      "source": [
        "# Using APIs for data\n",
        "\n",
        "An API is one way of getting data from a web resource. Typically you get data by forming a URL - the URL is basically your 'question' (**query** or **request**), and the webpage that is delivered to you (the **endpoint**) contains the 'response' with the data, often in JSON format.\n",
        "\n",
        "The [postcodes API](http://api.postcodes.io/), for example, can be queried by putting a postcode (without spaces) at the *end* of this URL:\n",
        "\n",
        "`http://api.postcodes.io/postcodes/`\n",
        "\n",
        "To ask about the postcode B42 2SU, then, you would add it to the end to form the URL:\n",
        "\n",
        "`http://api.postcodes.io/postcodes/b422su`\n",
        "\n",
        "If you go to that URL you will get a bunch of code in **JSON** - this is the data for that postcode. If you want it to look a bit easier to understand use the browser extension [JSONView](https://chrome.google.com/webstore/detail/jsonview/chklaanhfefbnpoihckbnefhakgolnmc?hl=en).\n",
        "\n"
      ]
    },
    {
      "cell_type": "markdown",
      "metadata": {
        "id": "tPCxnOl9aT3Z"
      },
      "source": [
        "## Importing `pandas` to fetch the data from the API\n",
        "\n",
        "To import JSON files we need to import the `pandas` library. This can load data directly from a URL which we will generate to query the API for JSON data."
      ]
    },
    {
      "cell_type": "code",
      "metadata": {
        "id": "uHoTZvQEM1Sz"
      },
      "source": [
        "#import the pandas library and call it 'pd' for the rest of the notebook\n",
        "import pandas as pd"
      ],
      "execution_count": null,
      "outputs": []
    },
    {
      "cell_type": "markdown",
      "metadata": {
        "id": "79HzyY3zXnyz"
      },
      "source": [
        "## Reading data from an online source\n",
        "\n",
        "The `.read_json()` function from the `pandas` library can be used to import JSON an online source - you just need to use the URL of the file. \n",
        "\n",
        "Below we import JSON [from data.police.uk](https://data.police.uk/docs/method/forces/)"
      ]
    },
    {
      "cell_type": "code",
      "metadata": {
        "colab": {
          "base_uri": "https://localhost:8080/"
        },
        "id": "CAy1PMctXlqx",
        "outputId": "a2f4c32e-53ce-4c42-ae40-622748577fb6"
      },
      "source": [
        "#read in the JSON at the specified URL\n",
        "policedata = pd.read_json(\"https://data.police.uk/api/forces\")\n",
        "#check the type of object created - it's a pandas dataframe\n",
        "print(type(policedata))\n",
        "#show the first 3 rows\n",
        "print(policedata.head(3))"
      ],
      "execution_count": null,
      "outputs": [
        {
          "output_type": "stream",
          "name": "stdout",
          "text": [
            "<class 'pandas.core.frame.DataFrame'>\n",
            "                  id                            name\n",
            "0  avon-and-somerset  Avon and Somerset Constabulary\n",
            "1       bedfordshire             Bedfordshire Police\n",
            "2     cambridgeshire     Cambridgeshire Constabulary\n"
          ]
        }
      ]
    },
    {
      "cell_type": "markdown",
      "metadata": {
        "id": "nwUJFEL4c1lY"
      },
      "source": [
        "This particular data 'request' is very simple: the police API [describes it](https://data.police.uk/docs/method/forces/) as:\n",
        "\n",
        "> \"A list of all the police forces available via the API except the British Transport Police, which is excluded from the list returned. Unique force identifiers obtained here are used in requests for force-specific data via other methods.\"\n",
        "\n",
        "The request doesn't require any particularly specific information - just one URL fetches all the data. That's quite unusual, however - you'll notice most APIs require information about the data you want."
      ]
    },
    {
      "cell_type": "markdown",
      "metadata": {
        "id": "pOUIZP7ode-F"
      },
      "source": [
        "## Querying the postcodes API\n",
        "\n",
        "Back to the postcodes API we introduced at the beginning. \n",
        "\n",
        "Let's store the URL that we mentioned in an object in Python - we'll call it `url`:"
      ]
    },
    {
      "cell_type": "code",
      "metadata": {
        "id": "PJXH84KSaSvN"
      },
      "source": [
        "#store the url for the postcode we want data on\n",
        "url = \"https://api.postcodes.io/postcodes/np108xg\""
      ],
      "execution_count": null,
      "outputs": []
    },
    {
      "cell_type": "markdown",
      "metadata": {
        "id": "_0l6_5jMd1lq"
      },
      "source": [
        "Note that this is only a string of characters - it is *not* the contents that can be found *at* that URL. But now that we've stored that URL address, we are going to grab some data from it."
      ]
    },
    {
      "cell_type": "code",
      "metadata": {
        "colab": {
          "base_uri": "https://localhost:8080/"
        },
        "id": "dzTQXWded_mS",
        "outputId": "e5f033f7-434d-443f-f6e3-501b3aa728ca"
      },
      "source": [
        "#fetch the json from the url\n",
        "json = pd.read_json(\"https://api.postcodes.io/postcodes/np108xg\")\n",
        "#show the keys - there are only 2 at the top level of the JSON\n",
        "print(json.keys())\n",
        "#print it - note there's only 2 columns (sub-branches are ignored)\n",
        "print(json.head())"
      ],
      "execution_count": null,
      "outputs": [
        {
          "output_type": "stream",
          "name": "stdout",
          "text": [
            "Index(['status', 'result'], dtype='object')\n",
            "                status                                 result\n",
            "admin_county       200                                   None\n",
            "admin_district     200                                Newport\n",
            "admin_ward         200                             Marshfield\n",
            "ccg                200  Aneurin Bevan University Health Board\n",
            "ced                200                                   None\n"
          ]
        }
      ]
    },
    {
      "cell_type": "markdown",
      "metadata": {
        "id": "YKkVgy26ePd_"
      },
      "source": [
        "## Drilling into the JSON\n",
        "\n",
        "It's a good idea to have the URL open in a browser at the same time so you can see the structure and work out how to access the bit you're after. Again, you should use Chrome or Firefox with the extension [JSONView](https://chrome.google.com/webstore/detail/jsonview/chklaanhfefbnpoihckbnefhakgolnmc?hl=en) installed, as this makes it a lot easier to understand. (*Tip: hover over any element to see the 'path' to that element in the bottom left corner of the browser*).\n",
        "\n",
        "The JSON itself has a tree-like structure with many different branches. Some parts are actually branches-of-branches. \n",
        "\n",
        "Those branches-of-branches are handled by `pandas` in a couple of different ways by storing them as dictionaries. \n",
        "\n",
        "If we print the contents of that object, you can see those by looking for curly brackets: the `codes` branch, for example, contains the data `{'admin_district': 'E08000025', 'admin_county'...}`\n",
        "\n",
        "Let's try drilling down into the 'codes' part of the data frame to look further:\n"
      ]
    },
    {
      "cell_type": "code",
      "metadata": {
        "colab": {
          "base_uri": "https://localhost:8080/",
          "height": 599
        },
        "id": "NxKTqbarlcE7",
        "outputId": "9d87c276-d3b1-4111-d22c-78aef17e92da"
      },
      "source": [
        "json['codes']"
      ],
      "execution_count": null,
      "outputs": [
        {
          "output_type": "error",
          "ename": "KeyError",
          "evalue": "ignored",
          "traceback": [
            "\u001b[0;31m---------------------------------------------------------------------------\u001b[0m",
            "\u001b[0;31mKeyError\u001b[0m                                  Traceback (most recent call last)",
            "\u001b[0;32m/usr/local/lib/python3.7/dist-packages/pandas/core/indexes/base.py\u001b[0m in \u001b[0;36mget_loc\u001b[0;34m(self, key, method, tolerance)\u001b[0m\n\u001b[1;32m   2897\u001b[0m             \u001b[0;32mtry\u001b[0m\u001b[0;34m:\u001b[0m\u001b[0;34m\u001b[0m\u001b[0;34m\u001b[0m\u001b[0m\n\u001b[0;32m-> 2898\u001b[0;31m                 \u001b[0;32mreturn\u001b[0m \u001b[0mself\u001b[0m\u001b[0;34m.\u001b[0m\u001b[0m_engine\u001b[0m\u001b[0;34m.\u001b[0m\u001b[0mget_loc\u001b[0m\u001b[0;34m(\u001b[0m\u001b[0mcasted_key\u001b[0m\u001b[0;34m)\u001b[0m\u001b[0;34m\u001b[0m\u001b[0;34m\u001b[0m\u001b[0m\n\u001b[0m\u001b[1;32m   2899\u001b[0m             \u001b[0;32mexcept\u001b[0m \u001b[0mKeyError\u001b[0m \u001b[0;32mas\u001b[0m \u001b[0merr\u001b[0m\u001b[0;34m:\u001b[0m\u001b[0;34m\u001b[0m\u001b[0;34m\u001b[0m\u001b[0m\n",
            "\u001b[0;32mpandas/_libs/index.pyx\u001b[0m in \u001b[0;36mpandas._libs.index.IndexEngine.get_loc\u001b[0;34m()\u001b[0m\n",
            "\u001b[0;32mpandas/_libs/index.pyx\u001b[0m in \u001b[0;36mpandas._libs.index.IndexEngine.get_loc\u001b[0;34m()\u001b[0m\n",
            "\u001b[0;32mpandas/_libs/hashtable_class_helper.pxi\u001b[0m in \u001b[0;36mpandas._libs.hashtable.PyObjectHashTable.get_item\u001b[0;34m()\u001b[0m\n",
            "\u001b[0;32mpandas/_libs/hashtable_class_helper.pxi\u001b[0m in \u001b[0;36mpandas._libs.hashtable.PyObjectHashTable.get_item\u001b[0;34m()\u001b[0m\n",
            "\u001b[0;31mKeyError\u001b[0m: 'codes'",
            "\nThe above exception was the direct cause of the following exception:\n",
            "\u001b[0;31mKeyError\u001b[0m                                  Traceback (most recent call last)",
            "\u001b[0;32m<ipython-input-27-b58fcf0a85b6>\u001b[0m in \u001b[0;36m<module>\u001b[0;34m()\u001b[0m\n\u001b[0;32m----> 1\u001b[0;31m \u001b[0mjson\u001b[0m\u001b[0;34m[\u001b[0m\u001b[0;34m'codes'\u001b[0m\u001b[0;34m]\u001b[0m\u001b[0;34m\u001b[0m\u001b[0;34m\u001b[0m\u001b[0m\n\u001b[0m",
            "\u001b[0;32m/usr/local/lib/python3.7/dist-packages/pandas/core/frame.py\u001b[0m in \u001b[0;36m__getitem__\u001b[0;34m(self, key)\u001b[0m\n\u001b[1;32m   2904\u001b[0m             \u001b[0;32mif\u001b[0m \u001b[0mself\u001b[0m\u001b[0;34m.\u001b[0m\u001b[0mcolumns\u001b[0m\u001b[0;34m.\u001b[0m\u001b[0mnlevels\u001b[0m \u001b[0;34m>\u001b[0m \u001b[0;36m1\u001b[0m\u001b[0;34m:\u001b[0m\u001b[0;34m\u001b[0m\u001b[0;34m\u001b[0m\u001b[0m\n\u001b[1;32m   2905\u001b[0m                 \u001b[0;32mreturn\u001b[0m \u001b[0mself\u001b[0m\u001b[0;34m.\u001b[0m\u001b[0m_getitem_multilevel\u001b[0m\u001b[0;34m(\u001b[0m\u001b[0mkey\u001b[0m\u001b[0;34m)\u001b[0m\u001b[0;34m\u001b[0m\u001b[0;34m\u001b[0m\u001b[0m\n\u001b[0;32m-> 2906\u001b[0;31m             \u001b[0mindexer\u001b[0m \u001b[0;34m=\u001b[0m \u001b[0mself\u001b[0m\u001b[0;34m.\u001b[0m\u001b[0mcolumns\u001b[0m\u001b[0;34m.\u001b[0m\u001b[0mget_loc\u001b[0m\u001b[0;34m(\u001b[0m\u001b[0mkey\u001b[0m\u001b[0;34m)\u001b[0m\u001b[0;34m\u001b[0m\u001b[0;34m\u001b[0m\u001b[0m\n\u001b[0m\u001b[1;32m   2907\u001b[0m             \u001b[0;32mif\u001b[0m \u001b[0mis_integer\u001b[0m\u001b[0;34m(\u001b[0m\u001b[0mindexer\u001b[0m\u001b[0;34m)\u001b[0m\u001b[0;34m:\u001b[0m\u001b[0;34m\u001b[0m\u001b[0;34m\u001b[0m\u001b[0m\n\u001b[1;32m   2908\u001b[0m                 \u001b[0mindexer\u001b[0m \u001b[0;34m=\u001b[0m \u001b[0;34m[\u001b[0m\u001b[0mindexer\u001b[0m\u001b[0;34m]\u001b[0m\u001b[0;34m\u001b[0m\u001b[0;34m\u001b[0m\u001b[0m\n",
            "\u001b[0;32m/usr/local/lib/python3.7/dist-packages/pandas/core/indexes/base.py\u001b[0m in \u001b[0;36mget_loc\u001b[0;34m(self, key, method, tolerance)\u001b[0m\n\u001b[1;32m   2898\u001b[0m                 \u001b[0;32mreturn\u001b[0m \u001b[0mself\u001b[0m\u001b[0;34m.\u001b[0m\u001b[0m_engine\u001b[0m\u001b[0;34m.\u001b[0m\u001b[0mget_loc\u001b[0m\u001b[0;34m(\u001b[0m\u001b[0mcasted_key\u001b[0m\u001b[0;34m)\u001b[0m\u001b[0;34m\u001b[0m\u001b[0;34m\u001b[0m\u001b[0m\n\u001b[1;32m   2899\u001b[0m             \u001b[0;32mexcept\u001b[0m \u001b[0mKeyError\u001b[0m \u001b[0;32mas\u001b[0m \u001b[0merr\u001b[0m\u001b[0;34m:\u001b[0m\u001b[0;34m\u001b[0m\u001b[0;34m\u001b[0m\u001b[0m\n\u001b[0;32m-> 2900\u001b[0;31m                 \u001b[0;32mraise\u001b[0m \u001b[0mKeyError\u001b[0m\u001b[0;34m(\u001b[0m\u001b[0mkey\u001b[0m\u001b[0;34m)\u001b[0m \u001b[0;32mfrom\u001b[0m \u001b[0merr\u001b[0m\u001b[0;34m\u001b[0m\u001b[0;34m\u001b[0m\u001b[0m\n\u001b[0m\u001b[1;32m   2901\u001b[0m \u001b[0;34m\u001b[0m\u001b[0m\n\u001b[1;32m   2902\u001b[0m         \u001b[0;32mif\u001b[0m \u001b[0mtolerance\u001b[0m \u001b[0;32mis\u001b[0m \u001b[0;32mnot\u001b[0m \u001b[0;32mNone\u001b[0m\u001b[0;34m:\u001b[0m\u001b[0;34m\u001b[0m\u001b[0;34m\u001b[0m\u001b[0m\n",
            "\u001b[0;31mKeyError\u001b[0m: 'codes'"
          ]
        }
      ]
    },
    {
      "cell_type": "markdown",
      "metadata": {
        "id": "uCUsH3nZlbMT"
      },
      "source": [
        "### What does `KeyError` mean?\n",
        "\n",
        "We get an error, specifically a `KeyError` for 'codes', meaning that it cannot find a key with that name. Why?\n",
        "\n",
        "If you check the page of JSON we grabbed this data from, you will see that actually the first two branches of the JSON data are 'status' and 'result' - the 'codes' branch doesn't come until *within* the 'result' branch.\n",
        "\n",
        "What has happened is that `pandas` has treated those first two branches as the two columns of data. That's why our data has two problems: first, a column full of `200` which we don't need; and secondly, a data structure which is not ideal: what we would like to be column headings are actually at the start of each row.\n",
        "\n",
        "Let's try to drill down into the 'result' branch instead:"
      ]
    },
    {
      "cell_type": "code",
      "metadata": {
        "colab": {
          "base_uri": "https://localhost:8080/"
        },
        "id": "0f4clG-8E-Dm",
        "outputId": "bfa8ed03-1536-4c51-b1d5-e9855601e2a7"
      },
      "source": [
        "#show the 'result' branch of the dataframe 'json'\n",
        "json['result']"
      ],
      "execution_count": null,
      "outputs": [
        {
          "output_type": "execute_result",
          "data": {
            "text/plain": [
              "admin_county                                                               None\n",
              "admin_district                                                          Newport\n",
              "admin_ward                                                           Marshfield\n",
              "ccg                                       Aneurin Bevan University Health Board\n",
              "ced                                                                        None\n",
              "codes                         {'admin_district': 'W06000022', 'admin_county'...\n",
              "country                                                                   Wales\n",
              "eastings                                                                 328897\n",
              "european_electoral_region                                                 Wales\n",
              "incode                                                                      8XG\n",
              "latitude                                                               51.56632\n",
              "longitude                                                             -3.027217\n",
              "lsoa                                                               Newport 020F\n",
              "msoa                                                                Newport 020\n",
              "nhs_ha                                    Aneurin Bevan University Health Board\n",
              "northings                                                                185772\n",
              "nuts                                                  Monmouthshire and Newport\n",
              "outcode                                                                    NP10\n",
              "parish                                                               Coedkernew\n",
              "parliamentary_constituency                                         Newport West\n",
              "postcode                                                               NP10 8XG\n",
              "primary_care_trust                        Aneurin Bevan University Health Board\n",
              "quality                                                                       1\n",
              "region                                                                     None\n",
              "Name: result, dtype: object"
            ]
          },
          "metadata": {},
          "execution_count": 13
        }
      ]
    },
    {
      "cell_type": "markdown",
      "source": [
        "### Showing the `.keys()` within the current branch\n",
        "\n",
        "We can also add `.keys()` on to the end of that to see what fields (sub-branches) there are within *this* branch."
      ],
      "metadata": {
        "id": "xrRxzFkSE5mY"
      }
    },
    {
      "cell_type": "code",
      "metadata": {
        "colab": {
          "base_uri": "https://localhost:8080/"
        },
        "id": "y3u22G7jmR73",
        "outputId": "8a0d6850-b1f3-481d-c237-70458df706b6"
      },
      "source": [
        "#show the keys of the 'result' branch \n",
        "print(json['result'].keys())"
      ],
      "execution_count": null,
      "outputs": [
        {
          "output_type": "stream",
          "name": "stdout",
          "text": [
            "Index(['admin_county', 'admin_district', 'admin_ward', 'ccg', 'ced', 'codes',\n",
            "       'country', 'eastings', 'european_electoral_region', 'incode',\n",
            "       'latitude', 'longitude', 'lsoa', 'msoa', 'nhs_ha', 'northings', 'nuts',\n",
            "       'outcode', 'parish', 'parliamentary_constituency', 'postcode',\n",
            "       'primary_care_trust', 'quality', 'region'],\n",
            "      dtype='object')\n"
          ]
        }
      ]
    },
    {
      "cell_type": "markdown",
      "metadata": {
        "id": "WxYFW-QrmbAy"
      },
      "source": [
        "### Drilling down two levels\n",
        "\n",
        "Then let's try to go from there to 'codes':"
      ]
    },
    {
      "cell_type": "code",
      "metadata": {
        "colab": {
          "base_uri": "https://localhost:8080/"
        },
        "id": "w4nL4HR0mfFq",
        "outputId": "42f6c950-d9d9-45cf-8c80-63212f499b71"
      },
      "source": [
        "#drill down into the 'result' branch and then the 'codes' sub-branch\n",
        "json['result']['codes']"
      ],
      "execution_count": null,
      "outputs": [
        {
          "output_type": "execute_result",
          "data": {
            "text/plain": [
              "{'admin_county': 'E99999999',\n",
              " 'admin_district': 'E08000025',\n",
              " 'admin_ward': 'E05011155',\n",
              " 'ccg': 'E38000220',\n",
              " 'ccg_id': '15E',\n",
              " 'ced': 'E99999999',\n",
              " 'lau2': 'E08000025',\n",
              " 'lsoa': 'E01033561',\n",
              " 'msoa': 'E02001876',\n",
              " 'nuts': 'TLG31',\n",
              " 'parish': 'E43000250',\n",
              " 'parliamentary_constituency': 'E14000564'}"
            ]
          },
          "metadata": {},
          "execution_count": 30
        }
      ]
    },
    {
      "cell_type": "markdown",
      "metadata": {
        "id": "AyE2Jbn8mgHQ"
      },
      "source": [
        "### Drilling down three levels\n",
        "\n",
        "And further still into the CCG code stored in 'ccg':"
      ]
    },
    {
      "cell_type": "code",
      "metadata": {
        "colab": {
          "base_uri": "https://localhost:8080/",
          "height": 36
        },
        "id": "8iJjc1j-e53B",
        "outputId": "fd9f2272-3cd9-4618-92cf-61644f5501db"
      },
      "source": [
        "#drill down into the 'result' branch and then the 'codes' sub-branch\n",
        "#and then the 'ccg' sub-sub-branch!\n",
        "json['result']['codes']['ccg']"
      ],
      "execution_count": null,
      "outputs": [
        {
          "output_type": "execute_result",
          "data": {
            "application/vnd.google.colaboratory.intrinsic+json": {
              "type": "string"
            },
            "text/plain": [
              "'E38000220'"
            ]
          },
          "metadata": {},
          "execution_count": 15
        }
      ]
    },
    {
      "cell_type": "markdown",
      "metadata": {
        "id": "wDttTKA4mn8j"
      },
      "source": [
        "If we wanted to grab the CCG code for a bunch of postcodes, this is how we might do it:\n",
        "\n",
        "* Loop through the postcodes\n",
        "* Generate a URL by adding that postcode to the end of the 'base' API query\n",
        "* Fetch the JSON generated at that URL\n",
        "* Drill down into the 'results > codes > ccg' branch of that JSON to get the data we need\n",
        "* Add it to a data frame alongside the postcode\n",
        "* Repeat!"
      ]
    },
    {
      "cell_type": "markdown",
      "metadata": {
        "id": "uXpMDU_Bgi6B"
      },
      "source": [
        "## Forming a 'request' for the police data API\n",
        "\n",
        "The [Police API documentation](https://data.police.uk/docs/) has a number of 'methods' that you can use to request data from their API. \n",
        "\n",
        "The '[crimes at location](https://data.police.uk/docs/method/crimes-at-location/)' method allows you to ask for data on crimes based on the location ID, or a latitude and longitude. An example is given for data from February 2017:\n",
        "\n",
        "`https://data.police.uk/api/crimes-at-location?date=2017-02&lat=52.629729&lng=-1.131592`\n",
        "\n",
        "However, that date is now so long ago that the URL doesn't actually work. Instead, change the year to 2021 to see a working example:\n",
        "\n",
        "`https://data.police.uk/api/crimes-at-location?date=2021-02&lat=52.629729&lng=-1.131592`\n",
        "\n",
        "Let's fetch that data."
      ]
    },
    {
      "cell_type": "code",
      "metadata": {
        "colab": {
          "base_uri": "https://localhost:8080/"
        },
        "id": "MJhCvdqrkRoP",
        "outputId": "6d22084b-3fda-4eca-cd8a-9fffc6a2e3d4"
      },
      "source": [
        "#store the URL\n",
        "jsonurl = \"https://data.police.uk/api/crimes-at-location?date=2022-02&lat=52.629729&lng=-1.131592\"\n",
        "#read the JSON at that URL into a variable\n",
        "crimedata = pd.read_json(jsonurl)\n",
        "#print it\n",
        "print(crimedata)"
      ],
      "execution_count": null,
      "outputs": [
        {
          "output_type": "stream",
          "name": "stdout",
          "text": [
            "                category location_type  \\\n",
            "0  possession-of-weapons         Force   \n",
            "1           public-order         Force   \n",
            "2           public-order         Force   \n",
            "\n",
            "                                            location context  \\\n",
            "0  {'latitude': '52.629909', 'street': {'id': 883...           \n",
            "1  {'latitude': '52.629909', 'street': {'id': 883...           \n",
            "2  {'latitude': '52.629909', 'street': {'id': 883...           \n",
            "\n",
            "                                      outcome_status  \\\n",
            "0  {'category': 'Unable to prosecute suspect', 'd...   \n",
            "1  {'category': 'Under investigation', 'date': '2...   \n",
            "2  {'category': 'Investigation complete; no suspe...   \n",
            "\n",
            "                                       persistent_id        id  \\\n",
            "0  5c57f25d5a2ed17462e08584bb53afb3ac7476868e0918...  99557405   \n",
            "1  69e04fe7c5e20a2fdb5cefb9c8045c88a8c62ec7220fd6...  99558269   \n",
            "2  33337d87ccfef036ecbfb8f5a21de1c48c76a4aae74752...  99561304   \n",
            "\n",
            "  location_subtype    month  \n",
            "0                   2022-02  \n",
            "1                   2022-02  \n",
            "2                   2022-02  \n"
          ]
        }
      ]
    },
    {
      "cell_type": "code",
      "source": [
        "#show the keys - note that these are only the top-level branches\n",
        "print(crimedata.keys())"
      ],
      "metadata": {
        "colab": {
          "base_uri": "https://localhost:8080/"
        },
        "id": "EgcUfU8HMKTV",
        "outputId": "4aeabf9b-91d5-401f-b0fc-627278b53929"
      },
      "execution_count": null,
      "outputs": [
        {
          "output_type": "stream",
          "name": "stdout",
          "text": [
            "Index(['category', 'location_type', 'location', 'context', 'outcome_status',\n",
            "       'persistent_id', 'id', 'location_subtype', 'month'],\n",
            "      dtype='object')\n"
          ]
        }
      ]
    },
    {
      "cell_type": "markdown",
      "metadata": {
        "id": "Q31mbQeknHkN"
      },
      "source": [
        "### Drilling down into a branch of that\n",
        "\n",
        "Now let's try to drill down into it to see the 'location' branch, because we know from the JSON at that URL it contains further sub-branches.\n",
        "\n",
        "This branch is now a *column*."
      ]
    },
    {
      "cell_type": "code",
      "metadata": {
        "colab": {
          "base_uri": "https://localhost:8080/"
        },
        "id": "AP9d9vaXkaQV",
        "outputId": "7c1e2802-efc8-404f-df21-131a3a07c8c2"
      },
      "source": [
        "#show the location branch\n",
        "print(crimedata['location'])"
      ],
      "execution_count": null,
      "outputs": [
        {
          "output_type": "stream",
          "name": "stdout",
          "text": [
            "0    {'latitude': '52.629909', 'street': {'id': 883...\n",
            "1    {'latitude': '52.629909', 'street': {'id': 883...\n",
            "2    {'latitude': '52.629909', 'street': {'id': 883...\n",
            "Name: location, dtype: object\n"
          ]
        }
      ]
    },
    {
      "cell_type": "markdown",
      "metadata": {
        "id": "c7EAWZ4-nPPB"
      },
      "source": [
        "### Drilling down into a sub-branch - `KeyError`\n",
        "\n",
        "I want to draw your attention to the fact that there are **multiple items** in this branch. \n",
        "\n",
        "This is important when we get an error if we try to drill down further..."
      ]
    },
    {
      "cell_type": "code",
      "metadata": {
        "colab": {
          "base_uri": "https://localhost:8080/",
          "height": 329
        },
        "id": "C451c0Gkk8JN",
        "outputId": "91dfa499-2bf1-4ad9-f71a-5be547c9b31c"
      },
      "source": [
        "#attempt to drill down into the 'street' sub-branch\n",
        "print(crimedata['location']['street'])"
      ],
      "execution_count": null,
      "outputs": [
        {
          "output_type": "error",
          "ename": "KeyError",
          "evalue": "ignored",
          "traceback": [
            "\u001b[0;31m---------------------------------------------------------------------------\u001b[0m",
            "\u001b[0;31mKeyError\u001b[0m                                  Traceback (most recent call last)",
            "\u001b[0;32m<ipython-input-12-971e8b99dbbc>\u001b[0m in \u001b[0;36m<module>\u001b[0;34m()\u001b[0m\n\u001b[0;32m----> 1\u001b[0;31m \u001b[0mprint\u001b[0m\u001b[0;34m(\u001b[0m\u001b[0mcrimedata\u001b[0m\u001b[0;34m[\u001b[0m\u001b[0;34m'location'\u001b[0m\u001b[0;34m]\u001b[0m\u001b[0;34m[\u001b[0m\u001b[0;34m'street'\u001b[0m\u001b[0;34m]\u001b[0m\u001b[0;34m)\u001b[0m\u001b[0;34m\u001b[0m\u001b[0;34m\u001b[0m\u001b[0m\n\u001b[0m",
            "\u001b[0;32m/usr/local/lib/python3.7/dist-packages/pandas/core/series.py\u001b[0m in \u001b[0;36m__getitem__\u001b[0;34m(self, key)\u001b[0m\n\u001b[1;32m    940\u001b[0m \u001b[0;34m\u001b[0m\u001b[0m\n\u001b[1;32m    941\u001b[0m         \u001b[0;32melif\u001b[0m \u001b[0mkey_is_scalar\u001b[0m\u001b[0;34m:\u001b[0m\u001b[0;34m\u001b[0m\u001b[0;34m\u001b[0m\u001b[0m\n\u001b[0;32m--> 942\u001b[0;31m             \u001b[0;32mreturn\u001b[0m \u001b[0mself\u001b[0m\u001b[0;34m.\u001b[0m\u001b[0m_get_value\u001b[0m\u001b[0;34m(\u001b[0m\u001b[0mkey\u001b[0m\u001b[0;34m)\u001b[0m\u001b[0;34m\u001b[0m\u001b[0;34m\u001b[0m\u001b[0m\n\u001b[0m\u001b[1;32m    943\u001b[0m \u001b[0;34m\u001b[0m\u001b[0m\n\u001b[1;32m    944\u001b[0m         \u001b[0;32mif\u001b[0m \u001b[0mis_hashable\u001b[0m\u001b[0;34m(\u001b[0m\u001b[0mkey\u001b[0m\u001b[0;34m)\u001b[0m\u001b[0;34m:\u001b[0m\u001b[0;34m\u001b[0m\u001b[0;34m\u001b[0m\u001b[0m\n",
            "\u001b[0;32m/usr/local/lib/python3.7/dist-packages/pandas/core/series.py\u001b[0m in \u001b[0;36m_get_value\u001b[0;34m(self, label, takeable)\u001b[0m\n\u001b[1;32m   1049\u001b[0m \u001b[0;34m\u001b[0m\u001b[0m\n\u001b[1;32m   1050\u001b[0m         \u001b[0;31m# Similar to Index.get_value, but we do not fall back to positional\u001b[0m\u001b[0;34m\u001b[0m\u001b[0;34m\u001b[0m\u001b[0;34m\u001b[0m\u001b[0m\n\u001b[0;32m-> 1051\u001b[0;31m         \u001b[0mloc\u001b[0m \u001b[0;34m=\u001b[0m \u001b[0mself\u001b[0m\u001b[0;34m.\u001b[0m\u001b[0mindex\u001b[0m\u001b[0;34m.\u001b[0m\u001b[0mget_loc\u001b[0m\u001b[0;34m(\u001b[0m\u001b[0mlabel\u001b[0m\u001b[0;34m)\u001b[0m\u001b[0;34m\u001b[0m\u001b[0;34m\u001b[0m\u001b[0m\n\u001b[0m\u001b[1;32m   1052\u001b[0m         \u001b[0;32mreturn\u001b[0m \u001b[0mself\u001b[0m\u001b[0;34m.\u001b[0m\u001b[0mindex\u001b[0m\u001b[0;34m.\u001b[0m\u001b[0m_get_values_for_loc\u001b[0m\u001b[0;34m(\u001b[0m\u001b[0mself\u001b[0m\u001b[0;34m,\u001b[0m \u001b[0mloc\u001b[0m\u001b[0;34m,\u001b[0m \u001b[0mlabel\u001b[0m\u001b[0;34m)\u001b[0m\u001b[0;34m\u001b[0m\u001b[0;34m\u001b[0m\u001b[0m\n\u001b[1;32m   1053\u001b[0m \u001b[0;34m\u001b[0m\u001b[0m\n",
            "\u001b[0;32m/usr/local/lib/python3.7/dist-packages/pandas/core/indexes/range.py\u001b[0m in \u001b[0;36mget_loc\u001b[0;34m(self, key, method, tolerance)\u001b[0m\n\u001b[1;32m    386\u001b[0m                 \u001b[0;32mexcept\u001b[0m \u001b[0mValueError\u001b[0m \u001b[0;32mas\u001b[0m \u001b[0merr\u001b[0m\u001b[0;34m:\u001b[0m\u001b[0;34m\u001b[0m\u001b[0;34m\u001b[0m\u001b[0m\n\u001b[1;32m    387\u001b[0m                     \u001b[0;32mraise\u001b[0m \u001b[0mKeyError\u001b[0m\u001b[0;34m(\u001b[0m\u001b[0mkey\u001b[0m\u001b[0;34m)\u001b[0m \u001b[0;32mfrom\u001b[0m \u001b[0merr\u001b[0m\u001b[0;34m\u001b[0m\u001b[0;34m\u001b[0m\u001b[0m\n\u001b[0;32m--> 388\u001b[0;31m             \u001b[0;32mraise\u001b[0m \u001b[0mKeyError\u001b[0m\u001b[0;34m(\u001b[0m\u001b[0mkey\u001b[0m\u001b[0;34m)\u001b[0m\u001b[0;34m\u001b[0m\u001b[0;34m\u001b[0m\u001b[0m\n\u001b[0m\u001b[1;32m    389\u001b[0m         \u001b[0;32mreturn\u001b[0m \u001b[0msuper\u001b[0m\u001b[0;34m(\u001b[0m\u001b[0;34m)\u001b[0m\u001b[0;34m.\u001b[0m\u001b[0mget_loc\u001b[0m\u001b[0;34m(\u001b[0m\u001b[0mkey\u001b[0m\u001b[0;34m,\u001b[0m \u001b[0mmethod\u001b[0m\u001b[0;34m=\u001b[0m\u001b[0mmethod\u001b[0m\u001b[0;34m,\u001b[0m \u001b[0mtolerance\u001b[0m\u001b[0;34m=\u001b[0m\u001b[0mtolerance\u001b[0m\u001b[0;34m)\u001b[0m\u001b[0;34m\u001b[0m\u001b[0;34m\u001b[0m\u001b[0m\n\u001b[1;32m    390\u001b[0m \u001b[0;34m\u001b[0m\u001b[0m\n",
            "\u001b[0;31mKeyError\u001b[0m: 'street'"
          ]
        }
      ]
    },
    {
      "cell_type": "markdown",
      "metadata": {
        "id": "l-DY8zdyk-35"
      },
      "source": [
        "We get an error here - a `KeyError`. Why? \n",
        "\n",
        "Let's use the `.keys()` method to see what the keys actually *are* in the `location` branch."
      ]
    },
    {
      "cell_type": "code",
      "metadata": {
        "colab": {
          "base_uri": "https://localhost:8080/"
        },
        "id": "4E4ufG4Hkk83",
        "outputId": "5259ea55-d9c3-4c65-beb4-7148ea6ae23b"
      },
      "source": [
        "#show the keys for 'crimedata'\n",
        "crimedata['location'].keys()"
      ],
      "execution_count": null,
      "outputs": [
        {
          "output_type": "execute_result",
          "data": {
            "text/plain": [
              "RangeIndex(start=0, stop=3, step=1)"
            ]
          },
          "metadata": {},
          "execution_count": 25
        }
      ]
    },
    {
      "cell_type": "markdown",
      "source": [
        "What we are seeing here is that the `'location'` branch doesn't have the keys that we might have expected. None of those keys is 'street', which is why we are getting an error, even though we *did* see 'street' as a branch in the JSON. \n",
        "\n",
        "Something has happened when we imported the JSON into a dataframe.\n",
        "\n",
        "So what are we seeing?\n",
        "\n",
        "This is telling us that when you get to `'location'` you are dealing with a **range** - put another way, a list of items, starting with item index 0, and stopping before 3. If we want to access those items we will have to use an index like `[0]` or `[1]` or `[2]`.\n",
        "\n",
        "A clue to this was the output of `print(crimedata['location'])` earlier: it was a **series** of rows, one starting with 0 and another with 1 before the keys appeared. \n",
        "\n",
        "So we should try an index instead."
      ],
      "metadata": {
        "id": "FP-jEOuvQzdB"
      }
    },
    {
      "cell_type": "code",
      "metadata": {
        "colab": {
          "base_uri": "https://localhost:8080/"
        },
        "id": "mX7anq-ykfLX",
        "outputId": "0bc75245-185e-455b-f10d-d0d80b40fe74"
      },
      "source": [
        "#access the 'location' key of 'crimedata' and then the item at index 0\n",
        "print(crimedata['location'][0])"
      ],
      "execution_count": null,
      "outputs": [
        {
          "output_type": "stream",
          "name": "stdout",
          "text": [
            "{'latitude': '52.629909', 'street': {'id': 883345, 'name': 'On or near Marquis Street'}, 'longitude': '-1.132073'}\n"
          ]
        }
      ]
    },
    {
      "cell_type": "markdown",
      "metadata": {
        "id": "JFcDA0GanTUf"
      },
      "source": [
        "That seems to work. Now instead of seeing two rows of data we just see the first one, and there are no indices at the start of each line.\n",
        "\n",
        "We also see something that looks more like a dictionary object, i.e. something with keys. \n",
        "\n",
        "And we can test this again by using `.keys()`"
      ]
    },
    {
      "cell_type": "code",
      "source": [
        "#show the keys of the item at index 0 in the 'location' branch\n",
        "crimedata['location'][0].keys()"
      ],
      "metadata": {
        "colab": {
          "base_uri": "https://localhost:8080/"
        },
        "id": "edfyXmK2SdYI",
        "outputId": "d7b06d82-77f2-4023-a896-2b2b01b7ef36"
      },
      "execution_count": null,
      "outputs": [
        {
          "output_type": "execute_result",
          "data": {
            "text/plain": [
              "dict_keys(['latitude', 'street', 'longitude'])"
            ]
          },
          "metadata": {},
          "execution_count": 27
        }
      ]
    },
    {
      "cell_type": "markdown",
      "source": [
        "This is what we expected to see earlier. Can we now drill down further into that 'street' branch *for that row*?"
      ],
      "metadata": {
        "id": "cbzNS7SvSiuq"
      }
    },
    {
      "cell_type": "code",
      "metadata": {
        "colab": {
          "base_uri": "https://localhost:8080/"
        },
        "id": "E4MNxeS5kxQW",
        "outputId": "41118aae-a6f1-44ce-d2c1-60ced0438793"
      },
      "source": [
        "print(crimedata['location'][0]['street'])"
      ],
      "execution_count": null,
      "outputs": [
        {
          "output_type": "stream",
          "name": "stdout",
          "text": [
            "{'id': 883345, 'name': 'On or near Marquis Street'}\n"
          ]
        }
      ]
    },
    {
      "cell_type": "markdown",
      "metadata": {
        "id": "Nj25HCsIncvG"
      },
      "source": [
        "Yes. And drill down once more into the final level of data?"
      ]
    },
    {
      "cell_type": "code",
      "metadata": {
        "colab": {
          "base_uri": "https://localhost:8080/"
        },
        "id": "M5YPbhKyk44J",
        "outputId": "f098b3fb-b2a8-4f40-a119-c96850562dd1"
      },
      "source": [
        "print(crimedata['location'][0]['street']['name'])"
      ],
      "execution_count": null,
      "outputs": [
        {
          "output_type": "stream",
          "name": "stdout",
          "text": [
            "On or near Marquis Street\n"
          ]
        }
      ]
    },
    {
      "cell_type": "markdown",
      "metadata": {
        "id": "PczwU2XFj5ih"
      },
      "source": [
        "## Using `json_normalize`\n",
        "\n",
        "An alternative is to [use a function called `json_normalize`](https://hackersandslackers.com/json-into-pandas-dataframes/)."
      ]
    },
    {
      "cell_type": "markdown",
      "metadata": {
        "id": "TfC0VLlcmF3C"
      },
      "source": [
        "If we try to use it on the whole dataframe we get an empty dataframe."
      ]
    },
    {
      "cell_type": "code",
      "metadata": {
        "colab": {
          "base_uri": "https://localhost:8080/",
          "height": 346
        },
        "id": "eIMEnz8dmH_0",
        "outputId": "ea324932-db1c-41c3-fb15-1d4455b84d2a"
      },
      "source": [
        "pd.json_normalize(crimedata)"
      ],
      "execution_count": 39,
      "outputs": [
        {
          "output_type": "execute_result",
          "data": {
            "text/plain": [
              "Empty DataFrame\n",
              "Columns: []\n",
              "Index: [0, 1, 2, 3, 4, 5, 6, 7, 8, 9]"
            ],
            "text/html": [
              "\n",
              "  <div id=\"df-b80dc8c2-0182-44cc-b5ac-b5a4c5ddd27e\">\n",
              "    <div class=\"colab-df-container\">\n",
              "      <div>\n",
              "<style scoped>\n",
              "    .dataframe tbody tr th:only-of-type {\n",
              "        vertical-align: middle;\n",
              "    }\n",
              "\n",
              "    .dataframe tbody tr th {\n",
              "        vertical-align: top;\n",
              "    }\n",
              "\n",
              "    .dataframe thead th {\n",
              "        text-align: right;\n",
              "    }\n",
              "</style>\n",
              "<table border=\"1\" class=\"dataframe\">\n",
              "  <thead>\n",
              "    <tr style=\"text-align: right;\">\n",
              "      <th></th>\n",
              "    </tr>\n",
              "  </thead>\n",
              "  <tbody>\n",
              "    <tr>\n",
              "      <th>0</th>\n",
              "    </tr>\n",
              "    <tr>\n",
              "      <th>1</th>\n",
              "    </tr>\n",
              "    <tr>\n",
              "      <th>2</th>\n",
              "    </tr>\n",
              "    <tr>\n",
              "      <th>3</th>\n",
              "    </tr>\n",
              "    <tr>\n",
              "      <th>4</th>\n",
              "    </tr>\n",
              "    <tr>\n",
              "      <th>5</th>\n",
              "    </tr>\n",
              "    <tr>\n",
              "      <th>6</th>\n",
              "    </tr>\n",
              "    <tr>\n",
              "      <th>7</th>\n",
              "    </tr>\n",
              "    <tr>\n",
              "      <th>8</th>\n",
              "    </tr>\n",
              "    <tr>\n",
              "      <th>9</th>\n",
              "    </tr>\n",
              "  </tbody>\n",
              "</table>\n",
              "</div>\n",
              "      <button class=\"colab-df-convert\" onclick=\"convertToInteractive('df-b80dc8c2-0182-44cc-b5ac-b5a4c5ddd27e')\"\n",
              "              title=\"Convert this dataframe to an interactive table.\"\n",
              "              style=\"display:none;\">\n",
              "        \n",
              "  <svg xmlns=\"http://www.w3.org/2000/svg\" height=\"24px\"viewBox=\"0 0 24 24\"\n",
              "       width=\"24px\">\n",
              "    <path d=\"M0 0h24v24H0V0z\" fill=\"none\"/>\n",
              "    <path d=\"M18.56 5.44l.94 2.06.94-2.06 2.06-.94-2.06-.94-.94-2.06-.94 2.06-2.06.94zm-11 1L8.5 8.5l.94-2.06 2.06-.94-2.06-.94L8.5 2.5l-.94 2.06-2.06.94zm10 10l.94 2.06.94-2.06 2.06-.94-2.06-.94-.94-2.06-.94 2.06-2.06.94z\"/><path d=\"M17.41 7.96l-1.37-1.37c-.4-.4-.92-.59-1.43-.59-.52 0-1.04.2-1.43.59L10.3 9.45l-7.72 7.72c-.78.78-.78 2.05 0 2.83L4 21.41c.39.39.9.59 1.41.59.51 0 1.02-.2 1.41-.59l7.78-7.78 2.81-2.81c.8-.78.8-2.07 0-2.86zM5.41 20L4 18.59l7.72-7.72 1.47 1.35L5.41 20z\"/>\n",
              "  </svg>\n",
              "      </button>\n",
              "      \n",
              "  <style>\n",
              "    .colab-df-container {\n",
              "      display:flex;\n",
              "      flex-wrap:wrap;\n",
              "      gap: 12px;\n",
              "    }\n",
              "\n",
              "    .colab-df-convert {\n",
              "      background-color: #E8F0FE;\n",
              "      border: none;\n",
              "      border-radius: 50%;\n",
              "      cursor: pointer;\n",
              "      display: none;\n",
              "      fill: #1967D2;\n",
              "      height: 32px;\n",
              "      padding: 0 0 0 0;\n",
              "      width: 32px;\n",
              "    }\n",
              "\n",
              "    .colab-df-convert:hover {\n",
              "      background-color: #E2EBFA;\n",
              "      box-shadow: 0px 1px 2px rgba(60, 64, 67, 0.3), 0px 1px 3px 1px rgba(60, 64, 67, 0.15);\n",
              "      fill: #174EA6;\n",
              "    }\n",
              "\n",
              "    [theme=dark] .colab-df-convert {\n",
              "      background-color: #3B4455;\n",
              "      fill: #D2E3FC;\n",
              "    }\n",
              "\n",
              "    [theme=dark] .colab-df-convert:hover {\n",
              "      background-color: #434B5C;\n",
              "      box-shadow: 0px 1px 3px 1px rgba(0, 0, 0, 0.15);\n",
              "      filter: drop-shadow(0px 1px 2px rgba(0, 0, 0, 0.3));\n",
              "      fill: #FFFFFF;\n",
              "    }\n",
              "  </style>\n",
              "\n",
              "      <script>\n",
              "        const buttonEl =\n",
              "          document.querySelector('#df-b80dc8c2-0182-44cc-b5ac-b5a4c5ddd27e button.colab-df-convert');\n",
              "        buttonEl.style.display =\n",
              "          google.colab.kernel.accessAllowed ? 'block' : 'none';\n",
              "\n",
              "        async function convertToInteractive(key) {\n",
              "          const element = document.querySelector('#df-b80dc8c2-0182-44cc-b5ac-b5a4c5ddd27e');\n",
              "          const dataTable =\n",
              "            await google.colab.kernel.invokeFunction('convertToInteractive',\n",
              "                                                     [key], {});\n",
              "          if (!dataTable) return;\n",
              "\n",
              "          const docLinkHtml = 'Like what you see? Visit the ' +\n",
              "            '<a target=\"_blank\" href=https://colab.research.google.com/notebooks/data_table.ipynb>data table notebook</a>'\n",
              "            + ' to learn more about interactive tables.';\n",
              "          element.innerHTML = '';\n",
              "          dataTable['output_type'] = 'display_data';\n",
              "          await google.colab.output.renderOutput(dataTable, element);\n",
              "          const docLink = document.createElement('div');\n",
              "          docLink.innerHTML = docLinkHtml;\n",
              "          element.appendChild(docLink);\n",
              "        }\n",
              "      </script>\n",
              "    </div>\n",
              "  </div>\n",
              "  "
            ]
          },
          "metadata": {},
          "execution_count": 39
        }
      ]
    },
    {
      "cell_type": "markdown",
      "metadata": {
        "id": "rG43W3z7lwmm"
      },
      "source": [
        "Instead we need to drill down one level to extract the locations and try those instead."
      ]
    },
    {
      "cell_type": "code",
      "metadata": {
        "colab": {
          "base_uri": "https://localhost:8080/"
        },
        "id": "dRiUKSgskHE6",
        "outputId": "24dfbdf6-ba5e-4b47-e22b-b67635224f41"
      },
      "source": [
        "#extract the data under the 'location' key\n",
        "locations = crimedata['location']\n",
        "#show what this branch looks like\n",
        "locations"
      ],
      "execution_count": null,
      "outputs": [
        {
          "output_type": "execute_result",
          "data": {
            "text/plain": [
              "0    {'latitude': '52.629909', 'street': {'id': 883...\n",
              "1    {'latitude': '52.629909', 'street': {'id': 883...\n",
              "Name: location, dtype: object"
            ]
          },
          "metadata": {},
          "execution_count": 19
        }
      ]
    },
    {
      "cell_type": "markdown",
      "metadata": {
        "id": "0oOkXXpMmk01"
      },
      "source": [
        "You can see that the structure above still includes nested branches (e.g. 'street' has an 'id' and 'name').\n",
        "\n",
        "But when we use `json_normalize()` that structure gets flattened: the two nested branches are brought to the same level, as `street.id` and `street.name`, the period indicating that in the original json they existed *within* street. "
      ]
    },
    {
      "cell_type": "code",
      "metadata": {
        "colab": {
          "base_uri": "https://localhost:8080/",
          "height": 143
        },
        "id": "6eSqIqahlp3A",
        "outputId": "387079ad-3015-422c-f49b-a43260be3ccc"
      },
      "source": [
        "#use json_normalize on the 'location' column/branches of our dataframe\n",
        "pd.json_normalize(crimedata['location'])"
      ],
      "execution_count": 38,
      "outputs": [
        {
          "output_type": "execute_result",
          "data": {
            "text/plain": [
              "    latitude  longitude  street.id                street.name\n",
              "0  52.629909  -1.132073     883345  On or near Marquis Street\n",
              "1  52.629909  -1.132073     883345  On or near Marquis Street\n",
              "2  52.629909  -1.132073     883345  On or near Marquis Street"
            ],
            "text/html": [
              "\n",
              "  <div id=\"df-f6e992f9-715d-4943-b7e1-d7649fb75319\">\n",
              "    <div class=\"colab-df-container\">\n",
              "      <div>\n",
              "<style scoped>\n",
              "    .dataframe tbody tr th:only-of-type {\n",
              "        vertical-align: middle;\n",
              "    }\n",
              "\n",
              "    .dataframe tbody tr th {\n",
              "        vertical-align: top;\n",
              "    }\n",
              "\n",
              "    .dataframe thead th {\n",
              "        text-align: right;\n",
              "    }\n",
              "</style>\n",
              "<table border=\"1\" class=\"dataframe\">\n",
              "  <thead>\n",
              "    <tr style=\"text-align: right;\">\n",
              "      <th></th>\n",
              "      <th>latitude</th>\n",
              "      <th>longitude</th>\n",
              "      <th>street.id</th>\n",
              "      <th>street.name</th>\n",
              "    </tr>\n",
              "  </thead>\n",
              "  <tbody>\n",
              "    <tr>\n",
              "      <th>0</th>\n",
              "      <td>52.629909</td>\n",
              "      <td>-1.132073</td>\n",
              "      <td>883345</td>\n",
              "      <td>On or near Marquis Street</td>\n",
              "    </tr>\n",
              "    <tr>\n",
              "      <th>1</th>\n",
              "      <td>52.629909</td>\n",
              "      <td>-1.132073</td>\n",
              "      <td>883345</td>\n",
              "      <td>On or near Marquis Street</td>\n",
              "    </tr>\n",
              "    <tr>\n",
              "      <th>2</th>\n",
              "      <td>52.629909</td>\n",
              "      <td>-1.132073</td>\n",
              "      <td>883345</td>\n",
              "      <td>On or near Marquis Street</td>\n",
              "    </tr>\n",
              "  </tbody>\n",
              "</table>\n",
              "</div>\n",
              "      <button class=\"colab-df-convert\" onclick=\"convertToInteractive('df-f6e992f9-715d-4943-b7e1-d7649fb75319')\"\n",
              "              title=\"Convert this dataframe to an interactive table.\"\n",
              "              style=\"display:none;\">\n",
              "        \n",
              "  <svg xmlns=\"http://www.w3.org/2000/svg\" height=\"24px\"viewBox=\"0 0 24 24\"\n",
              "       width=\"24px\">\n",
              "    <path d=\"M0 0h24v24H0V0z\" fill=\"none\"/>\n",
              "    <path d=\"M18.56 5.44l.94 2.06.94-2.06 2.06-.94-2.06-.94-.94-2.06-.94 2.06-2.06.94zm-11 1L8.5 8.5l.94-2.06 2.06-.94-2.06-.94L8.5 2.5l-.94 2.06-2.06.94zm10 10l.94 2.06.94-2.06 2.06-.94-2.06-.94-.94-2.06-.94 2.06-2.06.94z\"/><path d=\"M17.41 7.96l-1.37-1.37c-.4-.4-.92-.59-1.43-.59-.52 0-1.04.2-1.43.59L10.3 9.45l-7.72 7.72c-.78.78-.78 2.05 0 2.83L4 21.41c.39.39.9.59 1.41.59.51 0 1.02-.2 1.41-.59l7.78-7.78 2.81-2.81c.8-.78.8-2.07 0-2.86zM5.41 20L4 18.59l7.72-7.72 1.47 1.35L5.41 20z\"/>\n",
              "  </svg>\n",
              "      </button>\n",
              "      \n",
              "  <style>\n",
              "    .colab-df-container {\n",
              "      display:flex;\n",
              "      flex-wrap:wrap;\n",
              "      gap: 12px;\n",
              "    }\n",
              "\n",
              "    .colab-df-convert {\n",
              "      background-color: #E8F0FE;\n",
              "      border: none;\n",
              "      border-radius: 50%;\n",
              "      cursor: pointer;\n",
              "      display: none;\n",
              "      fill: #1967D2;\n",
              "      height: 32px;\n",
              "      padding: 0 0 0 0;\n",
              "      width: 32px;\n",
              "    }\n",
              "\n",
              "    .colab-df-convert:hover {\n",
              "      background-color: #E2EBFA;\n",
              "      box-shadow: 0px 1px 2px rgba(60, 64, 67, 0.3), 0px 1px 3px 1px rgba(60, 64, 67, 0.15);\n",
              "      fill: #174EA6;\n",
              "    }\n",
              "\n",
              "    [theme=dark] .colab-df-convert {\n",
              "      background-color: #3B4455;\n",
              "      fill: #D2E3FC;\n",
              "    }\n",
              "\n",
              "    [theme=dark] .colab-df-convert:hover {\n",
              "      background-color: #434B5C;\n",
              "      box-shadow: 0px 1px 3px 1px rgba(0, 0, 0, 0.15);\n",
              "      filter: drop-shadow(0px 1px 2px rgba(0, 0, 0, 0.3));\n",
              "      fill: #FFFFFF;\n",
              "    }\n",
              "  </style>\n",
              "\n",
              "      <script>\n",
              "        const buttonEl =\n",
              "          document.querySelector('#df-f6e992f9-715d-4943-b7e1-d7649fb75319 button.colab-df-convert');\n",
              "        buttonEl.style.display =\n",
              "          google.colab.kernel.accessAllowed ? 'block' : 'none';\n",
              "\n",
              "        async function convertToInteractive(key) {\n",
              "          const element = document.querySelector('#df-f6e992f9-715d-4943-b7e1-d7649fb75319');\n",
              "          const dataTable =\n",
              "            await google.colab.kernel.invokeFunction('convertToInteractive',\n",
              "                                                     [key], {});\n",
              "          if (!dataTable) return;\n",
              "\n",
              "          const docLinkHtml = 'Like what you see? Visit the ' +\n",
              "            '<a target=\"_blank\" href=https://colab.research.google.com/notebooks/data_table.ipynb>data table notebook</a>'\n",
              "            + ' to learn more about interactive tables.';\n",
              "          element.innerHTML = '';\n",
              "          dataTable['output_type'] = 'display_data';\n",
              "          await google.colab.output.renderOutput(dataTable, element);\n",
              "          const docLink = document.createElement('div');\n",
              "          docLink.innerHTML = docLinkHtml;\n",
              "          element.appendChild(docLink);\n",
              "        }\n",
              "      </script>\n",
              "    </div>\n",
              "  </div>\n",
              "  "
            ]
          },
          "metadata": {},
          "execution_count": 38
        }
      ]
    },
    {
      "cell_type": "markdown",
      "metadata": {
        "id": "3at467QSvUgs"
      },
      "source": [
        "We can actually change that by adding a `sep=` argument."
      ]
    },
    {
      "cell_type": "code",
      "metadata": {
        "colab": {
          "base_uri": "https://localhost:8080/",
          "height": 143
        },
        "id": "9S-y57P5vXHz",
        "outputId": "eb0ff51f-9b97-4ec9-b7d4-c34b4d441f86"
      },
      "source": [
        "#use json_normalize - specify we want to use an underscore as a separator\n",
        "pd.json_normalize(crimedata['location'], sep=\"_\")"
      ],
      "execution_count": 41,
      "outputs": [
        {
          "output_type": "execute_result",
          "data": {
            "text/plain": [
              "    latitude  longitude  street_id                street_name\n",
              "0  52.629909  -1.132073     883345  On or near Marquis Street\n",
              "1  52.629909  -1.132073     883345  On or near Marquis Street\n",
              "2  52.629909  -1.132073     883345  On or near Marquis Street"
            ],
            "text/html": [
              "\n",
              "  <div id=\"df-c10aec50-cc6d-4e39-b9af-74a44d29ef1c\">\n",
              "    <div class=\"colab-df-container\">\n",
              "      <div>\n",
              "<style scoped>\n",
              "    .dataframe tbody tr th:only-of-type {\n",
              "        vertical-align: middle;\n",
              "    }\n",
              "\n",
              "    .dataframe tbody tr th {\n",
              "        vertical-align: top;\n",
              "    }\n",
              "\n",
              "    .dataframe thead th {\n",
              "        text-align: right;\n",
              "    }\n",
              "</style>\n",
              "<table border=\"1\" class=\"dataframe\">\n",
              "  <thead>\n",
              "    <tr style=\"text-align: right;\">\n",
              "      <th></th>\n",
              "      <th>latitude</th>\n",
              "      <th>longitude</th>\n",
              "      <th>street_id</th>\n",
              "      <th>street_name</th>\n",
              "    </tr>\n",
              "  </thead>\n",
              "  <tbody>\n",
              "    <tr>\n",
              "      <th>0</th>\n",
              "      <td>52.629909</td>\n",
              "      <td>-1.132073</td>\n",
              "      <td>883345</td>\n",
              "      <td>On or near Marquis Street</td>\n",
              "    </tr>\n",
              "    <tr>\n",
              "      <th>1</th>\n",
              "      <td>52.629909</td>\n",
              "      <td>-1.132073</td>\n",
              "      <td>883345</td>\n",
              "      <td>On or near Marquis Street</td>\n",
              "    </tr>\n",
              "    <tr>\n",
              "      <th>2</th>\n",
              "      <td>52.629909</td>\n",
              "      <td>-1.132073</td>\n",
              "      <td>883345</td>\n",
              "      <td>On or near Marquis Street</td>\n",
              "    </tr>\n",
              "  </tbody>\n",
              "</table>\n",
              "</div>\n",
              "      <button class=\"colab-df-convert\" onclick=\"convertToInteractive('df-c10aec50-cc6d-4e39-b9af-74a44d29ef1c')\"\n",
              "              title=\"Convert this dataframe to an interactive table.\"\n",
              "              style=\"display:none;\">\n",
              "        \n",
              "  <svg xmlns=\"http://www.w3.org/2000/svg\" height=\"24px\"viewBox=\"0 0 24 24\"\n",
              "       width=\"24px\">\n",
              "    <path d=\"M0 0h24v24H0V0z\" fill=\"none\"/>\n",
              "    <path d=\"M18.56 5.44l.94 2.06.94-2.06 2.06-.94-2.06-.94-.94-2.06-.94 2.06-2.06.94zm-11 1L8.5 8.5l.94-2.06 2.06-.94-2.06-.94L8.5 2.5l-.94 2.06-2.06.94zm10 10l.94 2.06.94-2.06 2.06-.94-2.06-.94-.94-2.06-.94 2.06-2.06.94z\"/><path d=\"M17.41 7.96l-1.37-1.37c-.4-.4-.92-.59-1.43-.59-.52 0-1.04.2-1.43.59L10.3 9.45l-7.72 7.72c-.78.78-.78 2.05 0 2.83L4 21.41c.39.39.9.59 1.41.59.51 0 1.02-.2 1.41-.59l7.78-7.78 2.81-2.81c.8-.78.8-2.07 0-2.86zM5.41 20L4 18.59l7.72-7.72 1.47 1.35L5.41 20z\"/>\n",
              "  </svg>\n",
              "      </button>\n",
              "      \n",
              "  <style>\n",
              "    .colab-df-container {\n",
              "      display:flex;\n",
              "      flex-wrap:wrap;\n",
              "      gap: 12px;\n",
              "    }\n",
              "\n",
              "    .colab-df-convert {\n",
              "      background-color: #E8F0FE;\n",
              "      border: none;\n",
              "      border-radius: 50%;\n",
              "      cursor: pointer;\n",
              "      display: none;\n",
              "      fill: #1967D2;\n",
              "      height: 32px;\n",
              "      padding: 0 0 0 0;\n",
              "      width: 32px;\n",
              "    }\n",
              "\n",
              "    .colab-df-convert:hover {\n",
              "      background-color: #E2EBFA;\n",
              "      box-shadow: 0px 1px 2px rgba(60, 64, 67, 0.3), 0px 1px 3px 1px rgba(60, 64, 67, 0.15);\n",
              "      fill: #174EA6;\n",
              "    }\n",
              "\n",
              "    [theme=dark] .colab-df-convert {\n",
              "      background-color: #3B4455;\n",
              "      fill: #D2E3FC;\n",
              "    }\n",
              "\n",
              "    [theme=dark] .colab-df-convert:hover {\n",
              "      background-color: #434B5C;\n",
              "      box-shadow: 0px 1px 3px 1px rgba(0, 0, 0, 0.15);\n",
              "      filter: drop-shadow(0px 1px 2px rgba(0, 0, 0, 0.3));\n",
              "      fill: #FFFFFF;\n",
              "    }\n",
              "  </style>\n",
              "\n",
              "      <script>\n",
              "        const buttonEl =\n",
              "          document.querySelector('#df-c10aec50-cc6d-4e39-b9af-74a44d29ef1c button.colab-df-convert');\n",
              "        buttonEl.style.display =\n",
              "          google.colab.kernel.accessAllowed ? 'block' : 'none';\n",
              "\n",
              "        async function convertToInteractive(key) {\n",
              "          const element = document.querySelector('#df-c10aec50-cc6d-4e39-b9af-74a44d29ef1c');\n",
              "          const dataTable =\n",
              "            await google.colab.kernel.invokeFunction('convertToInteractive',\n",
              "                                                     [key], {});\n",
              "          if (!dataTable) return;\n",
              "\n",
              "          const docLinkHtml = 'Like what you see? Visit the ' +\n",
              "            '<a target=\"_blank\" href=https://colab.research.google.com/notebooks/data_table.ipynb>data table notebook</a>'\n",
              "            + ' to learn more about interactive tables.';\n",
              "          element.innerHTML = '';\n",
              "          dataTable['output_type'] = 'display_data';\n",
              "          await google.colab.output.renderOutput(dataTable, element);\n",
              "          const docLink = document.createElement('div');\n",
              "          docLink.innerHTML = docLinkHtml;\n",
              "          element.appendChild(docLink);\n",
              "        }\n",
              "      </script>\n",
              "    </div>\n",
              "  </div>\n",
              "  "
            ]
          },
          "metadata": {},
          "execution_count": 41
        }
      ]
    },
    {
      "cell_type": "markdown",
      "metadata": {
        "id": "a_bv60kzobGp"
      },
      "source": [
        "This will work for other fields but only where there's nested data/JSON/dictionaries.\n",
        "\n",
        "Let's take a look at the dataframe to see which fields contain those telltale `{` brackets."
      ]
    },
    {
      "cell_type": "code",
      "metadata": {
        "colab": {
          "base_uri": "https://localhost:8080/",
          "height": 236
        },
        "id": "FdM7Eu-Cm_KX",
        "outputId": "4adb0069-da96-4b26-9cd4-a39ce3867c2a"
      },
      "source": [
        "#show the data\n",
        "crimedata"
      ],
      "execution_count": null,
      "outputs": [
        {
          "output_type": "execute_result",
          "data": {
            "text/html": [
              "<div>\n",
              "<style scoped>\n",
              "    .dataframe tbody tr th:only-of-type {\n",
              "        vertical-align: middle;\n",
              "    }\n",
              "\n",
              "    .dataframe tbody tr th {\n",
              "        vertical-align: top;\n",
              "    }\n",
              "\n",
              "    .dataframe thead th {\n",
              "        text-align: right;\n",
              "    }\n",
              "</style>\n",
              "<table border=\"1\" class=\"dataframe\">\n",
              "  <thead>\n",
              "    <tr style=\"text-align: right;\">\n",
              "      <th></th>\n",
              "      <th>category</th>\n",
              "      <th>location_type</th>\n",
              "      <th>location</th>\n",
              "      <th>context</th>\n",
              "      <th>outcome_status</th>\n",
              "      <th>persistent_id</th>\n",
              "      <th>id</th>\n",
              "      <th>location_subtype</th>\n",
              "      <th>month</th>\n",
              "    </tr>\n",
              "  </thead>\n",
              "  <tbody>\n",
              "    <tr>\n",
              "      <th>0</th>\n",
              "      <td>drugs</td>\n",
              "      <td>Force</td>\n",
              "      <td>{'latitude': '52.629909', 'street': {'id': 883...</td>\n",
              "      <td></td>\n",
              "      <td>{'category': 'Local resolution', 'date': '2021...</td>\n",
              "      <td>21bf6ec31d7744b835eed277943ac5c2542f36429675b0...</td>\n",
              "      <td>90363437</td>\n",
              "      <td></td>\n",
              "      <td>2021-02</td>\n",
              "    </tr>\n",
              "    <tr>\n",
              "      <th>1</th>\n",
              "      <td>violent-crime</td>\n",
              "      <td>Force</td>\n",
              "      <td>{'latitude': '52.629909', 'street': {'id': 883...</td>\n",
              "      <td></td>\n",
              "      <td>{'category': 'Unable to prosecute suspect', 'd...</td>\n",
              "      <td>a65a86d1f35bc06ede4039382f7c04844d9c01162c1a4a...</td>\n",
              "      <td>90361215</td>\n",
              "      <td></td>\n",
              "      <td>2021-02</td>\n",
              "    </tr>\n",
              "  </tbody>\n",
              "</table>\n",
              "</div>"
            ],
            "text/plain": [
              "        category location_type  ... location_subtype    month\n",
              "0          drugs         Force  ...                   2021-02\n",
              "1  violent-crime         Force  ...                   2021-02\n",
              "\n",
              "[2 rows x 9 columns]"
            ]
          },
          "metadata": {},
          "execution_count": 16
        }
      ]
    },
    {
      "cell_type": "markdown",
      "metadata": {
        "id": "rwRFx9ATopoM"
      },
      "source": [
        "The only other column is `outcome_status`:"
      ]
    },
    {
      "cell_type": "code",
      "metadata": {
        "colab": {
          "base_uri": "https://localhost:8080/",
          "height": 143
        },
        "id": "quEIsgTInCji",
        "outputId": "590edbfb-9bbf-4cf7-ebd1-bd841c37908f"
      },
      "source": [
        "#try\n",
        "pd.json_normalize(crimedata['outcome_status'])"
      ],
      "execution_count": 40,
      "outputs": [
        {
          "output_type": "execute_result",
          "data": {
            "text/plain": [
              "                                        category     date\n",
              "0                    Unable to prosecute suspect  2022-02\n",
              "1                            Under investigation  2022-02\n",
              "2  Investigation complete; no suspect identified  2022-02"
            ],
            "text/html": [
              "\n",
              "  <div id=\"df-108a8df1-15c4-4385-b061-9b9ef85ebf7e\">\n",
              "    <div class=\"colab-df-container\">\n",
              "      <div>\n",
              "<style scoped>\n",
              "    .dataframe tbody tr th:only-of-type {\n",
              "        vertical-align: middle;\n",
              "    }\n",
              "\n",
              "    .dataframe tbody tr th {\n",
              "        vertical-align: top;\n",
              "    }\n",
              "\n",
              "    .dataframe thead th {\n",
              "        text-align: right;\n",
              "    }\n",
              "</style>\n",
              "<table border=\"1\" class=\"dataframe\">\n",
              "  <thead>\n",
              "    <tr style=\"text-align: right;\">\n",
              "      <th></th>\n",
              "      <th>category</th>\n",
              "      <th>date</th>\n",
              "    </tr>\n",
              "  </thead>\n",
              "  <tbody>\n",
              "    <tr>\n",
              "      <th>0</th>\n",
              "      <td>Unable to prosecute suspect</td>\n",
              "      <td>2022-02</td>\n",
              "    </tr>\n",
              "    <tr>\n",
              "      <th>1</th>\n",
              "      <td>Under investigation</td>\n",
              "      <td>2022-02</td>\n",
              "    </tr>\n",
              "    <tr>\n",
              "      <th>2</th>\n",
              "      <td>Investigation complete; no suspect identified</td>\n",
              "      <td>2022-02</td>\n",
              "    </tr>\n",
              "  </tbody>\n",
              "</table>\n",
              "</div>\n",
              "      <button class=\"colab-df-convert\" onclick=\"convertToInteractive('df-108a8df1-15c4-4385-b061-9b9ef85ebf7e')\"\n",
              "              title=\"Convert this dataframe to an interactive table.\"\n",
              "              style=\"display:none;\">\n",
              "        \n",
              "  <svg xmlns=\"http://www.w3.org/2000/svg\" height=\"24px\"viewBox=\"0 0 24 24\"\n",
              "       width=\"24px\">\n",
              "    <path d=\"M0 0h24v24H0V0z\" fill=\"none\"/>\n",
              "    <path d=\"M18.56 5.44l.94 2.06.94-2.06 2.06-.94-2.06-.94-.94-2.06-.94 2.06-2.06.94zm-11 1L8.5 8.5l.94-2.06 2.06-.94-2.06-.94L8.5 2.5l-.94 2.06-2.06.94zm10 10l.94 2.06.94-2.06 2.06-.94-2.06-.94-.94-2.06-.94 2.06-2.06.94z\"/><path d=\"M17.41 7.96l-1.37-1.37c-.4-.4-.92-.59-1.43-.59-.52 0-1.04.2-1.43.59L10.3 9.45l-7.72 7.72c-.78.78-.78 2.05 0 2.83L4 21.41c.39.39.9.59 1.41.59.51 0 1.02-.2 1.41-.59l7.78-7.78 2.81-2.81c.8-.78.8-2.07 0-2.86zM5.41 20L4 18.59l7.72-7.72 1.47 1.35L5.41 20z\"/>\n",
              "  </svg>\n",
              "      </button>\n",
              "      \n",
              "  <style>\n",
              "    .colab-df-container {\n",
              "      display:flex;\n",
              "      flex-wrap:wrap;\n",
              "      gap: 12px;\n",
              "    }\n",
              "\n",
              "    .colab-df-convert {\n",
              "      background-color: #E8F0FE;\n",
              "      border: none;\n",
              "      border-radius: 50%;\n",
              "      cursor: pointer;\n",
              "      display: none;\n",
              "      fill: #1967D2;\n",
              "      height: 32px;\n",
              "      padding: 0 0 0 0;\n",
              "      width: 32px;\n",
              "    }\n",
              "\n",
              "    .colab-df-convert:hover {\n",
              "      background-color: #E2EBFA;\n",
              "      box-shadow: 0px 1px 2px rgba(60, 64, 67, 0.3), 0px 1px 3px 1px rgba(60, 64, 67, 0.15);\n",
              "      fill: #174EA6;\n",
              "    }\n",
              "\n",
              "    [theme=dark] .colab-df-convert {\n",
              "      background-color: #3B4455;\n",
              "      fill: #D2E3FC;\n",
              "    }\n",
              "\n",
              "    [theme=dark] .colab-df-convert:hover {\n",
              "      background-color: #434B5C;\n",
              "      box-shadow: 0px 1px 3px 1px rgba(0, 0, 0, 0.15);\n",
              "      filter: drop-shadow(0px 1px 2px rgba(0, 0, 0, 0.3));\n",
              "      fill: #FFFFFF;\n",
              "    }\n",
              "  </style>\n",
              "\n",
              "      <script>\n",
              "        const buttonEl =\n",
              "          document.querySelector('#df-108a8df1-15c4-4385-b061-9b9ef85ebf7e button.colab-df-convert');\n",
              "        buttonEl.style.display =\n",
              "          google.colab.kernel.accessAllowed ? 'block' : 'none';\n",
              "\n",
              "        async function convertToInteractive(key) {\n",
              "          const element = document.querySelector('#df-108a8df1-15c4-4385-b061-9b9ef85ebf7e');\n",
              "          const dataTable =\n",
              "            await google.colab.kernel.invokeFunction('convertToInteractive',\n",
              "                                                     [key], {});\n",
              "          if (!dataTable) return;\n",
              "\n",
              "          const docLinkHtml = 'Like what you see? Visit the ' +\n",
              "            '<a target=\"_blank\" href=https://colab.research.google.com/notebooks/data_table.ipynb>data table notebook</a>'\n",
              "            + ' to learn more about interactive tables.';\n",
              "          element.innerHTML = '';\n",
              "          dataTable['output_type'] = 'display_data';\n",
              "          await google.colab.output.renderOutput(dataTable, element);\n",
              "          const docLink = document.createElement('div');\n",
              "          docLink.innerHTML = docLinkHtml;\n",
              "          element.appendChild(docLink);\n",
              "        }\n",
              "      </script>\n",
              "    </div>\n",
              "  </div>\n",
              "  "
            ]
          },
          "metadata": {},
          "execution_count": 40
        }
      ]
    },
    {
      "cell_type": "markdown",
      "source": [
        "### Combining the results with our original dataframe using `.join()`\n",
        "\n",
        "Of course there's a good chance we will want to combine the data from these sub-branches with the original dataframe that contains the main details. \n",
        "\n",
        "As long as all the dataframes have the same number of columns (and these match up) then we can combine them using `.join()`\n",
        "\n",
        "This is a method of a pandas dataframe, so you need to name one of the dataframes first, then add `.join(` and in the brackets provide the other dataframe(s) that you want to join it to, closing the brackets once you're done. "
      ],
      "metadata": {
        "id": "liEeFYhj0-j4"
      }
    },
    {
      "cell_type": "code",
      "source": [
        "#store the results of flattening the 'location' branch\n",
        "locationdata = pd.json_normalize(crimedata['location'])\n",
        "#join that dataframe to the main crimedata one - and store in a new dataframe\n",
        "crimedata_joined = crimedata.join(locationdata)\n",
        "#show it\n",
        "crimedata_joined"
      ],
      "metadata": {
        "colab": {
          "base_uri": "https://localhost:8080/",
          "height": 364
        },
        "id": "vM07EvYa1Lxk",
        "outputId": "b4e13d4b-7959-4dfb-878f-626d89884035"
      },
      "execution_count": 57,
      "outputs": [
        {
          "output_type": "execute_result",
          "data": {
            "text/plain": [
              "                category location_type  \\\n",
              "0  possession-of-weapons         Force   \n",
              "1           public-order         Force   \n",
              "2           public-order         Force   \n",
              "\n",
              "                                            location context  \\\n",
              "0  {'latitude': '52.629909', 'street': {'id': 883...           \n",
              "1  {'latitude': '52.629909', 'street': {'id': 883...           \n",
              "2  {'latitude': '52.629909', 'street': {'id': 883...           \n",
              "\n",
              "                                      outcome_status  \\\n",
              "0  {'category': 'Unable to prosecute suspect', 'd...   \n",
              "1  {'category': 'Under investigation', 'date': '2...   \n",
              "2  {'category': 'Investigation complete; no suspe...   \n",
              "\n",
              "                                       persistent_id        id  \\\n",
              "0  5c57f25d5a2ed17462e08584bb53afb3ac7476868e0918...  99557405   \n",
              "1  69e04fe7c5e20a2fdb5cefb9c8045c88a8c62ec7220fd6...  99558269   \n",
              "2  33337d87ccfef036ecbfb8f5a21de1c48c76a4aae74752...  99561304   \n",
              "\n",
              "  location_subtype    month                 streetname   latitude  longitude  \\\n",
              "0                   2022-02  On or near Marquis Street  52.629909  -1.132073   \n",
              "1                   2022-02  On or near Marquis Street  52.629909  -1.132073   \n",
              "2                   2022-02  On or near Marquis Street  52.629909  -1.132073   \n",
              "\n",
              "   street.id                street.name  \n",
              "0     883345  On or near Marquis Street  \n",
              "1     883345  On or near Marquis Street  \n",
              "2     883345  On or near Marquis Street  "
            ],
            "text/html": [
              "\n",
              "  <div id=\"df-7965ee80-78b9-47d5-ba92-72e1bacb68a6\">\n",
              "    <div class=\"colab-df-container\">\n",
              "      <div>\n",
              "<style scoped>\n",
              "    .dataframe tbody tr th:only-of-type {\n",
              "        vertical-align: middle;\n",
              "    }\n",
              "\n",
              "    .dataframe tbody tr th {\n",
              "        vertical-align: top;\n",
              "    }\n",
              "\n",
              "    .dataframe thead th {\n",
              "        text-align: right;\n",
              "    }\n",
              "</style>\n",
              "<table border=\"1\" class=\"dataframe\">\n",
              "  <thead>\n",
              "    <tr style=\"text-align: right;\">\n",
              "      <th></th>\n",
              "      <th>category</th>\n",
              "      <th>location_type</th>\n",
              "      <th>location</th>\n",
              "      <th>context</th>\n",
              "      <th>outcome_status</th>\n",
              "      <th>persistent_id</th>\n",
              "      <th>id</th>\n",
              "      <th>location_subtype</th>\n",
              "      <th>month</th>\n",
              "      <th>streetname</th>\n",
              "      <th>latitude</th>\n",
              "      <th>longitude</th>\n",
              "      <th>street.id</th>\n",
              "      <th>street.name</th>\n",
              "    </tr>\n",
              "  </thead>\n",
              "  <tbody>\n",
              "    <tr>\n",
              "      <th>0</th>\n",
              "      <td>possession-of-weapons</td>\n",
              "      <td>Force</td>\n",
              "      <td>{'latitude': '52.629909', 'street': {'id': 883...</td>\n",
              "      <td></td>\n",
              "      <td>{'category': 'Unable to prosecute suspect', 'd...</td>\n",
              "      <td>5c57f25d5a2ed17462e08584bb53afb3ac7476868e0918...</td>\n",
              "      <td>99557405</td>\n",
              "      <td></td>\n",
              "      <td>2022-02</td>\n",
              "      <td>On or near Marquis Street</td>\n",
              "      <td>52.629909</td>\n",
              "      <td>-1.132073</td>\n",
              "      <td>883345</td>\n",
              "      <td>On or near Marquis Street</td>\n",
              "    </tr>\n",
              "    <tr>\n",
              "      <th>1</th>\n",
              "      <td>public-order</td>\n",
              "      <td>Force</td>\n",
              "      <td>{'latitude': '52.629909', 'street': {'id': 883...</td>\n",
              "      <td></td>\n",
              "      <td>{'category': 'Under investigation', 'date': '2...</td>\n",
              "      <td>69e04fe7c5e20a2fdb5cefb9c8045c88a8c62ec7220fd6...</td>\n",
              "      <td>99558269</td>\n",
              "      <td></td>\n",
              "      <td>2022-02</td>\n",
              "      <td>On or near Marquis Street</td>\n",
              "      <td>52.629909</td>\n",
              "      <td>-1.132073</td>\n",
              "      <td>883345</td>\n",
              "      <td>On or near Marquis Street</td>\n",
              "    </tr>\n",
              "    <tr>\n",
              "      <th>2</th>\n",
              "      <td>public-order</td>\n",
              "      <td>Force</td>\n",
              "      <td>{'latitude': '52.629909', 'street': {'id': 883...</td>\n",
              "      <td></td>\n",
              "      <td>{'category': 'Investigation complete; no suspe...</td>\n",
              "      <td>33337d87ccfef036ecbfb8f5a21de1c48c76a4aae74752...</td>\n",
              "      <td>99561304</td>\n",
              "      <td></td>\n",
              "      <td>2022-02</td>\n",
              "      <td>On or near Marquis Street</td>\n",
              "      <td>52.629909</td>\n",
              "      <td>-1.132073</td>\n",
              "      <td>883345</td>\n",
              "      <td>On or near Marquis Street</td>\n",
              "    </tr>\n",
              "  </tbody>\n",
              "</table>\n",
              "</div>\n",
              "      <button class=\"colab-df-convert\" onclick=\"convertToInteractive('df-7965ee80-78b9-47d5-ba92-72e1bacb68a6')\"\n",
              "              title=\"Convert this dataframe to an interactive table.\"\n",
              "              style=\"display:none;\">\n",
              "        \n",
              "  <svg xmlns=\"http://www.w3.org/2000/svg\" height=\"24px\"viewBox=\"0 0 24 24\"\n",
              "       width=\"24px\">\n",
              "    <path d=\"M0 0h24v24H0V0z\" fill=\"none\"/>\n",
              "    <path d=\"M18.56 5.44l.94 2.06.94-2.06 2.06-.94-2.06-.94-.94-2.06-.94 2.06-2.06.94zm-11 1L8.5 8.5l.94-2.06 2.06-.94-2.06-.94L8.5 2.5l-.94 2.06-2.06.94zm10 10l.94 2.06.94-2.06 2.06-.94-2.06-.94-.94-2.06-.94 2.06-2.06.94z\"/><path d=\"M17.41 7.96l-1.37-1.37c-.4-.4-.92-.59-1.43-.59-.52 0-1.04.2-1.43.59L10.3 9.45l-7.72 7.72c-.78.78-.78 2.05 0 2.83L4 21.41c.39.39.9.59 1.41.59.51 0 1.02-.2 1.41-.59l7.78-7.78 2.81-2.81c.8-.78.8-2.07 0-2.86zM5.41 20L4 18.59l7.72-7.72 1.47 1.35L5.41 20z\"/>\n",
              "  </svg>\n",
              "      </button>\n",
              "      \n",
              "  <style>\n",
              "    .colab-df-container {\n",
              "      display:flex;\n",
              "      flex-wrap:wrap;\n",
              "      gap: 12px;\n",
              "    }\n",
              "\n",
              "    .colab-df-convert {\n",
              "      background-color: #E8F0FE;\n",
              "      border: none;\n",
              "      border-radius: 50%;\n",
              "      cursor: pointer;\n",
              "      display: none;\n",
              "      fill: #1967D2;\n",
              "      height: 32px;\n",
              "      padding: 0 0 0 0;\n",
              "      width: 32px;\n",
              "    }\n",
              "\n",
              "    .colab-df-convert:hover {\n",
              "      background-color: #E2EBFA;\n",
              "      box-shadow: 0px 1px 2px rgba(60, 64, 67, 0.3), 0px 1px 3px 1px rgba(60, 64, 67, 0.15);\n",
              "      fill: #174EA6;\n",
              "    }\n",
              "\n",
              "    [theme=dark] .colab-df-convert {\n",
              "      background-color: #3B4455;\n",
              "      fill: #D2E3FC;\n",
              "    }\n",
              "\n",
              "    [theme=dark] .colab-df-convert:hover {\n",
              "      background-color: #434B5C;\n",
              "      box-shadow: 0px 1px 3px 1px rgba(0, 0, 0, 0.15);\n",
              "      filter: drop-shadow(0px 1px 2px rgba(0, 0, 0, 0.3));\n",
              "      fill: #FFFFFF;\n",
              "    }\n",
              "  </style>\n",
              "\n",
              "      <script>\n",
              "        const buttonEl =\n",
              "          document.querySelector('#df-7965ee80-78b9-47d5-ba92-72e1bacb68a6 button.colab-df-convert');\n",
              "        buttonEl.style.display =\n",
              "          google.colab.kernel.accessAllowed ? 'block' : 'none';\n",
              "\n",
              "        async function convertToInteractive(key) {\n",
              "          const element = document.querySelector('#df-7965ee80-78b9-47d5-ba92-72e1bacb68a6');\n",
              "          const dataTable =\n",
              "            await google.colab.kernel.invokeFunction('convertToInteractive',\n",
              "                                                     [key], {});\n",
              "          if (!dataTable) return;\n",
              "\n",
              "          const docLinkHtml = 'Like what you see? Visit the ' +\n",
              "            '<a target=\"_blank\" href=https://colab.research.google.com/notebooks/data_table.ipynb>data table notebook</a>'\n",
              "            + ' to learn more about interactive tables.';\n",
              "          element.innerHTML = '';\n",
              "          dataTable['output_type'] = 'display_data';\n",
              "          await google.colab.output.renderOutput(dataTable, element);\n",
              "          const docLink = document.createElement('div');\n",
              "          docLink.innerHTML = docLinkHtml;\n",
              "          element.appendChild(docLink);\n",
              "        }\n",
              "      </script>\n",
              "    </div>\n",
              "  </div>\n",
              "  "
            ]
          },
          "metadata": {},
          "execution_count": 57
        }
      ]
    },
    {
      "cell_type": "markdown",
      "source": [
        "### Rename any clashing column names\n",
        "\n",
        "We will, however, encounter a problem when we try to repeat that with the other branch of the data."
      ],
      "metadata": {
        "id": "8Wnu522M21RM"
      }
    },
    {
      "cell_type": "code",
      "source": [
        "#store the results of flattening the 'outcome_status' branch\n",
        "outcomedata = pd.json_normalize(crimedata['outcome_status'])\n",
        "#join that dataframe to the crimedata_joined one - and ovewrite it\n",
        "crimedata_joined = crimedata_joined.join(outcomedata)"
      ],
      "metadata": {
        "colab": {
          "base_uri": "https://localhost:8080/",
          "height": 378
        },
        "id": "To4NuyC627i9",
        "outputId": "1870c93f-b573-42ab-a44d-c2942b4bf29e"
      },
      "execution_count": 50,
      "outputs": [
        {
          "output_type": "error",
          "ename": "ValueError",
          "evalue": "ignored",
          "traceback": [
            "\u001b[0;31m---------------------------------------------------------------------------\u001b[0m",
            "\u001b[0;31mValueError\u001b[0m                                Traceback (most recent call last)",
            "\u001b[0;32m<ipython-input-50-edb59aef291d>\u001b[0m in \u001b[0;36m<module>\u001b[0;34m()\u001b[0m\n\u001b[1;32m      2\u001b[0m \u001b[0moutcomedata\u001b[0m \u001b[0;34m=\u001b[0m \u001b[0mpd\u001b[0m\u001b[0;34m.\u001b[0m\u001b[0mjson_normalize\u001b[0m\u001b[0;34m(\u001b[0m\u001b[0mcrimedata\u001b[0m\u001b[0;34m[\u001b[0m\u001b[0;34m'outcome_status'\u001b[0m\u001b[0;34m]\u001b[0m\u001b[0;34m)\u001b[0m\u001b[0;34m\u001b[0m\u001b[0;34m\u001b[0m\u001b[0m\n\u001b[1;32m      3\u001b[0m \u001b[0;31m#join that dataframe to the crimedata_joined one - and ovewrite it\u001b[0m\u001b[0;34m\u001b[0m\u001b[0;34m\u001b[0m\u001b[0;34m\u001b[0m\u001b[0m\n\u001b[0;32m----> 4\u001b[0;31m \u001b[0mcrimedata_joined\u001b[0m \u001b[0;34m=\u001b[0m \u001b[0mcrimedata_joined\u001b[0m\u001b[0;34m.\u001b[0m\u001b[0mjoin\u001b[0m\u001b[0;34m(\u001b[0m\u001b[0moutcomedata\u001b[0m\u001b[0;34m)\u001b[0m\u001b[0;34m\u001b[0m\u001b[0;34m\u001b[0m\u001b[0m\n\u001b[0m",
            "\u001b[0;32m/usr/local/lib/python3.7/dist-packages/pandas/core/frame.py\u001b[0m in \u001b[0;36mjoin\u001b[0;34m(self, other, on, how, lsuffix, rsuffix, sort)\u001b[0m\n\u001b[1;32m   9098\u001b[0m         \"\"\"\n\u001b[1;32m   9099\u001b[0m         return self._join_compat(\n\u001b[0;32m-> 9100\u001b[0;31m             \u001b[0mother\u001b[0m\u001b[0;34m,\u001b[0m \u001b[0mon\u001b[0m\u001b[0;34m=\u001b[0m\u001b[0mon\u001b[0m\u001b[0;34m,\u001b[0m \u001b[0mhow\u001b[0m\u001b[0;34m=\u001b[0m\u001b[0mhow\u001b[0m\u001b[0;34m,\u001b[0m \u001b[0mlsuffix\u001b[0m\u001b[0;34m=\u001b[0m\u001b[0mlsuffix\u001b[0m\u001b[0;34m,\u001b[0m \u001b[0mrsuffix\u001b[0m\u001b[0;34m=\u001b[0m\u001b[0mrsuffix\u001b[0m\u001b[0;34m,\u001b[0m \u001b[0msort\u001b[0m\u001b[0;34m=\u001b[0m\u001b[0msort\u001b[0m\u001b[0;34m\u001b[0m\u001b[0;34m\u001b[0m\u001b[0m\n\u001b[0m\u001b[1;32m   9101\u001b[0m         )\n\u001b[1;32m   9102\u001b[0m \u001b[0;34m\u001b[0m\u001b[0m\n",
            "\u001b[0;32m/usr/local/lib/python3.7/dist-packages/pandas/core/frame.py\u001b[0m in \u001b[0;36m_join_compat\u001b[0;34m(self, other, on, how, lsuffix, rsuffix, sort)\u001b[0m\n\u001b[1;32m   9136\u001b[0m                 \u001b[0mright_index\u001b[0m\u001b[0;34m=\u001b[0m\u001b[0;32mTrue\u001b[0m\u001b[0;34m,\u001b[0m\u001b[0;34m\u001b[0m\u001b[0;34m\u001b[0m\u001b[0m\n\u001b[1;32m   9137\u001b[0m                 \u001b[0msuffixes\u001b[0m\u001b[0;34m=\u001b[0m\u001b[0;34m(\u001b[0m\u001b[0mlsuffix\u001b[0m\u001b[0;34m,\u001b[0m \u001b[0mrsuffix\u001b[0m\u001b[0;34m)\u001b[0m\u001b[0;34m,\u001b[0m\u001b[0;34m\u001b[0m\u001b[0;34m\u001b[0m\u001b[0m\n\u001b[0;32m-> 9138\u001b[0;31m                 \u001b[0msort\u001b[0m\u001b[0;34m=\u001b[0m\u001b[0msort\u001b[0m\u001b[0;34m,\u001b[0m\u001b[0;34m\u001b[0m\u001b[0;34m\u001b[0m\u001b[0m\n\u001b[0m\u001b[1;32m   9139\u001b[0m             )\n\u001b[1;32m   9140\u001b[0m         \u001b[0;32melse\u001b[0m\u001b[0;34m:\u001b[0m\u001b[0;34m\u001b[0m\u001b[0;34m\u001b[0m\u001b[0m\n",
            "\u001b[0;32m/usr/local/lib/python3.7/dist-packages/pandas/core/reshape/merge.py\u001b[0m in \u001b[0;36mmerge\u001b[0;34m(left, right, how, on, left_on, right_on, left_index, right_index, sort, suffixes, copy, indicator, validate)\u001b[0m\n\u001b[1;32m    119\u001b[0m         \u001b[0mvalidate\u001b[0m\u001b[0;34m=\u001b[0m\u001b[0mvalidate\u001b[0m\u001b[0;34m,\u001b[0m\u001b[0;34m\u001b[0m\u001b[0;34m\u001b[0m\u001b[0m\n\u001b[1;32m    120\u001b[0m     )\n\u001b[0;32m--> 121\u001b[0;31m     \u001b[0;32mreturn\u001b[0m \u001b[0mop\u001b[0m\u001b[0;34m.\u001b[0m\u001b[0mget_result\u001b[0m\u001b[0;34m(\u001b[0m\u001b[0;34m)\u001b[0m\u001b[0;34m\u001b[0m\u001b[0;34m\u001b[0m\u001b[0m\n\u001b[0m\u001b[1;32m    122\u001b[0m \u001b[0;34m\u001b[0m\u001b[0m\n\u001b[1;32m    123\u001b[0m \u001b[0;34m\u001b[0m\u001b[0m\n",
            "\u001b[0;32m/usr/local/lib/python3.7/dist-packages/pandas/core/reshape/merge.py\u001b[0m in \u001b[0;36mget_result\u001b[0;34m(self)\u001b[0m\n\u001b[1;32m    716\u001b[0m \u001b[0;34m\u001b[0m\u001b[0m\n\u001b[1;32m    717\u001b[0m         llabels, rlabels = _items_overlap_with_suffix(\n\u001b[0;32m--> 718\u001b[0;31m             \u001b[0mself\u001b[0m\u001b[0;34m.\u001b[0m\u001b[0mleft\u001b[0m\u001b[0;34m.\u001b[0m\u001b[0m_info_axis\u001b[0m\u001b[0;34m,\u001b[0m \u001b[0mself\u001b[0m\u001b[0;34m.\u001b[0m\u001b[0mright\u001b[0m\u001b[0;34m.\u001b[0m\u001b[0m_info_axis\u001b[0m\u001b[0;34m,\u001b[0m \u001b[0mself\u001b[0m\u001b[0;34m.\u001b[0m\u001b[0msuffixes\u001b[0m\u001b[0;34m\u001b[0m\u001b[0;34m\u001b[0m\u001b[0m\n\u001b[0m\u001b[1;32m    719\u001b[0m         )\n\u001b[1;32m    720\u001b[0m \u001b[0;34m\u001b[0m\u001b[0m\n",
            "\u001b[0;32m/usr/local/lib/python3.7/dist-packages/pandas/core/reshape/merge.py\u001b[0m in \u001b[0;36m_items_overlap_with_suffix\u001b[0;34m(left, right, suffixes)\u001b[0m\n\u001b[1;32m   2312\u001b[0m \u001b[0;34m\u001b[0m\u001b[0m\n\u001b[1;32m   2313\u001b[0m     \u001b[0;32mif\u001b[0m \u001b[0;32mnot\u001b[0m \u001b[0mlsuffix\u001b[0m \u001b[0;32mand\u001b[0m \u001b[0;32mnot\u001b[0m \u001b[0mrsuffix\u001b[0m\u001b[0;34m:\u001b[0m\u001b[0;34m\u001b[0m\u001b[0;34m\u001b[0m\u001b[0m\n\u001b[0;32m-> 2314\u001b[0;31m         \u001b[0;32mraise\u001b[0m \u001b[0mValueError\u001b[0m\u001b[0;34m(\u001b[0m\u001b[0;34mf\"columns overlap but no suffix specified: {to_rename}\"\u001b[0m\u001b[0;34m)\u001b[0m\u001b[0;34m\u001b[0m\u001b[0;34m\u001b[0m\u001b[0m\n\u001b[0m\u001b[1;32m   2315\u001b[0m \u001b[0;34m\u001b[0m\u001b[0m\n\u001b[1;32m   2316\u001b[0m     \u001b[0;32mdef\u001b[0m \u001b[0mrenamer\u001b[0m\u001b[0;34m(\u001b[0m\u001b[0mx\u001b[0m\u001b[0;34m,\u001b[0m \u001b[0msuffix\u001b[0m\u001b[0;34m)\u001b[0m\u001b[0;34m:\u001b[0m\u001b[0;34m\u001b[0m\u001b[0;34m\u001b[0m\u001b[0m\n",
            "\u001b[0;31mValueError\u001b[0m: columns overlap but no suffix specified: Index(['category'], dtype='object')"
          ]
        }
      ]
    },
    {
      "cell_type": "code",
      "source": [
        "#store the results of flattening the 'outcome_status' branch\n",
        "outcomedata = pd.json_normalize(crimedata['outcome_status'])\n",
        "#join that dataframe to the crimedata_joined one - and store in another variable\n",
        "crimedata_normalized = crimedata_joined.join(outcomedata, rsuffix='_branch')\n",
        "#show it\n",
        "crimedata_normalized"
      ],
      "metadata": {
        "colab": {
          "base_uri": "https://localhost:8080/",
          "height": 364
        },
        "id": "KTEaMUdB35nt",
        "outputId": "9d79c8f3-1f87-4e26-8c15-3db518b66691"
      },
      "execution_count": 58,
      "outputs": [
        {
          "output_type": "execute_result",
          "data": {
            "text/plain": [
              "                category location_type  \\\n",
              "0  possession-of-weapons         Force   \n",
              "1           public-order         Force   \n",
              "2           public-order         Force   \n",
              "\n",
              "                                            location context  \\\n",
              "0  {'latitude': '52.629909', 'street': {'id': 883...           \n",
              "1  {'latitude': '52.629909', 'street': {'id': 883...           \n",
              "2  {'latitude': '52.629909', 'street': {'id': 883...           \n",
              "\n",
              "                                      outcome_status  \\\n",
              "0  {'category': 'Unable to prosecute suspect', 'd...   \n",
              "1  {'category': 'Under investigation', 'date': '2...   \n",
              "2  {'category': 'Investigation complete; no suspe...   \n",
              "\n",
              "                                       persistent_id        id  \\\n",
              "0  5c57f25d5a2ed17462e08584bb53afb3ac7476868e0918...  99557405   \n",
              "1  69e04fe7c5e20a2fdb5cefb9c8045c88a8c62ec7220fd6...  99558269   \n",
              "2  33337d87ccfef036ecbfb8f5a21de1c48c76a4aae74752...  99561304   \n",
              "\n",
              "  location_subtype    month                 streetname   latitude  longitude  \\\n",
              "0                   2022-02  On or near Marquis Street  52.629909  -1.132073   \n",
              "1                   2022-02  On or near Marquis Street  52.629909  -1.132073   \n",
              "2                   2022-02  On or near Marquis Street  52.629909  -1.132073   \n",
              "\n",
              "   street.id                street.name  \\\n",
              "0     883345  On or near Marquis Street   \n",
              "1     883345  On or near Marquis Street   \n",
              "2     883345  On or near Marquis Street   \n",
              "\n",
              "                                 category_branch     date  \n",
              "0                    Unable to prosecute suspect  2022-02  \n",
              "1                            Under investigation  2022-02  \n",
              "2  Investigation complete; no suspect identified  2022-02  "
            ],
            "text/html": [
              "\n",
              "  <div id=\"df-5800c269-5fec-44cc-8970-95c3b5eb60f0\">\n",
              "    <div class=\"colab-df-container\">\n",
              "      <div>\n",
              "<style scoped>\n",
              "    .dataframe tbody tr th:only-of-type {\n",
              "        vertical-align: middle;\n",
              "    }\n",
              "\n",
              "    .dataframe tbody tr th {\n",
              "        vertical-align: top;\n",
              "    }\n",
              "\n",
              "    .dataframe thead th {\n",
              "        text-align: right;\n",
              "    }\n",
              "</style>\n",
              "<table border=\"1\" class=\"dataframe\">\n",
              "  <thead>\n",
              "    <tr style=\"text-align: right;\">\n",
              "      <th></th>\n",
              "      <th>category</th>\n",
              "      <th>location_type</th>\n",
              "      <th>location</th>\n",
              "      <th>context</th>\n",
              "      <th>outcome_status</th>\n",
              "      <th>persistent_id</th>\n",
              "      <th>id</th>\n",
              "      <th>location_subtype</th>\n",
              "      <th>month</th>\n",
              "      <th>streetname</th>\n",
              "      <th>latitude</th>\n",
              "      <th>longitude</th>\n",
              "      <th>street.id</th>\n",
              "      <th>street.name</th>\n",
              "      <th>category_branch</th>\n",
              "      <th>date</th>\n",
              "    </tr>\n",
              "  </thead>\n",
              "  <tbody>\n",
              "    <tr>\n",
              "      <th>0</th>\n",
              "      <td>possession-of-weapons</td>\n",
              "      <td>Force</td>\n",
              "      <td>{'latitude': '52.629909', 'street': {'id': 883...</td>\n",
              "      <td></td>\n",
              "      <td>{'category': 'Unable to prosecute suspect', 'd...</td>\n",
              "      <td>5c57f25d5a2ed17462e08584bb53afb3ac7476868e0918...</td>\n",
              "      <td>99557405</td>\n",
              "      <td></td>\n",
              "      <td>2022-02</td>\n",
              "      <td>On or near Marquis Street</td>\n",
              "      <td>52.629909</td>\n",
              "      <td>-1.132073</td>\n",
              "      <td>883345</td>\n",
              "      <td>On or near Marquis Street</td>\n",
              "      <td>Unable to prosecute suspect</td>\n",
              "      <td>2022-02</td>\n",
              "    </tr>\n",
              "    <tr>\n",
              "      <th>1</th>\n",
              "      <td>public-order</td>\n",
              "      <td>Force</td>\n",
              "      <td>{'latitude': '52.629909', 'street': {'id': 883...</td>\n",
              "      <td></td>\n",
              "      <td>{'category': 'Under investigation', 'date': '2...</td>\n",
              "      <td>69e04fe7c5e20a2fdb5cefb9c8045c88a8c62ec7220fd6...</td>\n",
              "      <td>99558269</td>\n",
              "      <td></td>\n",
              "      <td>2022-02</td>\n",
              "      <td>On or near Marquis Street</td>\n",
              "      <td>52.629909</td>\n",
              "      <td>-1.132073</td>\n",
              "      <td>883345</td>\n",
              "      <td>On or near Marquis Street</td>\n",
              "      <td>Under investigation</td>\n",
              "      <td>2022-02</td>\n",
              "    </tr>\n",
              "    <tr>\n",
              "      <th>2</th>\n",
              "      <td>public-order</td>\n",
              "      <td>Force</td>\n",
              "      <td>{'latitude': '52.629909', 'street': {'id': 883...</td>\n",
              "      <td></td>\n",
              "      <td>{'category': 'Investigation complete; no suspe...</td>\n",
              "      <td>33337d87ccfef036ecbfb8f5a21de1c48c76a4aae74752...</td>\n",
              "      <td>99561304</td>\n",
              "      <td></td>\n",
              "      <td>2022-02</td>\n",
              "      <td>On or near Marquis Street</td>\n",
              "      <td>52.629909</td>\n",
              "      <td>-1.132073</td>\n",
              "      <td>883345</td>\n",
              "      <td>On or near Marquis Street</td>\n",
              "      <td>Investigation complete; no suspect identified</td>\n",
              "      <td>2022-02</td>\n",
              "    </tr>\n",
              "  </tbody>\n",
              "</table>\n",
              "</div>\n",
              "      <button class=\"colab-df-convert\" onclick=\"convertToInteractive('df-5800c269-5fec-44cc-8970-95c3b5eb60f0')\"\n",
              "              title=\"Convert this dataframe to an interactive table.\"\n",
              "              style=\"display:none;\">\n",
              "        \n",
              "  <svg xmlns=\"http://www.w3.org/2000/svg\" height=\"24px\"viewBox=\"0 0 24 24\"\n",
              "       width=\"24px\">\n",
              "    <path d=\"M0 0h24v24H0V0z\" fill=\"none\"/>\n",
              "    <path d=\"M18.56 5.44l.94 2.06.94-2.06 2.06-.94-2.06-.94-.94-2.06-.94 2.06-2.06.94zm-11 1L8.5 8.5l.94-2.06 2.06-.94-2.06-.94L8.5 2.5l-.94 2.06-2.06.94zm10 10l.94 2.06.94-2.06 2.06-.94-2.06-.94-.94-2.06-.94 2.06-2.06.94z\"/><path d=\"M17.41 7.96l-1.37-1.37c-.4-.4-.92-.59-1.43-.59-.52 0-1.04.2-1.43.59L10.3 9.45l-7.72 7.72c-.78.78-.78 2.05 0 2.83L4 21.41c.39.39.9.59 1.41.59.51 0 1.02-.2 1.41-.59l7.78-7.78 2.81-2.81c.8-.78.8-2.07 0-2.86zM5.41 20L4 18.59l7.72-7.72 1.47 1.35L5.41 20z\"/>\n",
              "  </svg>\n",
              "      </button>\n",
              "      \n",
              "  <style>\n",
              "    .colab-df-container {\n",
              "      display:flex;\n",
              "      flex-wrap:wrap;\n",
              "      gap: 12px;\n",
              "    }\n",
              "\n",
              "    .colab-df-convert {\n",
              "      background-color: #E8F0FE;\n",
              "      border: none;\n",
              "      border-radius: 50%;\n",
              "      cursor: pointer;\n",
              "      display: none;\n",
              "      fill: #1967D2;\n",
              "      height: 32px;\n",
              "      padding: 0 0 0 0;\n",
              "      width: 32px;\n",
              "    }\n",
              "\n",
              "    .colab-df-convert:hover {\n",
              "      background-color: #E2EBFA;\n",
              "      box-shadow: 0px 1px 2px rgba(60, 64, 67, 0.3), 0px 1px 3px 1px rgba(60, 64, 67, 0.15);\n",
              "      fill: #174EA6;\n",
              "    }\n",
              "\n",
              "    [theme=dark] .colab-df-convert {\n",
              "      background-color: #3B4455;\n",
              "      fill: #D2E3FC;\n",
              "    }\n",
              "\n",
              "    [theme=dark] .colab-df-convert:hover {\n",
              "      background-color: #434B5C;\n",
              "      box-shadow: 0px 1px 3px 1px rgba(0, 0, 0, 0.15);\n",
              "      filter: drop-shadow(0px 1px 2px rgba(0, 0, 0, 0.3));\n",
              "      fill: #FFFFFF;\n",
              "    }\n",
              "  </style>\n",
              "\n",
              "      <script>\n",
              "        const buttonEl =\n",
              "          document.querySelector('#df-5800c269-5fec-44cc-8970-95c3b5eb60f0 button.colab-df-convert');\n",
              "        buttonEl.style.display =\n",
              "          google.colab.kernel.accessAllowed ? 'block' : 'none';\n",
              "\n",
              "        async function convertToInteractive(key) {\n",
              "          const element = document.querySelector('#df-5800c269-5fec-44cc-8970-95c3b5eb60f0');\n",
              "          const dataTable =\n",
              "            await google.colab.kernel.invokeFunction('convertToInteractive',\n",
              "                                                     [key], {});\n",
              "          if (!dataTable) return;\n",
              "\n",
              "          const docLinkHtml = 'Like what you see? Visit the ' +\n",
              "            '<a target=\"_blank\" href=https://colab.research.google.com/notebooks/data_table.ipynb>data table notebook</a>'\n",
              "            + ' to learn more about interactive tables.';\n",
              "          element.innerHTML = '';\n",
              "          dataTable['output_type'] = 'display_data';\n",
              "          await google.colab.output.renderOutput(dataTable, element);\n",
              "          const docLink = document.createElement('div');\n",
              "          docLink.innerHTML = docLinkHtml;\n",
              "          element.appendChild(docLink);\n",
              "        }\n",
              "      </script>\n",
              "    </div>\n",
              "  </div>\n",
              "  "
            ]
          },
          "metadata": {},
          "execution_count": 58
        }
      ]
    },
    {
      "cell_type": "markdown",
      "source": [
        "## Drop the columns we've now flattened\n",
        "\n",
        "We can now use `.drop()` to specify a list of columns we want to drop from the dataframe. "
      ],
      "metadata": {
        "id": "44UZTiJP8Ux4"
      }
    },
    {
      "cell_type": "code",
      "source": [
        "#drop the specified columns\n",
        "crimedata_normalized = crimedata_normalized.drop(columns=['location','outcome_status'])\n",
        "#show the results\n",
        "crimedata_normalized"
      ],
      "metadata": {
        "colab": {
          "base_uri": "https://localhost:8080/",
          "height": 312
        },
        "id": "mtVl7xtY8Ntw",
        "outputId": "d7ffd7dc-144b-4ac2-fa69-526749c2e996"
      },
      "execution_count": 63,
      "outputs": [
        {
          "output_type": "execute_result",
          "data": {
            "text/plain": [
              "                category location_type context  \\\n",
              "0  possession-of-weapons         Force           \n",
              "1           public-order         Force           \n",
              "2           public-order         Force           \n",
              "\n",
              "                                       persistent_id        id  \\\n",
              "0  5c57f25d5a2ed17462e08584bb53afb3ac7476868e0918...  99557405   \n",
              "1  69e04fe7c5e20a2fdb5cefb9c8045c88a8c62ec7220fd6...  99558269   \n",
              "2  33337d87ccfef036ecbfb8f5a21de1c48c76a4aae74752...  99561304   \n",
              "\n",
              "  location_subtype    month                 streetname   latitude  longitude  \\\n",
              "0                   2022-02  On or near Marquis Street  52.629909  -1.132073   \n",
              "1                   2022-02  On or near Marquis Street  52.629909  -1.132073   \n",
              "2                   2022-02  On or near Marquis Street  52.629909  -1.132073   \n",
              "\n",
              "   street.id                street.name  \\\n",
              "0     883345  On or near Marquis Street   \n",
              "1     883345  On or near Marquis Street   \n",
              "2     883345  On or near Marquis Street   \n",
              "\n",
              "                                 category_branch     date  \n",
              "0                    Unable to prosecute suspect  2022-02  \n",
              "1                            Under investigation  2022-02  \n",
              "2  Investigation complete; no suspect identified  2022-02  "
            ],
            "text/html": [
              "\n",
              "  <div id=\"df-dc00bd7f-e799-4367-b13e-a37e5b7445e2\">\n",
              "    <div class=\"colab-df-container\">\n",
              "      <div>\n",
              "<style scoped>\n",
              "    .dataframe tbody tr th:only-of-type {\n",
              "        vertical-align: middle;\n",
              "    }\n",
              "\n",
              "    .dataframe tbody tr th {\n",
              "        vertical-align: top;\n",
              "    }\n",
              "\n",
              "    .dataframe thead th {\n",
              "        text-align: right;\n",
              "    }\n",
              "</style>\n",
              "<table border=\"1\" class=\"dataframe\">\n",
              "  <thead>\n",
              "    <tr style=\"text-align: right;\">\n",
              "      <th></th>\n",
              "      <th>category</th>\n",
              "      <th>location_type</th>\n",
              "      <th>context</th>\n",
              "      <th>persistent_id</th>\n",
              "      <th>id</th>\n",
              "      <th>location_subtype</th>\n",
              "      <th>month</th>\n",
              "      <th>streetname</th>\n",
              "      <th>latitude</th>\n",
              "      <th>longitude</th>\n",
              "      <th>street.id</th>\n",
              "      <th>street.name</th>\n",
              "      <th>category_branch</th>\n",
              "      <th>date</th>\n",
              "    </tr>\n",
              "  </thead>\n",
              "  <tbody>\n",
              "    <tr>\n",
              "      <th>0</th>\n",
              "      <td>possession-of-weapons</td>\n",
              "      <td>Force</td>\n",
              "      <td></td>\n",
              "      <td>5c57f25d5a2ed17462e08584bb53afb3ac7476868e0918...</td>\n",
              "      <td>99557405</td>\n",
              "      <td></td>\n",
              "      <td>2022-02</td>\n",
              "      <td>On or near Marquis Street</td>\n",
              "      <td>52.629909</td>\n",
              "      <td>-1.132073</td>\n",
              "      <td>883345</td>\n",
              "      <td>On or near Marquis Street</td>\n",
              "      <td>Unable to prosecute suspect</td>\n",
              "      <td>2022-02</td>\n",
              "    </tr>\n",
              "    <tr>\n",
              "      <th>1</th>\n",
              "      <td>public-order</td>\n",
              "      <td>Force</td>\n",
              "      <td></td>\n",
              "      <td>69e04fe7c5e20a2fdb5cefb9c8045c88a8c62ec7220fd6...</td>\n",
              "      <td>99558269</td>\n",
              "      <td></td>\n",
              "      <td>2022-02</td>\n",
              "      <td>On or near Marquis Street</td>\n",
              "      <td>52.629909</td>\n",
              "      <td>-1.132073</td>\n",
              "      <td>883345</td>\n",
              "      <td>On or near Marquis Street</td>\n",
              "      <td>Under investigation</td>\n",
              "      <td>2022-02</td>\n",
              "    </tr>\n",
              "    <tr>\n",
              "      <th>2</th>\n",
              "      <td>public-order</td>\n",
              "      <td>Force</td>\n",
              "      <td></td>\n",
              "      <td>33337d87ccfef036ecbfb8f5a21de1c48c76a4aae74752...</td>\n",
              "      <td>99561304</td>\n",
              "      <td></td>\n",
              "      <td>2022-02</td>\n",
              "      <td>On or near Marquis Street</td>\n",
              "      <td>52.629909</td>\n",
              "      <td>-1.132073</td>\n",
              "      <td>883345</td>\n",
              "      <td>On or near Marquis Street</td>\n",
              "      <td>Investigation complete; no suspect identified</td>\n",
              "      <td>2022-02</td>\n",
              "    </tr>\n",
              "  </tbody>\n",
              "</table>\n",
              "</div>\n",
              "      <button class=\"colab-df-convert\" onclick=\"convertToInteractive('df-dc00bd7f-e799-4367-b13e-a37e5b7445e2')\"\n",
              "              title=\"Convert this dataframe to an interactive table.\"\n",
              "              style=\"display:none;\">\n",
              "        \n",
              "  <svg xmlns=\"http://www.w3.org/2000/svg\" height=\"24px\"viewBox=\"0 0 24 24\"\n",
              "       width=\"24px\">\n",
              "    <path d=\"M0 0h24v24H0V0z\" fill=\"none\"/>\n",
              "    <path d=\"M18.56 5.44l.94 2.06.94-2.06 2.06-.94-2.06-.94-.94-2.06-.94 2.06-2.06.94zm-11 1L8.5 8.5l.94-2.06 2.06-.94-2.06-.94L8.5 2.5l-.94 2.06-2.06.94zm10 10l.94 2.06.94-2.06 2.06-.94-2.06-.94-.94-2.06-.94 2.06-2.06.94z\"/><path d=\"M17.41 7.96l-1.37-1.37c-.4-.4-.92-.59-1.43-.59-.52 0-1.04.2-1.43.59L10.3 9.45l-7.72 7.72c-.78.78-.78 2.05 0 2.83L4 21.41c.39.39.9.59 1.41.59.51 0 1.02-.2 1.41-.59l7.78-7.78 2.81-2.81c.8-.78.8-2.07 0-2.86zM5.41 20L4 18.59l7.72-7.72 1.47 1.35L5.41 20z\"/>\n",
              "  </svg>\n",
              "      </button>\n",
              "      \n",
              "  <style>\n",
              "    .colab-df-container {\n",
              "      display:flex;\n",
              "      flex-wrap:wrap;\n",
              "      gap: 12px;\n",
              "    }\n",
              "\n",
              "    .colab-df-convert {\n",
              "      background-color: #E8F0FE;\n",
              "      border: none;\n",
              "      border-radius: 50%;\n",
              "      cursor: pointer;\n",
              "      display: none;\n",
              "      fill: #1967D2;\n",
              "      height: 32px;\n",
              "      padding: 0 0 0 0;\n",
              "      width: 32px;\n",
              "    }\n",
              "\n",
              "    .colab-df-convert:hover {\n",
              "      background-color: #E2EBFA;\n",
              "      box-shadow: 0px 1px 2px rgba(60, 64, 67, 0.3), 0px 1px 3px 1px rgba(60, 64, 67, 0.15);\n",
              "      fill: #174EA6;\n",
              "    }\n",
              "\n",
              "    [theme=dark] .colab-df-convert {\n",
              "      background-color: #3B4455;\n",
              "      fill: #D2E3FC;\n",
              "    }\n",
              "\n",
              "    [theme=dark] .colab-df-convert:hover {\n",
              "      background-color: #434B5C;\n",
              "      box-shadow: 0px 1px 3px 1px rgba(0, 0, 0, 0.15);\n",
              "      filter: drop-shadow(0px 1px 2px rgba(0, 0, 0, 0.3));\n",
              "      fill: #FFFFFF;\n",
              "    }\n",
              "  </style>\n",
              "\n",
              "      <script>\n",
              "        const buttonEl =\n",
              "          document.querySelector('#df-dc00bd7f-e799-4367-b13e-a37e5b7445e2 button.colab-df-convert');\n",
              "        buttonEl.style.display =\n",
              "          google.colab.kernel.accessAllowed ? 'block' : 'none';\n",
              "\n",
              "        async function convertToInteractive(key) {\n",
              "          const element = document.querySelector('#df-dc00bd7f-e799-4367-b13e-a37e5b7445e2');\n",
              "          const dataTable =\n",
              "            await google.colab.kernel.invokeFunction('convertToInteractive',\n",
              "                                                     [key], {});\n",
              "          if (!dataTable) return;\n",
              "\n",
              "          const docLinkHtml = 'Like what you see? Visit the ' +\n",
              "            '<a target=\"_blank\" href=https://colab.research.google.com/notebooks/data_table.ipynb>data table notebook</a>'\n",
              "            + ' to learn more about interactive tables.';\n",
              "          element.innerHTML = '';\n",
              "          dataTable['output_type'] = 'display_data';\n",
              "          await google.colab.output.renderOutput(dataTable, element);\n",
              "          const docLink = document.createElement('div');\n",
              "          docLink.innerHTML = docLinkHtml;\n",
              "          element.appendChild(docLink);\n",
              "        }\n",
              "      </script>\n",
              "    </div>\n",
              "  </div>\n",
              "  "
            ]
          },
          "metadata": {},
          "execution_count": 63
        }
      ]
    },
    {
      "cell_type": "markdown",
      "metadata": {
        "id": "fkkiFSxIs3Tl"
      },
      "source": [
        "## Checking which fields are dictionaries\n",
        "\n",
        "If we wanted to know which fields in a dataframe could be flattened, we could check which ones are dictionaries, using the `type()` function:"
      ]
    },
    {
      "cell_type": "code",
      "metadata": {
        "colab": {
          "base_uri": "https://localhost:8080/"
        },
        "id": "3I-2e77Epr4Z",
        "outputId": "8e292cff-2f05-4156-cf94-b390f958a1ff"
      },
      "source": [
        "#loop through the first row\n",
        "for i in crimedata.iloc[0]:\n",
        "  #print the item\n",
        "  print('data:', i)\n",
        "  #print the type\n",
        "  print('type:', type(i))\n",
        "  #if it is a dictionary, and can therefore be flattened\n",
        "  if type(i) is dict:\n",
        "    #run json_normalize on it\n",
        "    normali = pd.json_normalize(i)\n",
        "    #and show the results\n",
        "    print('normalized:', normali)"
      ],
      "execution_count": 60,
      "outputs": [
        {
          "output_type": "stream",
          "name": "stdout",
          "text": [
            "data: possession-of-weapons\n",
            "type: <class 'str'>\n",
            "data: Force\n",
            "type: <class 'str'>\n",
            "data: {'latitude': '52.629909', 'street': {'id': 883345, 'name': 'On or near Marquis Street'}, 'longitude': '-1.132073'}\n",
            "type: <class 'dict'>\n",
            "normalized:     latitude  longitude  street.id                street.name\n",
            "0  52.629909  -1.132073     883345  On or near Marquis Street\n",
            "data: \n",
            "type: <class 'str'>\n",
            "data: {'category': 'Unable to prosecute suspect', 'date': '2022-02'}\n",
            "type: <class 'dict'>\n",
            "normalized:                       category     date\n",
            "0  Unable to prosecute suspect  2022-02\n",
            "data: 5c57f25d5a2ed17462e08584bb53afb3ac7476868e09184cee4ff617595ebc05\n",
            "type: <class 'str'>\n",
            "data: 99557405\n",
            "type: <class 'numpy.int64'>\n",
            "data: \n",
            "type: <class 'str'>\n",
            "data: 2022-02\n",
            "type: <class 'str'>\n",
            "data: On or near Marquis Street\n",
            "type: <class 'str'>\n"
          ]
        }
      ]
    },
    {
      "cell_type": "markdown",
      "metadata": {
        "id": "501udZpHrygU"
      },
      "source": [
        "## Alternative approach 1: combining dataframes using `pd.concat()`\n",
        "\n",
        "An alternative to starting with one dataframe and joining others to it using `.join()` is to use the pandas concatenation function `concat()`.\n",
        "\n",
        "First we store all the results of `json_normalize()` in their own dataframes."
      ]
    },
    {
      "cell_type": "code",
      "metadata": {
        "id": "jlzmagKtq1eJ",
        "colab": {
          "base_uri": "https://localhost:8080/",
          "height": 112
        },
        "outputId": "22742074-365e-4f2b-8f89-5a14d39aec2a"
      },
      "source": [
        "#store outcome_status\n",
        "outcomesdf = pd.json_normalize(crimedata['outcome_status'], sep=\"_\")\n",
        "#store locations\n",
        "locationsdf = pd.json_normalize(crimedata['location'], sep=\"_\")\n",
        "outcomesdf"
      ],
      "execution_count": null,
      "outputs": [
        {
          "output_type": "execute_result",
          "data": {
            "text/html": [
              "<div>\n",
              "<style scoped>\n",
              "    .dataframe tbody tr th:only-of-type {\n",
              "        vertical-align: middle;\n",
              "    }\n",
              "\n",
              "    .dataframe tbody tr th {\n",
              "        vertical-align: top;\n",
              "    }\n",
              "\n",
              "    .dataframe thead th {\n",
              "        text-align: right;\n",
              "    }\n",
              "</style>\n",
              "<table border=\"1\" class=\"dataframe\">\n",
              "  <thead>\n",
              "    <tr style=\"text-align: right;\">\n",
              "      <th></th>\n",
              "      <th>category</th>\n",
              "      <th>date</th>\n",
              "    </tr>\n",
              "  </thead>\n",
              "  <tbody>\n",
              "    <tr>\n",
              "      <th>0</th>\n",
              "      <td>Local resolution</td>\n",
              "      <td>2021-03</td>\n",
              "    </tr>\n",
              "    <tr>\n",
              "      <th>1</th>\n",
              "      <td>Unable to prosecute suspect</td>\n",
              "      <td>2021-03</td>\n",
              "    </tr>\n",
              "  </tbody>\n",
              "</table>\n",
              "</div>"
            ],
            "text/plain": [
              "                      category     date\n",
              "0             Local resolution  2021-03\n",
              "1  Unable to prosecute suspect  2021-03"
            ]
          },
          "metadata": {},
          "execution_count": 59
        }
      ]
    },
    {
      "cell_type": "markdown",
      "metadata": {
        "id": "8Pzl7ZulsbhL"
      },
      "source": [
        "The `concat` function from `pandas` needs a list of dataframes to concatenate (as the `obs=` argument) and the `axis` on which you want to concatenate. This defaults to `0`, meaning it will concatenate vertically (e.g. different time periods with the same data structure), but we need to specify `1` if we want to concatenate horizontally (e.g. extra data on the same rows)."
      ]
    },
    {
      "cell_type": "code",
      "metadata": {
        "colab": {
          "base_uri": "https://localhost:8080/",
          "height": 236
        },
        "id": "2JpXye0GrBkF",
        "outputId": "834774b2-c8f0-4181-d879-11b60f3af684"
      },
      "source": [
        "#use the concat function to combine the dataframes\n",
        "pd.concat(objs=[crimedata,outcomesdf,locationsdf],axis=1)"
      ],
      "execution_count": null,
      "outputs": [
        {
          "output_type": "execute_result",
          "data": {
            "text/html": [
              "<div>\n",
              "<style scoped>\n",
              "    .dataframe tbody tr th:only-of-type {\n",
              "        vertical-align: middle;\n",
              "    }\n",
              "\n",
              "    .dataframe tbody tr th {\n",
              "        vertical-align: top;\n",
              "    }\n",
              "\n",
              "    .dataframe thead th {\n",
              "        text-align: right;\n",
              "    }\n",
              "</style>\n",
              "<table border=\"1\" class=\"dataframe\">\n",
              "  <thead>\n",
              "    <tr style=\"text-align: right;\">\n",
              "      <th></th>\n",
              "      <th>category</th>\n",
              "      <th>location_type</th>\n",
              "      <th>location</th>\n",
              "      <th>context</th>\n",
              "      <th>outcome_status</th>\n",
              "      <th>persistent_id</th>\n",
              "      <th>id</th>\n",
              "      <th>location_subtype</th>\n",
              "      <th>month</th>\n",
              "      <th>category</th>\n",
              "      <th>date</th>\n",
              "      <th>latitude</th>\n",
              "      <th>longitude</th>\n",
              "      <th>street_id</th>\n",
              "      <th>street_name</th>\n",
              "    </tr>\n",
              "  </thead>\n",
              "  <tbody>\n",
              "    <tr>\n",
              "      <th>0</th>\n",
              "      <td>drugs</td>\n",
              "      <td>Force</td>\n",
              "      <td>{'latitude': '52.629909', 'street': {'id': 883...</td>\n",
              "      <td></td>\n",
              "      <td>{'category': 'Local resolution', 'date': '2021...</td>\n",
              "      <td>21bf6ec31d7744b835eed277943ac5c2542f36429675b0...</td>\n",
              "      <td>90363437</td>\n",
              "      <td></td>\n",
              "      <td>2021-02</td>\n",
              "      <td>Local resolution</td>\n",
              "      <td>2021-03</td>\n",
              "      <td>52.629909</td>\n",
              "      <td>-1.132073</td>\n",
              "      <td>883345</td>\n",
              "      <td>On or near Marquis Street</td>\n",
              "    </tr>\n",
              "    <tr>\n",
              "      <th>1</th>\n",
              "      <td>violent-crime</td>\n",
              "      <td>Force</td>\n",
              "      <td>{'latitude': '52.629909', 'street': {'id': 883...</td>\n",
              "      <td></td>\n",
              "      <td>{'category': 'Unable to prosecute suspect', 'd...</td>\n",
              "      <td>a65a86d1f35bc06ede4039382f7c04844d9c01162c1a4a...</td>\n",
              "      <td>90361215</td>\n",
              "      <td></td>\n",
              "      <td>2021-02</td>\n",
              "      <td>Unable to prosecute suspect</td>\n",
              "      <td>2021-03</td>\n",
              "      <td>52.629909</td>\n",
              "      <td>-1.132073</td>\n",
              "      <td>883345</td>\n",
              "      <td>On or near Marquis Street</td>\n",
              "    </tr>\n",
              "  </tbody>\n",
              "</table>\n",
              "</div>"
            ],
            "text/plain": [
              "        category location_type  ... street_id                street_name\n",
              "0          drugs         Force  ...    883345  On or near Marquis Street\n",
              "1  violent-crime         Force  ...    883345  On or near Marquis Street\n",
              "\n",
              "[2 rows x 15 columns]"
            ]
          },
          "metadata": {},
          "execution_count": 55
        }
      ]
    },
    {
      "cell_type": "markdown",
      "metadata": {
        "id": "tFCYQDDl0_eh"
      },
      "source": [
        "Note that the original unflattened columns will still be there, so you'll need to remove those."
      ]
    },
    {
      "cell_type": "code",
      "metadata": {
        "colab": {
          "base_uri": "https://localhost:8080/",
          "height": 236
        },
        "id": "Eka1IKVo1Ej9",
        "outputId": "1a95b7c7-7074-4372-9725-c70b43f5431c"
      },
      "source": [
        "#use the concat function to combine the dataframes\n",
        "crimedataflat = pd.concat(objs=[crimedata,outcomesdf,locationsdf],axis=1)\n",
        "crimedataflat"
      ],
      "execution_count": null,
      "outputs": [
        {
          "output_type": "execute_result",
          "data": {
            "text/html": [
              "<div>\n",
              "<style scoped>\n",
              "    .dataframe tbody tr th:only-of-type {\n",
              "        vertical-align: middle;\n",
              "    }\n",
              "\n",
              "    .dataframe tbody tr th {\n",
              "        vertical-align: top;\n",
              "    }\n",
              "\n",
              "    .dataframe thead th {\n",
              "        text-align: right;\n",
              "    }\n",
              "</style>\n",
              "<table border=\"1\" class=\"dataframe\">\n",
              "  <thead>\n",
              "    <tr style=\"text-align: right;\">\n",
              "      <th></th>\n",
              "      <th>category</th>\n",
              "      <th>location_type</th>\n",
              "      <th>location</th>\n",
              "      <th>context</th>\n",
              "      <th>outcome_status</th>\n",
              "      <th>persistent_id</th>\n",
              "      <th>id</th>\n",
              "      <th>location_subtype</th>\n",
              "      <th>month</th>\n",
              "      <th>category</th>\n",
              "      <th>date</th>\n",
              "      <th>latitude</th>\n",
              "      <th>longitude</th>\n",
              "      <th>street_id</th>\n",
              "      <th>street_name</th>\n",
              "    </tr>\n",
              "  </thead>\n",
              "  <tbody>\n",
              "    <tr>\n",
              "      <th>0</th>\n",
              "      <td>drugs</td>\n",
              "      <td>Force</td>\n",
              "      <td>{'latitude': '52.629909', 'street': {'id': 883...</td>\n",
              "      <td></td>\n",
              "      <td>{'category': 'Local resolution', 'date': '2021...</td>\n",
              "      <td>21bf6ec31d7744b835eed277943ac5c2542f36429675b0...</td>\n",
              "      <td>90363437</td>\n",
              "      <td></td>\n",
              "      <td>2021-02</td>\n",
              "      <td>Local resolution</td>\n",
              "      <td>2021-03</td>\n",
              "      <td>52.629909</td>\n",
              "      <td>-1.132073</td>\n",
              "      <td>883345</td>\n",
              "      <td>On or near Marquis Street</td>\n",
              "    </tr>\n",
              "    <tr>\n",
              "      <th>1</th>\n",
              "      <td>violent-crime</td>\n",
              "      <td>Force</td>\n",
              "      <td>{'latitude': '52.629909', 'street': {'id': 883...</td>\n",
              "      <td></td>\n",
              "      <td>{'category': 'Unable to prosecute suspect', 'd...</td>\n",
              "      <td>a65a86d1f35bc06ede4039382f7c04844d9c01162c1a4a...</td>\n",
              "      <td>90361215</td>\n",
              "      <td></td>\n",
              "      <td>2021-02</td>\n",
              "      <td>Unable to prosecute suspect</td>\n",
              "      <td>2021-03</td>\n",
              "      <td>52.629909</td>\n",
              "      <td>-1.132073</td>\n",
              "      <td>883345</td>\n",
              "      <td>On or near Marquis Street</td>\n",
              "    </tr>\n",
              "  </tbody>\n",
              "</table>\n",
              "</div>"
            ],
            "text/plain": [
              "        category location_type  ... street_id                street_name\n",
              "0          drugs         Force  ...    883345  On or near Marquis Street\n",
              "1  violent-crime         Force  ...    883345  On or near Marquis Street\n",
              "\n",
              "[2 rows x 15 columns]"
            ]
          },
          "metadata": {},
          "execution_count": 56
        }
      ]
    },
    {
      "cell_type": "code",
      "metadata": {
        "colab": {
          "base_uri": "https://localhost:8080/",
          "height": 184
        },
        "id": "ngzGHJRF1PTT",
        "outputId": "f4c74ff3-636e-4912-8767-a4d047029f49"
      },
      "source": [
        "crimedataflat.drop(columns=['location','outcome_status'])"
      ],
      "execution_count": null,
      "outputs": [
        {
          "output_type": "execute_result",
          "data": {
            "text/html": [
              "<div>\n",
              "<style scoped>\n",
              "    .dataframe tbody tr th:only-of-type {\n",
              "        vertical-align: middle;\n",
              "    }\n",
              "\n",
              "    .dataframe tbody tr th {\n",
              "        vertical-align: top;\n",
              "    }\n",
              "\n",
              "    .dataframe thead th {\n",
              "        text-align: right;\n",
              "    }\n",
              "</style>\n",
              "<table border=\"1\" class=\"dataframe\">\n",
              "  <thead>\n",
              "    <tr style=\"text-align: right;\">\n",
              "      <th></th>\n",
              "      <th>category</th>\n",
              "      <th>location_type</th>\n",
              "      <th>context</th>\n",
              "      <th>persistent_id</th>\n",
              "      <th>id</th>\n",
              "      <th>location_subtype</th>\n",
              "      <th>month</th>\n",
              "      <th>category</th>\n",
              "      <th>date</th>\n",
              "      <th>latitude</th>\n",
              "      <th>longitude</th>\n",
              "      <th>street_id</th>\n",
              "      <th>street_name</th>\n",
              "    </tr>\n",
              "  </thead>\n",
              "  <tbody>\n",
              "    <tr>\n",
              "      <th>0</th>\n",
              "      <td>drugs</td>\n",
              "      <td>Force</td>\n",
              "      <td></td>\n",
              "      <td>21bf6ec31d7744b835eed277943ac5c2542f36429675b0...</td>\n",
              "      <td>90363437</td>\n",
              "      <td></td>\n",
              "      <td>2021-02</td>\n",
              "      <td>Local resolution</td>\n",
              "      <td>2021-03</td>\n",
              "      <td>52.629909</td>\n",
              "      <td>-1.132073</td>\n",
              "      <td>883345</td>\n",
              "      <td>On or near Marquis Street</td>\n",
              "    </tr>\n",
              "    <tr>\n",
              "      <th>1</th>\n",
              "      <td>violent-crime</td>\n",
              "      <td>Force</td>\n",
              "      <td></td>\n",
              "      <td>a65a86d1f35bc06ede4039382f7c04844d9c01162c1a4a...</td>\n",
              "      <td>90361215</td>\n",
              "      <td></td>\n",
              "      <td>2021-02</td>\n",
              "      <td>Unable to prosecute suspect</td>\n",
              "      <td>2021-03</td>\n",
              "      <td>52.629909</td>\n",
              "      <td>-1.132073</td>\n",
              "      <td>883345</td>\n",
              "      <td>On or near Marquis Street</td>\n",
              "    </tr>\n",
              "  </tbody>\n",
              "</table>\n",
              "</div>"
            ],
            "text/plain": [
              "        category location_type  ... street_id                street_name\n",
              "0          drugs         Force  ...    883345  On or near Marquis Street\n",
              "1  violent-crime         Force  ...    883345  On or near Marquis Street\n",
              "\n",
              "[2 rows x 13 columns]"
            ]
          },
          "metadata": {},
          "execution_count": 57
        }
      ]
    },
    {
      "cell_type": "markdown",
      "source": [
        "## Alternative approach 2: using loops to move sub-branches into their own column\n",
        "\n",
        "Another way to extract sub-branches of a JSON-based dataframe is to create a loop to go through each row and drill down into the relevant sub-branch.\n",
        "\n",
        "To do that you need to generate a list of row indices, and then create a loop that goes through each, using it to access the sub-branch in the row with that index. \n",
        "\n",
        "The `range()` function is very useful here: it will generate a list of numbers based on the start and end numbers you provide. The resulting range will stop short of the last number, so `range(0,3)` for example, will generate the numbers 0, 1 and 2 (but not 3).\n",
        "\n",
        "The `len()` function is the other tool we will need: we can use this to find out how many items are in a list, or rows in a dataframe, so we can use that to set the last number in our range. \n",
        "\n",
        "PS: One of the quirks of Python is this: on a list with 3 items `len()` will return `3`. But those items have the indices 0, 1 and 2 (because an index of 2 means 'the third item' in a zero-based index)."
      ],
      "metadata": {
        "id": "Ib4QJXjYVVBP"
      }
    },
    {
      "cell_type": "code",
      "source": [
        "#how many items?\n",
        "print(len(crimedata))\n",
        "#create a list of indices, starting from 0 and ending before that number\n",
        "indexrange = range(0,len(crimedata))\n",
        "#this will be printed as a 'range object' with the start and end positions\n",
        "print(indexrange)"
      ],
      "metadata": {
        "colab": {
          "base_uri": "https://localhost:8080/"
        },
        "id": "GBOcHrWyVs2j",
        "outputId": "414ffa20-e8ea-46da-c749-5e9214afa418"
      },
      "execution_count": null,
      "outputs": [
        {
          "output_type": "stream",
          "name": "stdout",
          "text": [
            "3\n",
            "range(0, 3)\n"
          ]
        }
      ]
    },
    {
      "cell_type": "code",
      "source": [
        "#create an empty list to store the results\n",
        "streetnamelist = []\n",
        "\n",
        "#loop through a range of numbers from 0 to the number of items in the dataframe\n",
        "for i in range(0,len(crimedata):\n",
        "  #access the street branch of that 'location' item, then the 'name' sub-sub-branch\n",
        "  streetname = crimedata['location'][i]['street']['name']\n",
        "  #print it\n",
        "  print(streetname)\n",
        "  #add it to the list\n",
        "  streetnamelist.append(streetname)\n",
        "\n",
        "#check it worked - we should now have a list with an item for each row\n",
        "print(streetnamelist)\n",
        "\n",
        "#add to the dataframe as a new column\n",
        "crimedata['streetname'] = streetnamelist\n",
        "\n",
        "print(crimedata)"
      ],
      "metadata": {
        "colab": {
          "base_uri": "https://localhost:8080/"
        },
        "id": "MTmp0tdxV-BS",
        "outputId": "2241a0fe-662f-46c9-ddcd-a9066dba592a"
      },
      "execution_count": null,
      "outputs": [
        {
          "output_type": "stream",
          "name": "stdout",
          "text": [
            "On or near Marquis Street\n",
            "On or near Marquis Street\n",
            "On or near Marquis Street\n",
            "['On or near Marquis Street', 'On or near Marquis Street', 'On or near Marquis Street']\n",
            "                category location_type  \\\n",
            "0  possession-of-weapons         Force   \n",
            "1           public-order         Force   \n",
            "2           public-order         Force   \n",
            "\n",
            "                                            location context  \\\n",
            "0  {'latitude': '52.629909', 'street': {'id': 883...           \n",
            "1  {'latitude': '52.629909', 'street': {'id': 883...           \n",
            "2  {'latitude': '52.629909', 'street': {'id': 883...           \n",
            "\n",
            "                                      outcome_status  \\\n",
            "0  {'category': 'Unable to prosecute suspect', 'd...   \n",
            "1  {'category': 'Under investigation', 'date': '2...   \n",
            "2  {'category': 'Investigation complete; no suspe...   \n",
            "\n",
            "                                       persistent_id        id  \\\n",
            "0  5c57f25d5a2ed17462e08584bb53afb3ac7476868e0918...  99557405   \n",
            "1  69e04fe7c5e20a2fdb5cefb9c8045c88a8c62ec7220fd6...  99558269   \n",
            "2  33337d87ccfef036ecbfb8f5a21de1c48c76a4aae74752...  99561304   \n",
            "\n",
            "  location_subtype    month                 streetname  \n",
            "0                   2022-02  On or near Marquis Street  \n",
            "1                   2022-02  On or near Marquis Street  \n",
            "2                   2022-02  On or near Marquis Street  \n"
          ]
        }
      ]
    }
  ]
}
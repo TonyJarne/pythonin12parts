{
  "nbformat": 4,
  "nbformat_minor": 0,
  "metadata": {
    "colab": {
      "provenance": [],
      "toc_visible": true
    },
    "kernelspec": {
      "name": "python3",
      "display_name": "Python 3"
    },
    "language_info": {
      "name": "python"
    }
  },
  "cells": [
    {
      "cell_type": "markdown",
      "source": [
        "# Looping through lists (and a bit of a JSON refresher)\n",
        "\n",
        "This notebook covers dealing with lists and some other questions from the 11th session.\n",
        "\n",
        "Let's start by creating a list, and storing it in a variable. \n",
        "\n",
        "A list is created by using square brackets - it doesn't matter if those brackets contain anything (if they don't, it's just an empty list).\n",
        "\n",
        "It's stored in the same way as any other variable, by naming the variable followed by an `=` sign, before the list is created to the right of that.\n",
        "\n",
        "*Tip: You can make the list easier to read by pressing enter after each comma - Colab will automatically indent the items, and it will still work as code.*"
      ],
      "metadata": {
        "id": "siAe-FV3GHxa"
      }
    },
    {
      "cell_type": "code",
      "execution_count": null,
      "metadata": {
        "id": "nyoGcIYLF2Mz"
      },
      "outputs": [],
      "source": [
        "#create a variable containing a list of 3 strings\n",
        "myurls = ['https://www.thebureauinvestigates.com/profile/jasperjackson',\n",
        "          'https://www.thebureauinvestigates.com/profile/matthewchapman',\n",
        "          'https://www.thebureauinvestigates.com/profile/vickygayle']"
      ]
    },
    {
      "cell_type": "markdown",
      "source": [
        "## Checking if a variable is a list\n",
        "\n",
        "You can check that a variable is a list by using the `type()` function."
      ],
      "metadata": {
        "id": "JyAfDP9aRuZE"
      }
    },
    {
      "cell_type": "code",
      "source": [
        "#check what type of variable it is\n",
        "type(myurls)"
      ],
      "metadata": {
        "colab": {
          "base_uri": "https://localhost:8080/"
        },
        "id": "qvxVk0LPHbHP",
        "outputId": "b5c8d782-0405-4b35-c332-3afc0d6f9e54"
      },
      "execution_count": null,
      "outputs": [
        {
          "output_type": "execute_result",
          "data": {
            "text/plain": [
              "list"
            ]
          },
          "metadata": {},
          "execution_count": 2
        }
      ]
    },
    {
      "cell_type": "markdown",
      "source": [
        "## Checking how many items are in a list\n",
        "\n",
        "The `len()` function will tell you how many items are in a list (its length)."
      ],
      "metadata": {
        "id": "f2OPV9KJR1fC"
      }
    },
    {
      "cell_type": "code",
      "source": [
        "#check how many items are in the list\n",
        "len(myurls)"
      ],
      "metadata": {
        "colab": {
          "base_uri": "https://localhost:8080/"
        },
        "id": "mI9lvmnDHgUl",
        "outputId": "65f30c22-8748-45d0-b7a6-01c99aaf393e"
      },
      "execution_count": null,
      "outputs": [
        {
          "output_type": "execute_result",
          "data": {
            "text/plain": [
              "3"
            ]
          },
          "metadata": {},
          "execution_count": 3
        }
      ]
    },
    {
      "cell_type": "markdown",
      "source": [
        "## Use an index to grab an item from a list based on its position\n",
        "\n",
        "Each item in a list can be grabbed by specifying what position it sits at - its **index**. \n",
        "\n",
        "You specify the index of an item by putting the number of that position in square brackets after the name of the list.\n",
        "\n",
        "Note: indexing in Python begins at zero, so the first item is index `0`, the second is index `1`, and so on."
      ],
      "metadata": {
        "id": "wgxPEHFpR8Wi"
      }
    },
    {
      "cell_type": "code",
      "source": [
        "#fetch the first item (the item at position 0)\n",
        "myurls[0]"
      ],
      "metadata": {
        "colab": {
          "base_uri": "https://localhost:8080/",
          "height": 36
        },
        "id": "b7YcR1zEHnou",
        "outputId": "b926e72a-2401-4519-fa1f-a24a75537a79"
      },
      "execution_count": null,
      "outputs": [
        {
          "output_type": "execute_result",
          "data": {
            "text/plain": [
              "'https://www.thebureauinvestigates.com/profile/jasperjackson'"
            ],
            "application/vnd.google.colaboratory.intrinsic+json": {
              "type": "string"
            }
          },
          "metadata": {},
          "execution_count": 4
        }
      ]
    },
    {
      "cell_type": "code",
      "source": [
        "#fetch the second item (the item at position 1)\n",
        "myurls[1]"
      ],
      "metadata": {
        "colab": {
          "base_uri": "https://localhost:8080/",
          "height": 36
        },
        "id": "yOUgQX0bHxHE",
        "outputId": "174c6d0c-2511-424b-9e3a-fea856016d17"
      },
      "execution_count": null,
      "outputs": [
        {
          "output_type": "execute_result",
          "data": {
            "text/plain": [
              "'https://www.thebureauinvestigates.com/profile/matthewchapman'"
            ],
            "application/vnd.google.colaboratory.intrinsic+json": {
              "type": "string"
            }
          },
          "metadata": {},
          "execution_count": 5
        }
      ]
    },
    {
      "cell_type": "code",
      "source": [
        "#fetch the third item (the item at position 2)\n",
        "myurls[2]"
      ],
      "metadata": {
        "colab": {
          "base_uri": "https://localhost:8080/",
          "height": 36
        },
        "id": "Ekh8AtE_H1Bb",
        "outputId": "de96e1d7-68cf-486f-91d6-13cb7666d8ea"
      },
      "execution_count": null,
      "outputs": [
        {
          "output_type": "execute_result",
          "data": {
            "text/plain": [
              "'https://www.thebureauinvestigates.com/profile/vickygayle'"
            ],
            "application/vnd.google.colaboratory.intrinsic+json": {
              "type": "string"
            }
          },
          "metadata": {},
          "execution_count": 6
        }
      ]
    },
    {
      "cell_type": "markdown",
      "source": [
        "## Getting an error with list positions (indices)\n",
        "\n",
        "If we try to fetch an item at a position that doesn't exist, we will get an error - specifically an `IndexError` (which is a big clue). \n",
        "\n",
        "It will even tell us that the 'list index' is \"out of range\" - in other words, the list only has a range of indices from 0 to 2, so anything other than those is outside that range."
      ],
      "metadata": {
        "id": "mQ9aNUWsH7yU"
      }
    },
    {
      "cell_type": "code",
      "source": [
        "#try to get the item at position 3 (the fourth item)\n",
        "myurls[3]"
      ],
      "metadata": {
        "colab": {
          "base_uri": "https://localhost:8080/",
          "height": 189
        },
        "id": "enHxvdlAH3p7",
        "outputId": "3463abc2-56a2-47e6-adf2-80faeb8c247c"
      },
      "execution_count": null,
      "outputs": [
        {
          "output_type": "error",
          "ename": "IndexError",
          "evalue": "ignored",
          "traceback": [
            "\u001b[0;31m---------------------------------------------------------------------------\u001b[0m",
            "\u001b[0;31mIndexError\u001b[0m                                Traceback (most recent call last)",
            "\u001b[0;32m<ipython-input-7-e38af9e5b091>\u001b[0m in \u001b[0;36m<module>\u001b[0;34m()\u001b[0m\n\u001b[1;32m      1\u001b[0m \u001b[0;31m#if we try to fetch an item at a position that doesn't exist\u001b[0m\u001b[0;34m\u001b[0m\u001b[0;34m\u001b[0m\u001b[0;34m\u001b[0m\u001b[0m\n\u001b[0;32m----> 2\u001b[0;31m \u001b[0mmyurls\u001b[0m\u001b[0;34m[\u001b[0m\u001b[0;36m3\u001b[0m\u001b[0;34m]\u001b[0m\u001b[0;34m\u001b[0m\u001b[0;34m\u001b[0m\u001b[0m\n\u001b[0m",
            "\u001b[0;31mIndexError\u001b[0m: list index out of range"
          ]
        }
      ]
    },
    {
      "cell_type": "markdown",
      "source": [
        "## Looping through the list\n",
        "\n",
        "To loop through *all* the items in a list, you can write a `for` loop. \n",
        "\n",
        "The first line of a `for` loop follows this pattern:\n",
        "\n",
        "`for THING in LIST:`\n",
        "\n",
        "You need to replace `LIST` with the name of your list, and `THING` with the name you want to use for each item as it loops. Most often, `i` is used for that 'thing'.\n",
        "\n",
        "After the colon, you *must* have at least one **indented** line containing the code that you want to run while it is looping. \n",
        "\n",
        "The most basic thing you might want to do is `print()` each item, as it loops. "
      ],
      "metadata": {
        "id": "OFo0O0vJIZDD"
      }
    },
    {
      "cell_type": "code",
      "source": [
        "#go through each item in the list\n",
        "#store it in a variable called 'i'\n",
        "for i in myurls:\n",
        "  #print the variable i\n",
        "  print(i)\n",
        "  #print 'scraping ' and the variable 'i' too\n",
        "  print(\"scraping: \"+i)"
      ],
      "metadata": {
        "colab": {
          "base_uri": "https://localhost:8080/"
        },
        "id": "8C1xwlEOIk2R",
        "outputId": "f5efbffb-a1b7-45f2-d454-e191c04fca1b"
      },
      "execution_count": null,
      "outputs": [
        {
          "output_type": "stream",
          "name": "stdout",
          "text": [
            "scraping: https://www.thebureauinvestigates.com/profile/jasperjackson\n",
            "https://www.thebureauinvestigates.com/profile/jasperjackson\n",
            "scraping: https://www.thebureauinvestigates.com/profile/matthewchapman\n",
            "https://www.thebureauinvestigates.com/profile/matthewchapman\n",
            "scraping: https://www.thebureauinvestigates.com/profile/vickygayle\n",
            "https://www.thebureauinvestigates.com/profile/vickygayle\n"
          ]
        }
      ]
    },
    {
      "cell_type": "markdown",
      "source": [
        "## Looping through a list using indices instead\n",
        "\n",
        "Sometimes we might want to loop through multiple lists at the same time (because they're the same length and would line up with each other in a table)\n",
        "\n",
        "To do that we can loop through a range of numbers (indices) instead.\n",
        "\n",
        "This can mess with your head, so if it's too confusing, just skip it!"
      ],
      "metadata": {
        "id": "xh-D3vdAKbTh"
      }
    },
    {
      "cell_type": "code",
      "source": [
        "listofnames = ['Jasper','Matt','Vicky']\n",
        "#loop through the range of numbers generated by the range function\n",
        "for i in range(0,3):\n",
        "  #convert to a string\n",
        "  number_as_string = str(i)\n",
        "  #combine with another string and print\n",
        "  print(\"the number is \"+number_as_string)\n",
        "  #print the item at that position in the url list\n",
        "  print(myurls[i])\n",
        "  #print the item at that position in the other list\n",
        "  print(listofnames[i])"
      ],
      "metadata": {
        "colab": {
          "base_uri": "https://localhost:8080/"
        },
        "id": "fc0HBq73Jm-0",
        "outputId": "f99e0427-3256-4ec3-de69-61e5240f6ad3"
      },
      "execution_count": null,
      "outputs": [
        {
          "output_type": "stream",
          "name": "stdout",
          "text": [
            "the number is 0\n",
            "https://www.thebureauinvestigates.com/profile/jasperjackson\n",
            "Jasper\n",
            "the number is 1\n",
            "https://www.thebureauinvestigates.com/profile/matthewchapman\n",
            "Matt\n",
            "the number is 2\n",
            "https://www.thebureauinvestigates.com/profile/vickygayle\n",
            "Vicky\n"
          ]
        }
      ]
    },
    {
      "cell_type": "markdown",
      "source": [
        "## Storing information from a loop\n",
        "\n",
        "If you want to extract information from a loop you'll need to create an empty variable *before* the loop runs in order to store stuff that you extract while looping. "
      ],
      "metadata": {
        "id": "A8nPhsmjN-4n"
      }
    },
    {
      "cell_type": "markdown",
      "source": [
        "### Detour: extracting some information\n",
        "\n",
        "First, we'll need to test some code for extracting the information, which we will then put in the code so it repeats for each item.\n",
        "\n",
        "This uses the `.split()` method to split a string into a number of smaller strings, wherever it finds a specified character (in the example below, a slash).\n",
        "\n",
        "It then uses an index to grab the last item in that resulting list."
      ],
      "metadata": {
        "id": "izpbRNqqTNDt"
      }
    },
    {
      "cell_type": "code",
      "source": [
        "#split the URL string on each slash\n",
        "spliturl = myurls[0].split(\"/\")\n",
        "#grab the 5th item from the resulting list\n",
        "item5 = spliturl[4]\n",
        "#print it\n",
        "print(item5)\n",
        "#grab the last item\n",
        "lastitem = spliturl[-1]\n",
        "#print that\n",
        "print(lastitem)"
      ],
      "metadata": {
        "colab": {
          "base_uri": "https://localhost:8080/"
        },
        "id": "Z5zZFmzsOgkA",
        "outputId": "7e98163e-569c-4231-ba02-f1c541bd0500"
      },
      "execution_count": null,
      "outputs": [
        {
          "output_type": "stream",
          "name": "stdout",
          "text": [
            "jasperjackson\n",
            "jasperjackson\n"
          ]
        }
      ]
    },
    {
      "cell_type": "markdown",
      "source": [
        "### Back to the loop\n",
        "\n",
        "Now we've got that working, we insert it into our loop.\n",
        "\n",
        "We also create an empty list *before* it runs, which will store whatever we extract."
      ],
      "metadata": {
        "id": "ejFQ20grTfzC"
      }
    },
    {
      "cell_type": "code",
      "source": [
        "#create an empty list to store what we extract inside the loop\n",
        "personids = []\n",
        "\n",
        "#go through each item in the list\n",
        "#store it in a variable called 'i'\n",
        "for i in myurls:\n",
        "  print(\"scraping: \"+i)\n",
        "  #print the variable i\n",
        "  print(i)\n",
        "  #extract the name at the end\n",
        "  #split the URL string on each slash\n",
        "  spliturl = i.split(\"/\")\n",
        "  print(spliturl)\n",
        "  #grab the 5th item from the resulting list\n",
        "  item5 = spliturl[4]\n",
        "  print(item5)\n",
        "  #store that in the previously empty list\n",
        "  personids.append(item5)\n",
        "  #print the list so far\n",
        "  print(personids)"
      ],
      "metadata": {
        "colab": {
          "base_uri": "https://localhost:8080/"
        },
        "id": "xKjnb3yAOApA",
        "outputId": "07a5e0e8-e784-4284-956e-d3568d7920d8"
      },
      "execution_count": null,
      "outputs": [
        {
          "output_type": "stream",
          "name": "stdout",
          "text": [
            "scraping: https://www.thebureauinvestigates.com/profile/jasperjackson\n",
            "https://www.thebureauinvestigates.com/profile/jasperjackson\n",
            "['https:', '', 'www.thebureauinvestigates.com', 'profile', 'jasperjackson']\n",
            "jasperjackson\n",
            "['jasperjackson']\n",
            "scraping: https://www.thebureauinvestigates.com/profile/matthewchapman\n",
            "https://www.thebureauinvestigates.com/profile/matthewchapman\n",
            "['https:', '', 'www.thebureauinvestigates.com', 'profile', 'matthewchapman']\n",
            "matthewchapman\n",
            "['jasperjackson', 'matthewchapman']\n",
            "scraping: https://www.thebureauinvestigates.com/profile/vickygayle\n",
            "https://www.thebureauinvestigates.com/profile/vickygayle\n",
            "['https:', '', 'www.thebureauinvestigates.com', 'profile', 'vickygayle']\n",
            "vickygayle\n",
            "['jasperjackson', 'matthewchapman', 'vickygayle']\n"
          ]
        }
      ]
    },
    {
      "cell_type": "code",
      "source": [
        "#print the whole loop now it's finished\n",
        "print(personids)"
      ],
      "metadata": {
        "colab": {
          "base_uri": "https://localhost:8080/"
        },
        "id": "fzvuI51TP9BS",
        "outputId": "8196f3ff-4c29-4d61-b72a-a74a060771fc"
      },
      "execution_count": null,
      "outputs": [
        {
          "output_type": "stream",
          "name": "stdout",
          "text": [
            "['jasperjackson', 'matthewchapman', 'vickygayle']\n"
          ]
        }
      ]
    },
    {
      "cell_type": "markdown",
      "source": [
        "## Get the data out\n",
        "\n",
        "To get the data out we need to use that list as a column inside a `pandas` dataframe, and then export that dataframe as a CSV."
      ],
      "metadata": {
        "id": "kpLBDp5AQNO1"
      }
    },
    {
      "cell_type": "code",
      "source": [
        "#import pandas to create a dataframe and export a CSV\n",
        "import pandas as pd"
      ],
      "metadata": {
        "id": "3UNJExWNQIw6"
      },
      "execution_count": null,
      "outputs": []
    },
    {
      "cell_type": "markdown",
      "source": [
        "The `pd.DataFrame()` function needs a **dictionary** as its ingredient. The key(s) in that dictionary are basically the column headings, and then after a colon you will put the name of the list containing the values in that column."
      ],
      "metadata": {
        "id": "ZXIc2ynGUBQG"
      }
    },
    {
      "cell_type": "code",
      "source": [
        "#create a pandas dataframe using that list as the only column\n",
        "mydata = pd.DataFrame( { \"thedata\" : personids } )\n",
        "mydata"
      ],
      "metadata": {
        "colab": {
          "base_uri": "https://localhost:8080/",
          "height": 143
        },
        "id": "Bt3-09f5QSqP",
        "outputId": "c55ff20d-1e6a-47d7-8312-286d7fd255d6"
      },
      "execution_count": null,
      "outputs": [
        {
          "output_type": "execute_result",
          "data": {
            "text/plain": [
              "          thedata\n",
              "0   jasperjackson\n",
              "1  matthewchapman\n",
              "2      vickygayle"
            ],
            "text/html": [
              "\n",
              "  <div id=\"df-e064ffab-cb40-451f-a5a9-a6130127d5e3\">\n",
              "    <div class=\"colab-df-container\">\n",
              "      <div>\n",
              "<style scoped>\n",
              "    .dataframe tbody tr th:only-of-type {\n",
              "        vertical-align: middle;\n",
              "    }\n",
              "\n",
              "    .dataframe tbody tr th {\n",
              "        vertical-align: top;\n",
              "    }\n",
              "\n",
              "    .dataframe thead th {\n",
              "        text-align: right;\n",
              "    }\n",
              "</style>\n",
              "<table border=\"1\" class=\"dataframe\">\n",
              "  <thead>\n",
              "    <tr style=\"text-align: right;\">\n",
              "      <th></th>\n",
              "      <th>thedata</th>\n",
              "    </tr>\n",
              "  </thead>\n",
              "  <tbody>\n",
              "    <tr>\n",
              "      <th>0</th>\n",
              "      <td>jasperjackson</td>\n",
              "    </tr>\n",
              "    <tr>\n",
              "      <th>1</th>\n",
              "      <td>matthewchapman</td>\n",
              "    </tr>\n",
              "    <tr>\n",
              "      <th>2</th>\n",
              "      <td>vickygayle</td>\n",
              "    </tr>\n",
              "  </tbody>\n",
              "</table>\n",
              "</div>\n",
              "      <button class=\"colab-df-convert\" onclick=\"convertToInteractive('df-e064ffab-cb40-451f-a5a9-a6130127d5e3')\"\n",
              "              title=\"Convert this dataframe to an interactive table.\"\n",
              "              style=\"display:none;\">\n",
              "        \n",
              "  <svg xmlns=\"http://www.w3.org/2000/svg\" height=\"24px\"viewBox=\"0 0 24 24\"\n",
              "       width=\"24px\">\n",
              "    <path d=\"M0 0h24v24H0V0z\" fill=\"none\"/>\n",
              "    <path d=\"M18.56 5.44l.94 2.06.94-2.06 2.06-.94-2.06-.94-.94-2.06-.94 2.06-2.06.94zm-11 1L8.5 8.5l.94-2.06 2.06-.94-2.06-.94L8.5 2.5l-.94 2.06-2.06.94zm10 10l.94 2.06.94-2.06 2.06-.94-2.06-.94-.94-2.06-.94 2.06-2.06.94z\"/><path d=\"M17.41 7.96l-1.37-1.37c-.4-.4-.92-.59-1.43-.59-.52 0-1.04.2-1.43.59L10.3 9.45l-7.72 7.72c-.78.78-.78 2.05 0 2.83L4 21.41c.39.39.9.59 1.41.59.51 0 1.02-.2 1.41-.59l7.78-7.78 2.81-2.81c.8-.78.8-2.07 0-2.86zM5.41 20L4 18.59l7.72-7.72 1.47 1.35L5.41 20z\"/>\n",
              "  </svg>\n",
              "      </button>\n",
              "      \n",
              "  <style>\n",
              "    .colab-df-container {\n",
              "      display:flex;\n",
              "      flex-wrap:wrap;\n",
              "      gap: 12px;\n",
              "    }\n",
              "\n",
              "    .colab-df-convert {\n",
              "      background-color: #E8F0FE;\n",
              "      border: none;\n",
              "      border-radius: 50%;\n",
              "      cursor: pointer;\n",
              "      display: none;\n",
              "      fill: #1967D2;\n",
              "      height: 32px;\n",
              "      padding: 0 0 0 0;\n",
              "      width: 32px;\n",
              "    }\n",
              "\n",
              "    .colab-df-convert:hover {\n",
              "      background-color: #E2EBFA;\n",
              "      box-shadow: 0px 1px 2px rgba(60, 64, 67, 0.3), 0px 1px 3px 1px rgba(60, 64, 67, 0.15);\n",
              "      fill: #174EA6;\n",
              "    }\n",
              "\n",
              "    [theme=dark] .colab-df-convert {\n",
              "      background-color: #3B4455;\n",
              "      fill: #D2E3FC;\n",
              "    }\n",
              "\n",
              "    [theme=dark] .colab-df-convert:hover {\n",
              "      background-color: #434B5C;\n",
              "      box-shadow: 0px 1px 3px 1px rgba(0, 0, 0, 0.15);\n",
              "      filter: drop-shadow(0px 1px 2px rgba(0, 0, 0, 0.3));\n",
              "      fill: #FFFFFF;\n",
              "    }\n",
              "  </style>\n",
              "\n",
              "      <script>\n",
              "        const buttonEl =\n",
              "          document.querySelector('#df-e064ffab-cb40-451f-a5a9-a6130127d5e3 button.colab-df-convert');\n",
              "        buttonEl.style.display =\n",
              "          google.colab.kernel.accessAllowed ? 'block' : 'none';\n",
              "\n",
              "        async function convertToInteractive(key) {\n",
              "          const element = document.querySelector('#df-e064ffab-cb40-451f-a5a9-a6130127d5e3');\n",
              "          const dataTable =\n",
              "            await google.colab.kernel.invokeFunction('convertToInteractive',\n",
              "                                                     [key], {});\n",
              "          if (!dataTable) return;\n",
              "\n",
              "          const docLinkHtml = 'Like what you see? Visit the ' +\n",
              "            '<a target=\"_blank\" href=https://colab.research.google.com/notebooks/data_table.ipynb>data table notebook</a>'\n",
              "            + ' to learn more about interactive tables.';\n",
              "          element.innerHTML = '';\n",
              "          dataTable['output_type'] = 'display_data';\n",
              "          await google.colab.output.renderOutput(dataTable, element);\n",
              "          const docLink = document.createElement('div');\n",
              "          docLink.innerHTML = docLinkHtml;\n",
              "          element.appendChild(docLink);\n",
              "        }\n",
              "      </script>\n",
              "    </div>\n",
              "  </div>\n",
              "  "
            ]
          },
          "metadata": {},
          "execution_count": 37
        }
      ]
    },
    {
      "cell_type": "code",
      "source": [
        "#export the dataframe as a CSV\n",
        "mydata.to_csv(\"mydata.csv\")"
      ],
      "metadata": {
        "id": "6ZP8WbbkQeVE"
      },
      "execution_count": null,
      "outputs": []
    },
    {
      "cell_type": "markdown",
      "source": [
        "### Adding extra columns to the dataframe\n",
        "\n",
        "We could also add extra columns by adding a comma inside the dictionary, and specifying another 'key', followed by a colon, and then the list containing the values for the next column."
      ],
      "metadata": {
        "id": "En4j0tpqT1Pu"
      }
    },
    {
      "cell_type": "code",
      "source": [
        "#create a pandas dataframe using two lists as columns\n",
        "mydata = pd.DataFrame( { \"thedata\" : personids, \"theurls\" : myurls } )\n",
        "mydata"
      ],
      "metadata": {
        "colab": {
          "base_uri": "https://localhost:8080/",
          "height": 143
        },
        "id": "MFoL5wxoT2hl",
        "outputId": "e75174c8-672e-4dc2-c237-773baa2a9622"
      },
      "execution_count": null,
      "outputs": [
        {
          "output_type": "execute_result",
          "data": {
            "text/plain": [
              "          thedata                                            theurls\n",
              "0   jasperjackson  https://www.thebureauinvestigates.com/profile/...\n",
              "1  matthewchapman  https://www.thebureauinvestigates.com/profile/...\n",
              "2      vickygayle  https://www.thebureauinvestigates.com/profile/..."
            ],
            "text/html": [
              "\n",
              "  <div id=\"df-d17fa187-6577-4c4c-bdd5-200fb72dc7cd\">\n",
              "    <div class=\"colab-df-container\">\n",
              "      <div>\n",
              "<style scoped>\n",
              "    .dataframe tbody tr th:only-of-type {\n",
              "        vertical-align: middle;\n",
              "    }\n",
              "\n",
              "    .dataframe tbody tr th {\n",
              "        vertical-align: top;\n",
              "    }\n",
              "\n",
              "    .dataframe thead th {\n",
              "        text-align: right;\n",
              "    }\n",
              "</style>\n",
              "<table border=\"1\" class=\"dataframe\">\n",
              "  <thead>\n",
              "    <tr style=\"text-align: right;\">\n",
              "      <th></th>\n",
              "      <th>thedata</th>\n",
              "      <th>theurls</th>\n",
              "    </tr>\n",
              "  </thead>\n",
              "  <tbody>\n",
              "    <tr>\n",
              "      <th>0</th>\n",
              "      <td>jasperjackson</td>\n",
              "      <td>https://www.thebureauinvestigates.com/profile/...</td>\n",
              "    </tr>\n",
              "    <tr>\n",
              "      <th>1</th>\n",
              "      <td>matthewchapman</td>\n",
              "      <td>https://www.thebureauinvestigates.com/profile/...</td>\n",
              "    </tr>\n",
              "    <tr>\n",
              "      <th>2</th>\n",
              "      <td>vickygayle</td>\n",
              "      <td>https://www.thebureauinvestigates.com/profile/...</td>\n",
              "    </tr>\n",
              "  </tbody>\n",
              "</table>\n",
              "</div>\n",
              "      <button class=\"colab-df-convert\" onclick=\"convertToInteractive('df-d17fa187-6577-4c4c-bdd5-200fb72dc7cd')\"\n",
              "              title=\"Convert this dataframe to an interactive table.\"\n",
              "              style=\"display:none;\">\n",
              "        \n",
              "  <svg xmlns=\"http://www.w3.org/2000/svg\" height=\"24px\"viewBox=\"0 0 24 24\"\n",
              "       width=\"24px\">\n",
              "    <path d=\"M0 0h24v24H0V0z\" fill=\"none\"/>\n",
              "    <path d=\"M18.56 5.44l.94 2.06.94-2.06 2.06-.94-2.06-.94-.94-2.06-.94 2.06-2.06.94zm-11 1L8.5 8.5l.94-2.06 2.06-.94-2.06-.94L8.5 2.5l-.94 2.06-2.06.94zm10 10l.94 2.06.94-2.06 2.06-.94-2.06-.94-.94-2.06-.94 2.06-2.06.94z\"/><path d=\"M17.41 7.96l-1.37-1.37c-.4-.4-.92-.59-1.43-.59-.52 0-1.04.2-1.43.59L10.3 9.45l-7.72 7.72c-.78.78-.78 2.05 0 2.83L4 21.41c.39.39.9.59 1.41.59.51 0 1.02-.2 1.41-.59l7.78-7.78 2.81-2.81c.8-.78.8-2.07 0-2.86zM5.41 20L4 18.59l7.72-7.72 1.47 1.35L5.41 20z\"/>\n",
              "  </svg>\n",
              "      </button>\n",
              "      \n",
              "  <style>\n",
              "    .colab-df-container {\n",
              "      display:flex;\n",
              "      flex-wrap:wrap;\n",
              "      gap: 12px;\n",
              "    }\n",
              "\n",
              "    .colab-df-convert {\n",
              "      background-color: #E8F0FE;\n",
              "      border: none;\n",
              "      border-radius: 50%;\n",
              "      cursor: pointer;\n",
              "      display: none;\n",
              "      fill: #1967D2;\n",
              "      height: 32px;\n",
              "      padding: 0 0 0 0;\n",
              "      width: 32px;\n",
              "    }\n",
              "\n",
              "    .colab-df-convert:hover {\n",
              "      background-color: #E2EBFA;\n",
              "      box-shadow: 0px 1px 2px rgba(60, 64, 67, 0.3), 0px 1px 3px 1px rgba(60, 64, 67, 0.15);\n",
              "      fill: #174EA6;\n",
              "    }\n",
              "\n",
              "    [theme=dark] .colab-df-convert {\n",
              "      background-color: #3B4455;\n",
              "      fill: #D2E3FC;\n",
              "    }\n",
              "\n",
              "    [theme=dark] .colab-df-convert:hover {\n",
              "      background-color: #434B5C;\n",
              "      box-shadow: 0px 1px 3px 1px rgba(0, 0, 0, 0.15);\n",
              "      filter: drop-shadow(0px 1px 2px rgba(0, 0, 0, 0.3));\n",
              "      fill: #FFFFFF;\n",
              "    }\n",
              "  </style>\n",
              "\n",
              "      <script>\n",
              "        const buttonEl =\n",
              "          document.querySelector('#df-d17fa187-6577-4c4c-bdd5-200fb72dc7cd button.colab-df-convert');\n",
              "        buttonEl.style.display =\n",
              "          google.colab.kernel.accessAllowed ? 'block' : 'none';\n",
              "\n",
              "        async function convertToInteractive(key) {\n",
              "          const element = document.querySelector('#df-d17fa187-6577-4c4c-bdd5-200fb72dc7cd');\n",
              "          const dataTable =\n",
              "            await google.colab.kernel.invokeFunction('convertToInteractive',\n",
              "                                                     [key], {});\n",
              "          if (!dataTable) return;\n",
              "\n",
              "          const docLinkHtml = 'Like what you see? Visit the ' +\n",
              "            '<a target=\"_blank\" href=https://colab.research.google.com/notebooks/data_table.ipynb>data table notebook</a>'\n",
              "            + ' to learn more about interactive tables.';\n",
              "          element.innerHTML = '';\n",
              "          dataTable['output_type'] = 'display_data';\n",
              "          await google.colab.output.renderOutput(dataTable, element);\n",
              "          const docLink = document.createElement('div');\n",
              "          docLink.innerHTML = docLinkHtml;\n",
              "          element.appendChild(docLink);\n",
              "        }\n",
              "      </script>\n",
              "    </div>\n",
              "  </div>\n",
              "  "
            ]
          },
          "metadata": {},
          "execution_count": 39
        }
      ]
    },
    {
      "cell_type": "markdown",
      "source": [
        "## Using this with an API\n",
        "\n",
        "Now we've played with loops a bit, we can apply the same techniques to an API.\n",
        "\n",
        "First, let's go through the process of fetching data from an API and storing it in a dataframe (that we can also export as a CSV). \n",
        "\n",
        "Here's a URL adapted from the documentation on the police API - specifically [the documentation on getting data on stop and search by force](https://data.police.uk/docs/method/stops-force/)"
      ],
      "metadata": {
        "id": "lNR0vSkdU5RT"
      }
    },
    {
      "cell_type": "code",
      "source": [
        "#store the URL we want to test\n",
        "testurl = 'https://data.police.uk/api/stops-force?force=avon-and-somerset&date=2022-01'"
      ],
      "metadata": {
        "id": "VdH1ZTPqU7G1"
      },
      "execution_count": null,
      "outputs": []
    },
    {
      "cell_type": "markdown",
      "source": [
        "### Fetching JSON data and storing in a dataframe\n",
        "\n",
        "To fetch the data from that URL, which is in JSON format, we use the `read_json()` function from pandas (which we imported earlier in this notebook, and renamed `as pd` - make sure you run that earlier code first!)"
      ],
      "metadata": {
        "id": "ch41c6MThMhB"
      }
    },
    {
      "cell_type": "code",
      "source": [
        "#fetch the JSON from that URL using pandas's read_json function\n",
        "testjson = pd.read_json(testurl)\n",
        "#show it\n",
        "testjson.head()"
      ],
      "metadata": {
        "colab": {
          "base_uri": "https://localhost:8080/",
          "height": 583
        },
        "id": "JJFdt0toVsQA",
        "outputId": "33b3c24d-c76a-428c-a9aa-cdaddb1eb823"
      },
      "execution_count": null,
      "outputs": [
        {
          "output_type": "execute_result",
          "data": {
            "text/plain": [
              "  age_range                       outcome  involved_person  \\\n",
              "0     10-17                        Arrest             True   \n",
              "1     25-34      Khat or Cannabis warning             True   \n",
              "2     25-34  A no further action disposal             True   \n",
              "3     25-34          Community resolution             True   \n",
              "4   over 34  A no further action disposal             True   \n",
              "\n",
              "                              self_defined_ethnicity  gender  \\\n",
              "0                                               None    Male   \n",
              "1                    Other ethnic group - Not stated    Male   \n",
              "2                    Other ethnic group - Not stated  Female   \n",
              "3  White - English/Welsh/Scottish/Northern Irish/...    Male   \n",
              "4  White - English/Welsh/Scottish/Northern Irish/...  Female   \n",
              "\n",
              "                                         legislation  \\\n",
              "0  Police and Criminal Evidence Act 1984 (section 1)   \n",
              "1              Misuse of Drugs Act 1971 (section 23)   \n",
              "2              Misuse of Drugs Act 1971 (section 23)   \n",
              "3  Police and Criminal Evidence Act 1984 (section 1)   \n",
              "4  Police and Criminal Evidence Act 1984 (section 1)   \n",
              "\n",
              "   outcome_linked_to_object_of_search                  datetime  \\\n",
              "0                                 NaN 2022-01-24 19:25:00+00:00   \n",
              "1                                 1.0 2022-01-26 10:38:00+00:00   \n",
              "2                                 NaN 2022-01-06 17:30:00+00:00   \n",
              "3                                 0.0 2022-01-20 01:47:00+00:00   \n",
              "4                                 NaN 2022-01-25 00:00:00+00:00   \n",
              "\n",
              "   removal_of_more_than_outer_clothing  \\\n",
              "0                                  0.0   \n",
              "1                                  0.0   \n",
              "2                                  0.0   \n",
              "3                                  0.0   \n",
              "4                                  0.0   \n",
              "\n",
              "                                      outcome_object  \\\n",
              "0              {'id': 'bu-arrest', 'name': 'Arrest'}   \n",
              "1  {'id': 'bu-khat-or-cannabis-warning', 'name': ...   \n",
              "2  {'id': 'bu-no-further-action', 'name': 'A no f...   \n",
              "3  {'id': 'bu-community-resolution', 'name': 'Com...   \n",
              "4  {'id': 'bu-no-further-action', 'name': 'A no f...   \n",
              "\n",
              "                                            location  operation  \\\n",
              "0  {'latitude': '51.347278', 'street': {'id': 537...        NaN   \n",
              "1                                               None        NaN   \n",
              "2  {'latitude': '51.459312', 'street': {'id': 543...        NaN   \n",
              "3  {'latitude': '51.405274', 'street': {'id': 539...        NaN   \n",
              "4  {'latitude': '51.137118', 'street': {'id': 532...        NaN   \n",
              "\n",
              "  officer_defined_ethnicity           type  operation_name  \\\n",
              "0                     White  Person search             NaN   \n",
              "1                     Black  Person search             NaN   \n",
              "2                     White  Person search             NaN   \n",
              "3                     White  Person search             NaN   \n",
              "4                     White  Person search             NaN   \n",
              "\n",
              "                      object_of_search  \n",
              "0                    Offensive weapons  \n",
              "1                     Controlled drugs  \n",
              "2                     Controlled drugs  \n",
              "3  Articles for use in criminal damage  \n",
              "4                         Stolen goods  "
            ],
            "text/html": [
              "\n",
              "  <div id=\"df-31c7b310-2f56-43c4-a5dc-ae4be03db354\">\n",
              "    <div class=\"colab-df-container\">\n",
              "      <div>\n",
              "<style scoped>\n",
              "    .dataframe tbody tr th:only-of-type {\n",
              "        vertical-align: middle;\n",
              "    }\n",
              "\n",
              "    .dataframe tbody tr th {\n",
              "        vertical-align: top;\n",
              "    }\n",
              "\n",
              "    .dataframe thead th {\n",
              "        text-align: right;\n",
              "    }\n",
              "</style>\n",
              "<table border=\"1\" class=\"dataframe\">\n",
              "  <thead>\n",
              "    <tr style=\"text-align: right;\">\n",
              "      <th></th>\n",
              "      <th>age_range</th>\n",
              "      <th>outcome</th>\n",
              "      <th>involved_person</th>\n",
              "      <th>self_defined_ethnicity</th>\n",
              "      <th>gender</th>\n",
              "      <th>legislation</th>\n",
              "      <th>outcome_linked_to_object_of_search</th>\n",
              "      <th>datetime</th>\n",
              "      <th>removal_of_more_than_outer_clothing</th>\n",
              "      <th>outcome_object</th>\n",
              "      <th>location</th>\n",
              "      <th>operation</th>\n",
              "      <th>officer_defined_ethnicity</th>\n",
              "      <th>type</th>\n",
              "      <th>operation_name</th>\n",
              "      <th>object_of_search</th>\n",
              "    </tr>\n",
              "  </thead>\n",
              "  <tbody>\n",
              "    <tr>\n",
              "      <th>0</th>\n",
              "      <td>10-17</td>\n",
              "      <td>Arrest</td>\n",
              "      <td>True</td>\n",
              "      <td>None</td>\n",
              "      <td>Male</td>\n",
              "      <td>Police and Criminal Evidence Act 1984 (section 1)</td>\n",
              "      <td>NaN</td>\n",
              "      <td>2022-01-24 19:25:00+00:00</td>\n",
              "      <td>0.0</td>\n",
              "      <td>{'id': 'bu-arrest', 'name': 'Arrest'}</td>\n",
              "      <td>{'latitude': '51.347278', 'street': {'id': 537...</td>\n",
              "      <td>NaN</td>\n",
              "      <td>White</td>\n",
              "      <td>Person search</td>\n",
              "      <td>NaN</td>\n",
              "      <td>Offensive weapons</td>\n",
              "    </tr>\n",
              "    <tr>\n",
              "      <th>1</th>\n",
              "      <td>25-34</td>\n",
              "      <td>Khat or Cannabis warning</td>\n",
              "      <td>True</td>\n",
              "      <td>Other ethnic group - Not stated</td>\n",
              "      <td>Male</td>\n",
              "      <td>Misuse of Drugs Act 1971 (section 23)</td>\n",
              "      <td>1.0</td>\n",
              "      <td>2022-01-26 10:38:00+00:00</td>\n",
              "      <td>0.0</td>\n",
              "      <td>{'id': 'bu-khat-or-cannabis-warning', 'name': ...</td>\n",
              "      <td>None</td>\n",
              "      <td>NaN</td>\n",
              "      <td>Black</td>\n",
              "      <td>Person search</td>\n",
              "      <td>NaN</td>\n",
              "      <td>Controlled drugs</td>\n",
              "    </tr>\n",
              "    <tr>\n",
              "      <th>2</th>\n",
              "      <td>25-34</td>\n",
              "      <td>A no further action disposal</td>\n",
              "      <td>True</td>\n",
              "      <td>Other ethnic group - Not stated</td>\n",
              "      <td>Female</td>\n",
              "      <td>Misuse of Drugs Act 1971 (section 23)</td>\n",
              "      <td>NaN</td>\n",
              "      <td>2022-01-06 17:30:00+00:00</td>\n",
              "      <td>0.0</td>\n",
              "      <td>{'id': 'bu-no-further-action', 'name': 'A no f...</td>\n",
              "      <td>{'latitude': '51.459312', 'street': {'id': 543...</td>\n",
              "      <td>NaN</td>\n",
              "      <td>White</td>\n",
              "      <td>Person search</td>\n",
              "      <td>NaN</td>\n",
              "      <td>Controlled drugs</td>\n",
              "    </tr>\n",
              "    <tr>\n",
              "      <th>3</th>\n",
              "      <td>25-34</td>\n",
              "      <td>Community resolution</td>\n",
              "      <td>True</td>\n",
              "      <td>White - English/Welsh/Scottish/Northern Irish/...</td>\n",
              "      <td>Male</td>\n",
              "      <td>Police and Criminal Evidence Act 1984 (section 1)</td>\n",
              "      <td>0.0</td>\n",
              "      <td>2022-01-20 01:47:00+00:00</td>\n",
              "      <td>0.0</td>\n",
              "      <td>{'id': 'bu-community-resolution', 'name': 'Com...</td>\n",
              "      <td>{'latitude': '51.405274', 'street': {'id': 539...</td>\n",
              "      <td>NaN</td>\n",
              "      <td>White</td>\n",
              "      <td>Person search</td>\n",
              "      <td>NaN</td>\n",
              "      <td>Articles for use in criminal damage</td>\n",
              "    </tr>\n",
              "    <tr>\n",
              "      <th>4</th>\n",
              "      <td>over 34</td>\n",
              "      <td>A no further action disposal</td>\n",
              "      <td>True</td>\n",
              "      <td>White - English/Welsh/Scottish/Northern Irish/...</td>\n",
              "      <td>Female</td>\n",
              "      <td>Police and Criminal Evidence Act 1984 (section 1)</td>\n",
              "      <td>NaN</td>\n",
              "      <td>2022-01-25 00:00:00+00:00</td>\n",
              "      <td>0.0</td>\n",
              "      <td>{'id': 'bu-no-further-action', 'name': 'A no f...</td>\n",
              "      <td>{'latitude': '51.137118', 'street': {'id': 532...</td>\n",
              "      <td>NaN</td>\n",
              "      <td>White</td>\n",
              "      <td>Person search</td>\n",
              "      <td>NaN</td>\n",
              "      <td>Stolen goods</td>\n",
              "    </tr>\n",
              "  </tbody>\n",
              "</table>\n",
              "</div>\n",
              "      <button class=\"colab-df-convert\" onclick=\"convertToInteractive('df-31c7b310-2f56-43c4-a5dc-ae4be03db354')\"\n",
              "              title=\"Convert this dataframe to an interactive table.\"\n",
              "              style=\"display:none;\">\n",
              "        \n",
              "  <svg xmlns=\"http://www.w3.org/2000/svg\" height=\"24px\"viewBox=\"0 0 24 24\"\n",
              "       width=\"24px\">\n",
              "    <path d=\"M0 0h24v24H0V0z\" fill=\"none\"/>\n",
              "    <path d=\"M18.56 5.44l.94 2.06.94-2.06 2.06-.94-2.06-.94-.94-2.06-.94 2.06-2.06.94zm-11 1L8.5 8.5l.94-2.06 2.06-.94-2.06-.94L8.5 2.5l-.94 2.06-2.06.94zm10 10l.94 2.06.94-2.06 2.06-.94-2.06-.94-.94-2.06-.94 2.06-2.06.94z\"/><path d=\"M17.41 7.96l-1.37-1.37c-.4-.4-.92-.59-1.43-.59-.52 0-1.04.2-1.43.59L10.3 9.45l-7.72 7.72c-.78.78-.78 2.05 0 2.83L4 21.41c.39.39.9.59 1.41.59.51 0 1.02-.2 1.41-.59l7.78-7.78 2.81-2.81c.8-.78.8-2.07 0-2.86zM5.41 20L4 18.59l7.72-7.72 1.47 1.35L5.41 20z\"/>\n",
              "  </svg>\n",
              "      </button>\n",
              "      \n",
              "  <style>\n",
              "    .colab-df-container {\n",
              "      display:flex;\n",
              "      flex-wrap:wrap;\n",
              "      gap: 12px;\n",
              "    }\n",
              "\n",
              "    .colab-df-convert {\n",
              "      background-color: #E8F0FE;\n",
              "      border: none;\n",
              "      border-radius: 50%;\n",
              "      cursor: pointer;\n",
              "      display: none;\n",
              "      fill: #1967D2;\n",
              "      height: 32px;\n",
              "      padding: 0 0 0 0;\n",
              "      width: 32px;\n",
              "    }\n",
              "\n",
              "    .colab-df-convert:hover {\n",
              "      background-color: #E2EBFA;\n",
              "      box-shadow: 0px 1px 2px rgba(60, 64, 67, 0.3), 0px 1px 3px 1px rgba(60, 64, 67, 0.15);\n",
              "      fill: #174EA6;\n",
              "    }\n",
              "\n",
              "    [theme=dark] .colab-df-convert {\n",
              "      background-color: #3B4455;\n",
              "      fill: #D2E3FC;\n",
              "    }\n",
              "\n",
              "    [theme=dark] .colab-df-convert:hover {\n",
              "      background-color: #434B5C;\n",
              "      box-shadow: 0px 1px 3px 1px rgba(0, 0, 0, 0.15);\n",
              "      filter: drop-shadow(0px 1px 2px rgba(0, 0, 0, 0.3));\n",
              "      fill: #FFFFFF;\n",
              "    }\n",
              "  </style>\n",
              "\n",
              "      <script>\n",
              "        const buttonEl =\n",
              "          document.querySelector('#df-31c7b310-2f56-43c4-a5dc-ae4be03db354 button.colab-df-convert');\n",
              "        buttonEl.style.display =\n",
              "          google.colab.kernel.accessAllowed ? 'block' : 'none';\n",
              "\n",
              "        async function convertToInteractive(key) {\n",
              "          const element = document.querySelector('#df-31c7b310-2f56-43c4-a5dc-ae4be03db354');\n",
              "          const dataTable =\n",
              "            await google.colab.kernel.invokeFunction('convertToInteractive',\n",
              "                                                     [key], {});\n",
              "          if (!dataTable) return;\n",
              "\n",
              "          const docLinkHtml = 'Like what you see? Visit the ' +\n",
              "            '<a target=\"_blank\" href=https://colab.research.google.com/notebooks/data_table.ipynb>data table notebook</a>'\n",
              "            + ' to learn more about interactive tables.';\n",
              "          element.innerHTML = '';\n",
              "          dataTable['output_type'] = 'display_data';\n",
              "          await google.colab.output.renderOutput(dataTable, element);\n",
              "          const docLink = document.createElement('div');\n",
              "          docLink.innerHTML = docLinkHtml;\n",
              "          element.appendChild(docLink);\n",
              "        }\n",
              "      </script>\n",
              "    </div>\n",
              "  </div>\n",
              "  "
            ]
          },
          "metadata": {},
          "execution_count": 44
        }
      ]
    },
    {
      "cell_type": "markdown",
      "source": [
        "### Fetching the force id codes\n",
        "\n",
        "We notice that the URL to get data on stops and searches by force needs to contain the name of the force - but a specific 'id' name.\n",
        "\n",
        "A **list** (wahey!) of those id names is available [from a different part of the API](https://data.police.uk/docs/method/forces/), so we fetch that too in the code below."
      ],
      "metadata": {
        "id": "zkAyK6PUhbWx"
      }
    },
    {
      "cell_type": "code",
      "source": [
        "#fetch the JSON containing all force id names\n",
        "forcedf = pd.read_json(\"https://data.police.uk/api/forces\")\n",
        "forcedf"
      ],
      "metadata": {
        "colab": {
          "base_uri": "https://localhost:8080/",
          "height": 1000
        },
        "id": "_jNMkD05WVmZ",
        "outputId": "38c302dc-06d6-4aa6-c419-865d3e817b2d"
      },
      "execution_count": null,
      "outputs": [
        {
          "output_type": "execute_result",
          "data": {
            "text/plain": [
              "                    id                                name\n",
              "0    avon-and-somerset      Avon and Somerset Constabulary\n",
              "1         bedfordshire                 Bedfordshire Police\n",
              "2       cambridgeshire         Cambridgeshire Constabulary\n",
              "3             cheshire               Cheshire Constabulary\n",
              "4       city-of-london               City of London Police\n",
              "5            cleveland                    Cleveland Police\n",
              "6              cumbria                Cumbria Constabulary\n",
              "7           derbyshire             Derbyshire Constabulary\n",
              "8   devon-and-cornwall             Devon & Cornwall Police\n",
              "9               dorset                       Dorset Police\n",
              "10              durham                 Durham Constabulary\n",
              "11         dyfed-powys                  Dyfed-Powys Police\n",
              "12               essex                        Essex Police\n",
              "13     gloucestershire        Gloucestershire Constabulary\n",
              "14  greater-manchester           Greater Manchester Police\n",
              "15               gwent                        Gwent Police\n",
              "16           hampshire              Hampshire Constabulary\n",
              "17       hertfordshire          Hertfordshire Constabulary\n",
              "18          humberside                   Humberside Police\n",
              "19                kent                         Kent Police\n",
              "20          lancashire             Lancashire Constabulary\n",
              "21      leicestershire               Leicestershire Police\n",
              "22        lincolnshire                 Lincolnshire Police\n",
              "23          merseyside                   Merseyside Police\n",
              "24        metropolitan         Metropolitan Police Service\n",
              "25             norfolk                Norfolk Constabulary\n",
              "26         north-wales                  North Wales Police\n",
              "27     north-yorkshire              North Yorkshire Police\n",
              "28    northamptonshire             Northamptonshire Police\n",
              "29         northumbria                  Northumbria Police\n",
              "30     nottinghamshire              Nottinghamshire Police\n",
              "31    northern-ireland  Police Service of Northern Ireland\n",
              "32         south-wales                  South Wales Police\n",
              "33     south-yorkshire              South Yorkshire Police\n",
              "34       staffordshire                Staffordshire Police\n",
              "35             suffolk                Suffolk Constabulary\n",
              "36              surrey                       Surrey Police\n",
              "37              sussex                       Sussex Police\n",
              "38       thames-valley                Thames Valley Police\n",
              "39        warwickshire                 Warwickshire Police\n",
              "40         west-mercia                  West Mercia Police\n",
              "41       west-midlands                West Midlands Police\n",
              "42      west-yorkshire               West Yorkshire Police\n",
              "43           wiltshire                    Wiltshire Police"
            ],
            "text/html": [
              "\n",
              "  <div id=\"df-ebac6b8e-a4df-4bfd-afe5-6370276e4c95\">\n",
              "    <div class=\"colab-df-container\">\n",
              "      <div>\n",
              "<style scoped>\n",
              "    .dataframe tbody tr th:only-of-type {\n",
              "        vertical-align: middle;\n",
              "    }\n",
              "\n",
              "    .dataframe tbody tr th {\n",
              "        vertical-align: top;\n",
              "    }\n",
              "\n",
              "    .dataframe thead th {\n",
              "        text-align: right;\n",
              "    }\n",
              "</style>\n",
              "<table border=\"1\" class=\"dataframe\">\n",
              "  <thead>\n",
              "    <tr style=\"text-align: right;\">\n",
              "      <th></th>\n",
              "      <th>id</th>\n",
              "      <th>name</th>\n",
              "    </tr>\n",
              "  </thead>\n",
              "  <tbody>\n",
              "    <tr>\n",
              "      <th>0</th>\n",
              "      <td>avon-and-somerset</td>\n",
              "      <td>Avon and Somerset Constabulary</td>\n",
              "    </tr>\n",
              "    <tr>\n",
              "      <th>1</th>\n",
              "      <td>bedfordshire</td>\n",
              "      <td>Bedfordshire Police</td>\n",
              "    </tr>\n",
              "    <tr>\n",
              "      <th>2</th>\n",
              "      <td>cambridgeshire</td>\n",
              "      <td>Cambridgeshire Constabulary</td>\n",
              "    </tr>\n",
              "    <tr>\n",
              "      <th>3</th>\n",
              "      <td>cheshire</td>\n",
              "      <td>Cheshire Constabulary</td>\n",
              "    </tr>\n",
              "    <tr>\n",
              "      <th>4</th>\n",
              "      <td>city-of-london</td>\n",
              "      <td>City of London Police</td>\n",
              "    </tr>\n",
              "    <tr>\n",
              "      <th>5</th>\n",
              "      <td>cleveland</td>\n",
              "      <td>Cleveland Police</td>\n",
              "    </tr>\n",
              "    <tr>\n",
              "      <th>6</th>\n",
              "      <td>cumbria</td>\n",
              "      <td>Cumbria Constabulary</td>\n",
              "    </tr>\n",
              "    <tr>\n",
              "      <th>7</th>\n",
              "      <td>derbyshire</td>\n",
              "      <td>Derbyshire Constabulary</td>\n",
              "    </tr>\n",
              "    <tr>\n",
              "      <th>8</th>\n",
              "      <td>devon-and-cornwall</td>\n",
              "      <td>Devon &amp; Cornwall Police</td>\n",
              "    </tr>\n",
              "    <tr>\n",
              "      <th>9</th>\n",
              "      <td>dorset</td>\n",
              "      <td>Dorset Police</td>\n",
              "    </tr>\n",
              "    <tr>\n",
              "      <th>10</th>\n",
              "      <td>durham</td>\n",
              "      <td>Durham Constabulary</td>\n",
              "    </tr>\n",
              "    <tr>\n",
              "      <th>11</th>\n",
              "      <td>dyfed-powys</td>\n",
              "      <td>Dyfed-Powys Police</td>\n",
              "    </tr>\n",
              "    <tr>\n",
              "      <th>12</th>\n",
              "      <td>essex</td>\n",
              "      <td>Essex Police</td>\n",
              "    </tr>\n",
              "    <tr>\n",
              "      <th>13</th>\n",
              "      <td>gloucestershire</td>\n",
              "      <td>Gloucestershire Constabulary</td>\n",
              "    </tr>\n",
              "    <tr>\n",
              "      <th>14</th>\n",
              "      <td>greater-manchester</td>\n",
              "      <td>Greater Manchester Police</td>\n",
              "    </tr>\n",
              "    <tr>\n",
              "      <th>15</th>\n",
              "      <td>gwent</td>\n",
              "      <td>Gwent Police</td>\n",
              "    </tr>\n",
              "    <tr>\n",
              "      <th>16</th>\n",
              "      <td>hampshire</td>\n",
              "      <td>Hampshire Constabulary</td>\n",
              "    </tr>\n",
              "    <tr>\n",
              "      <th>17</th>\n",
              "      <td>hertfordshire</td>\n",
              "      <td>Hertfordshire Constabulary</td>\n",
              "    </tr>\n",
              "    <tr>\n",
              "      <th>18</th>\n",
              "      <td>humberside</td>\n",
              "      <td>Humberside Police</td>\n",
              "    </tr>\n",
              "    <tr>\n",
              "      <th>19</th>\n",
              "      <td>kent</td>\n",
              "      <td>Kent Police</td>\n",
              "    </tr>\n",
              "    <tr>\n",
              "      <th>20</th>\n",
              "      <td>lancashire</td>\n",
              "      <td>Lancashire Constabulary</td>\n",
              "    </tr>\n",
              "    <tr>\n",
              "      <th>21</th>\n",
              "      <td>leicestershire</td>\n",
              "      <td>Leicestershire Police</td>\n",
              "    </tr>\n",
              "    <tr>\n",
              "      <th>22</th>\n",
              "      <td>lincolnshire</td>\n",
              "      <td>Lincolnshire Police</td>\n",
              "    </tr>\n",
              "    <tr>\n",
              "      <th>23</th>\n",
              "      <td>merseyside</td>\n",
              "      <td>Merseyside Police</td>\n",
              "    </tr>\n",
              "    <tr>\n",
              "      <th>24</th>\n",
              "      <td>metropolitan</td>\n",
              "      <td>Metropolitan Police Service</td>\n",
              "    </tr>\n",
              "    <tr>\n",
              "      <th>25</th>\n",
              "      <td>norfolk</td>\n",
              "      <td>Norfolk Constabulary</td>\n",
              "    </tr>\n",
              "    <tr>\n",
              "      <th>26</th>\n",
              "      <td>north-wales</td>\n",
              "      <td>North Wales Police</td>\n",
              "    </tr>\n",
              "    <tr>\n",
              "      <th>27</th>\n",
              "      <td>north-yorkshire</td>\n",
              "      <td>North Yorkshire Police</td>\n",
              "    </tr>\n",
              "    <tr>\n",
              "      <th>28</th>\n",
              "      <td>northamptonshire</td>\n",
              "      <td>Northamptonshire Police</td>\n",
              "    </tr>\n",
              "    <tr>\n",
              "      <th>29</th>\n",
              "      <td>northumbria</td>\n",
              "      <td>Northumbria Police</td>\n",
              "    </tr>\n",
              "    <tr>\n",
              "      <th>30</th>\n",
              "      <td>nottinghamshire</td>\n",
              "      <td>Nottinghamshire Police</td>\n",
              "    </tr>\n",
              "    <tr>\n",
              "      <th>31</th>\n",
              "      <td>northern-ireland</td>\n",
              "      <td>Police Service of Northern Ireland</td>\n",
              "    </tr>\n",
              "    <tr>\n",
              "      <th>32</th>\n",
              "      <td>south-wales</td>\n",
              "      <td>South Wales Police</td>\n",
              "    </tr>\n",
              "    <tr>\n",
              "      <th>33</th>\n",
              "      <td>south-yorkshire</td>\n",
              "      <td>South Yorkshire Police</td>\n",
              "    </tr>\n",
              "    <tr>\n",
              "      <th>34</th>\n",
              "      <td>staffordshire</td>\n",
              "      <td>Staffordshire Police</td>\n",
              "    </tr>\n",
              "    <tr>\n",
              "      <th>35</th>\n",
              "      <td>suffolk</td>\n",
              "      <td>Suffolk Constabulary</td>\n",
              "    </tr>\n",
              "    <tr>\n",
              "      <th>36</th>\n",
              "      <td>surrey</td>\n",
              "      <td>Surrey Police</td>\n",
              "    </tr>\n",
              "    <tr>\n",
              "      <th>37</th>\n",
              "      <td>sussex</td>\n",
              "      <td>Sussex Police</td>\n",
              "    </tr>\n",
              "    <tr>\n",
              "      <th>38</th>\n",
              "      <td>thames-valley</td>\n",
              "      <td>Thames Valley Police</td>\n",
              "    </tr>\n",
              "    <tr>\n",
              "      <th>39</th>\n",
              "      <td>warwickshire</td>\n",
              "      <td>Warwickshire Police</td>\n",
              "    </tr>\n",
              "    <tr>\n",
              "      <th>40</th>\n",
              "      <td>west-mercia</td>\n",
              "      <td>West Mercia Police</td>\n",
              "    </tr>\n",
              "    <tr>\n",
              "      <th>41</th>\n",
              "      <td>west-midlands</td>\n",
              "      <td>West Midlands Police</td>\n",
              "    </tr>\n",
              "    <tr>\n",
              "      <th>42</th>\n",
              "      <td>west-yorkshire</td>\n",
              "      <td>West Yorkshire Police</td>\n",
              "    </tr>\n",
              "    <tr>\n",
              "      <th>43</th>\n",
              "      <td>wiltshire</td>\n",
              "      <td>Wiltshire Police</td>\n",
              "    </tr>\n",
              "  </tbody>\n",
              "</table>\n",
              "</div>\n",
              "      <button class=\"colab-df-convert\" onclick=\"convertToInteractive('df-ebac6b8e-a4df-4bfd-afe5-6370276e4c95')\"\n",
              "              title=\"Convert this dataframe to an interactive table.\"\n",
              "              style=\"display:none;\">\n",
              "        \n",
              "  <svg xmlns=\"http://www.w3.org/2000/svg\" height=\"24px\"viewBox=\"0 0 24 24\"\n",
              "       width=\"24px\">\n",
              "    <path d=\"M0 0h24v24H0V0z\" fill=\"none\"/>\n",
              "    <path d=\"M18.56 5.44l.94 2.06.94-2.06 2.06-.94-2.06-.94-.94-2.06-.94 2.06-2.06.94zm-11 1L8.5 8.5l.94-2.06 2.06-.94-2.06-.94L8.5 2.5l-.94 2.06-2.06.94zm10 10l.94 2.06.94-2.06 2.06-.94-2.06-.94-.94-2.06-.94 2.06-2.06.94z\"/><path d=\"M17.41 7.96l-1.37-1.37c-.4-.4-.92-.59-1.43-.59-.52 0-1.04.2-1.43.59L10.3 9.45l-7.72 7.72c-.78.78-.78 2.05 0 2.83L4 21.41c.39.39.9.59 1.41.59.51 0 1.02-.2 1.41-.59l7.78-7.78 2.81-2.81c.8-.78.8-2.07 0-2.86zM5.41 20L4 18.59l7.72-7.72 1.47 1.35L5.41 20z\"/>\n",
              "  </svg>\n",
              "      </button>\n",
              "      \n",
              "  <style>\n",
              "    .colab-df-container {\n",
              "      display:flex;\n",
              "      flex-wrap:wrap;\n",
              "      gap: 12px;\n",
              "    }\n",
              "\n",
              "    .colab-df-convert {\n",
              "      background-color: #E8F0FE;\n",
              "      border: none;\n",
              "      border-radius: 50%;\n",
              "      cursor: pointer;\n",
              "      display: none;\n",
              "      fill: #1967D2;\n",
              "      height: 32px;\n",
              "      padding: 0 0 0 0;\n",
              "      width: 32px;\n",
              "    }\n",
              "\n",
              "    .colab-df-convert:hover {\n",
              "      background-color: #E2EBFA;\n",
              "      box-shadow: 0px 1px 2px rgba(60, 64, 67, 0.3), 0px 1px 3px 1px rgba(60, 64, 67, 0.15);\n",
              "      fill: #174EA6;\n",
              "    }\n",
              "\n",
              "    [theme=dark] .colab-df-convert {\n",
              "      background-color: #3B4455;\n",
              "      fill: #D2E3FC;\n",
              "    }\n",
              "\n",
              "    [theme=dark] .colab-df-convert:hover {\n",
              "      background-color: #434B5C;\n",
              "      box-shadow: 0px 1px 3px 1px rgba(0, 0, 0, 0.15);\n",
              "      filter: drop-shadow(0px 1px 2px rgba(0, 0, 0, 0.3));\n",
              "      fill: #FFFFFF;\n",
              "    }\n",
              "  </style>\n",
              "\n",
              "      <script>\n",
              "        const buttonEl =\n",
              "          document.querySelector('#df-ebac6b8e-a4df-4bfd-afe5-6370276e4c95 button.colab-df-convert');\n",
              "        buttonEl.style.display =\n",
              "          google.colab.kernel.accessAllowed ? 'block' : 'none';\n",
              "\n",
              "        async function convertToInteractive(key) {\n",
              "          const element = document.querySelector('#df-ebac6b8e-a4df-4bfd-afe5-6370276e4c95');\n",
              "          const dataTable =\n",
              "            await google.colab.kernel.invokeFunction('convertToInteractive',\n",
              "                                                     [key], {});\n",
              "          if (!dataTable) return;\n",
              "\n",
              "          const docLinkHtml = 'Like what you see? Visit the ' +\n",
              "            '<a target=\"_blank\" href=https://colab.research.google.com/notebooks/data_table.ipynb>data table notebook</a>'\n",
              "            + ' to learn more about interactive tables.';\n",
              "          element.innerHTML = '';\n",
              "          dataTable['output_type'] = 'display_data';\n",
              "          await google.colab.output.renderOutput(dataTable, element);\n",
              "          const docLink = document.createElement('div');\n",
              "          docLink.innerHTML = docLinkHtml;\n",
              "          element.appendChild(docLink);\n",
              "        }\n",
              "      </script>\n",
              "    </div>\n",
              "  </div>\n",
              "  "
            ]
          },
          "metadata": {},
          "execution_count": 45
        }
      ]
    },
    {
      "cell_type": "markdown",
      "source": [
        "### A column in a dataframe is basically a list\n",
        "\n",
        "The id names are in the first column of the dataframe. We can access that, and treat it like we would a list*: looping through it, using indices, etc.\n",
        "\n",
        "*(Technically, a column in a dataframe is a **Series**, not a list, but it can be treated in the same way)*"
      ],
      "metadata": {
        "id": "GBu3FbpJhtGY"
      }
    },
    {
      "cell_type": "code",
      "source": [
        "#access the 'id' column in the dataframe, and show the first 3 items\n",
        "forcedf['id'][0:3]"
      ],
      "metadata": {
        "colab": {
          "base_uri": "https://localhost:8080/"
        },
        "id": "6vH4i8m_dIVw",
        "outputId": "7d66b1b3-ac10-4e76-c12e-9c01d91c5a14"
      },
      "execution_count": null,
      "outputs": [
        {
          "output_type": "execute_result",
          "data": {
            "text/plain": [
              "0    avon-and-somerset\n",
              "1         bedfordshire\n",
              "2       cambridgeshire\n",
              "Name: id, dtype: object"
            ]
          },
          "metadata": {},
          "execution_count": 62
        }
      ]
    },
    {
      "cell_type": "markdown",
      "source": [
        "### Looping through that list to create the URLs to get the data for each force\n",
        "\n",
        "Now we have that list of id names, we can loop through them and insert into the URL we used before, in order to get data for all forces. \n",
        "\n",
        "First, as before, we need to create an empty variable to store the results. This time we create an empty dataframe, because what we're extracting in the loop is a dataframe, and we need an empty dataframe to keep them all together."
      ],
      "metadata": {
        "id": "Kz7olxuuiGHA"
      }
    },
    {
      "cell_type": "code",
      "source": [
        "#create an empty dataframe to hold the data we get\n",
        "allthedata = pd.DataFrame()\n",
        "\n",
        "#loop through each item in that column\n",
        "for i in forcedf['id']:\n",
        "  #print it\n",
        "  print(i)\n",
        "  #create a URL with the id inserted in it\n",
        "  forceurl = \"https://data.police.uk/api/stops-force?force=\"+i\n",
        "  #print that\n",
        "  print(forceurl)\n",
        "  #fetch the JSON at that URL\n",
        "  forcejson = pd.read_json(forceurl)\n",
        "  #show the number of columns/rows\n",
        "  print(forcejson.shape)\n",
        "  #append the new data to the ongoing dataframe\n",
        "  allthedata = allthedata.append(forcejson)\n",
        "\n",
        "#show the final results\n",
        "allthedata.head()"
      ],
      "metadata": {
        "colab": {
          "base_uri": "https://localhost:8080/",
          "height": 1000
        },
        "id": "4mswydTUXtji",
        "outputId": "d5eb394e-ccbf-4e8f-8819-748d4767f6b2"
      },
      "execution_count": null,
      "outputs": [
        {
          "output_type": "stream",
          "name": "stdout",
          "text": [
            "avon-and-somerset\n",
            "https://data.police.uk/api/stops-force?force=avon-and-somerset\n",
            "(606, 16)\n",
            "bedfordshire\n",
            "https://data.police.uk/api/stops-force?force=bedfordshire\n",
            "(428, 16)\n",
            "cambridgeshire\n",
            "https://data.police.uk/api/stops-force?force=cambridgeshire\n",
            "(167, 16)\n",
            "cheshire\n",
            "https://data.police.uk/api/stops-force?force=cheshire\n",
            "(0, 0)\n",
            "city-of-london\n",
            "https://data.police.uk/api/stops-force?force=city-of-london\n",
            "(210, 16)\n",
            "cleveland\n",
            "https://data.police.uk/api/stops-force?force=cleveland\n",
            "(471, 16)\n",
            "cumbria\n",
            "https://data.police.uk/api/stops-force?force=cumbria\n",
            "(209, 16)\n",
            "derbyshire\n",
            "https://data.police.uk/api/stops-force?force=derbyshire\n",
            "(145, 16)\n",
            "devon-and-cornwall\n",
            "https://data.police.uk/api/stops-force?force=devon-and-cornwall\n",
            "(582, 16)\n",
            "dorset\n",
            "https://data.police.uk/api/stops-force?force=dorset\n",
            "(193, 16)\n",
            "durham\n",
            "https://data.police.uk/api/stops-force?force=durham\n",
            "(270, 16)\n",
            "dyfed-powys\n",
            "https://data.police.uk/api/stops-force?force=dyfed-powys\n",
            "(372, 16)\n",
            "essex\n",
            "https://data.police.uk/api/stops-force?force=essex\n",
            "(1623, 16)\n",
            "gloucestershire\n",
            "https://data.police.uk/api/stops-force?force=gloucestershire\n",
            "(173, 16)\n",
            "greater-manchester\n",
            "https://data.police.uk/api/stops-force?force=greater-manchester\n",
            "(0, 0)\n",
            "gwent\n",
            "https://data.police.uk/api/stops-force?force=gwent\n",
            "(107, 16)\n",
            "hampshire\n",
            "https://data.police.uk/api/stops-force?force=hampshire\n",
            "(791, 16)\n",
            "hertfordshire\n",
            "https://data.police.uk/api/stops-force?force=hertfordshire\n",
            "(665, 16)\n",
            "humberside\n",
            "https://data.police.uk/api/stops-force?force=humberside\n",
            "(560, 16)\n",
            "kent\n",
            "https://data.police.uk/api/stops-force?force=kent\n",
            "(1024, 16)\n",
            "lancashire\n",
            "https://data.police.uk/api/stops-force?force=lancashire\n",
            "(870, 16)\n",
            "leicestershire\n",
            "https://data.police.uk/api/stops-force?force=leicestershire\n",
            "(471, 16)\n",
            "lincolnshire\n",
            "https://data.police.uk/api/stops-force?force=lincolnshire\n",
            "(189, 16)\n",
            "merseyside\n",
            "https://data.police.uk/api/stops-force?force=merseyside\n",
            "(5367, 16)\n",
            "metropolitan\n",
            "https://data.police.uk/api/stops-force?force=metropolitan\n",
            "(17943, 16)\n",
            "norfolk\n",
            "https://data.police.uk/api/stops-force?force=norfolk\n",
            "(361, 16)\n",
            "north-wales\n",
            "https://data.police.uk/api/stops-force?force=north-wales\n",
            "(331, 16)\n",
            "north-yorkshire\n",
            "https://data.police.uk/api/stops-force?force=north-yorkshire\n",
            "(0, 0)\n",
            "northamptonshire\n",
            "https://data.police.uk/api/stops-force?force=northamptonshire\n",
            "(266, 16)\n",
            "northumbria\n",
            "https://data.police.uk/api/stops-force?force=northumbria\n",
            "(472, 16)\n",
            "nottinghamshire\n",
            "https://data.police.uk/api/stops-force?force=nottinghamshire\n",
            "(342, 16)\n",
            "northern-ireland\n",
            "https://data.police.uk/api/stops-force?force=northern-ireland\n",
            "(0, 0)\n",
            "south-wales\n",
            "https://data.police.uk/api/stops-force?force=south-wales\n",
            "(574, 16)\n",
            "south-yorkshire\n",
            "https://data.police.uk/api/stops-force?force=south-yorkshire\n",
            "(969, 16)\n",
            "staffordshire\n",
            "https://data.police.uk/api/stops-force?force=staffordshire\n",
            "(0, 0)\n",
            "suffolk\n",
            "https://data.police.uk/api/stops-force?force=suffolk\n",
            "(317, 16)\n",
            "surrey\n",
            "https://data.police.uk/api/stops-force?force=surrey\n",
            "(386, 16)\n",
            "sussex\n",
            "https://data.police.uk/api/stops-force?force=sussex\n",
            "(513, 16)\n",
            "thames-valley\n",
            "https://data.police.uk/api/stops-force?force=thames-valley\n",
            "(1002, 16)\n",
            "warwickshire\n",
            "https://data.police.uk/api/stops-force?force=warwickshire\n",
            "(114, 16)\n",
            "west-mercia\n",
            "https://data.police.uk/api/stops-force?force=west-mercia\n",
            "(344, 16)\n",
            "west-midlands\n",
            "https://data.police.uk/api/stops-force?force=west-midlands\n",
            "(2671, 16)\n",
            "west-yorkshire\n",
            "https://data.police.uk/api/stops-force?force=west-yorkshire\n",
            "(1404, 16)\n",
            "wiltshire\n",
            "https://data.police.uk/api/stops-force?force=wiltshire\n",
            "(0, 0)\n"
          ]
        },
        {
          "output_type": "execute_result",
          "data": {
            "text/plain": [
              "  age_range                       outcome  involved_person  \\\n",
              "0   over 34  A no further action disposal             True   \n",
              "1     18-24                                           True   \n",
              "2   over 34  A no further action disposal             True   \n",
              "3      None  A no further action disposal             True   \n",
              "4     25-34  A no further action disposal             True   \n",
              "\n",
              "                              self_defined_ethnicity gender  \\\n",
              "0  White - English/Welsh/Scottish/Northern Irish/...   Male   \n",
              "1                                               None   Male   \n",
              "2  White - English/Welsh/Scottish/Northern Irish/...   Male   \n",
              "3                    Other ethnic group - Not stated   Male   \n",
              "4  Mixed/Multiple ethnic groups - White and Black...   Male   \n",
              "\n",
              "                                         legislation  \\\n",
              "0              Misuse of Drugs Act 1971 (section 23)   \n",
              "1  Police and Criminal Evidence Act 1984 (section 1)   \n",
              "2              Misuse of Drugs Act 1971 (section 23)   \n",
              "3              Misuse of Drugs Act 1971 (section 23)   \n",
              "4              Misuse of Drugs Act 1971 (section 23)   \n",
              "\n",
              "  outcome_linked_to_object_of_search                  datetime  \\\n",
              "0                                NaN 2022-03-09 11:55:00+00:00   \n",
              "1                                NaN 2022-03-17 13:50:00+00:00   \n",
              "2                                0.0 2022-03-23 11:35:00+00:00   \n",
              "3                                NaN 2022-03-13 03:50:00+00:00   \n",
              "4                                NaN 2022-03-09 11:00:00+00:00   \n",
              "\n",
              "  removal_of_more_than_outer_clothing  \\\n",
              "0                                 0.0   \n",
              "1                                 0.0   \n",
              "2                                 0.0   \n",
              "3                                 0.0   \n",
              "4                                 0.0   \n",
              "\n",
              "                                      outcome_object  \\\n",
              "0  {'id': 'bu-no-further-action', 'name': 'A no f...   \n",
              "1                             {'id': '', 'name': ''}   \n",
              "2  {'id': 'bu-no-further-action', 'name': 'A no f...   \n",
              "3  {'id': 'bu-no-further-action', 'name': 'A no f...   \n",
              "4  {'id': 'bu-no-further-action', 'name': 'A no f...   \n",
              "\n",
              "                                            location operation  \\\n",
              "0  {'latitude': '51.461396', 'street': {'id': 543...       NaN   \n",
              "1  {'latitude': '51.473994', 'street': {'id': 545...       NaN   \n",
              "2  {'latitude': '51.497897', 'street': {'id': 547...       NaN   \n",
              "3  {'latitude': '51.403618', 'street': {'id': 539...       NaN   \n",
              "4                                               None       NaN   \n",
              "\n",
              "  officer_defined_ethnicity                       type  operation_name  \\\n",
              "0                     White              Person search             NaN   \n",
              "1                      None              Person search             NaN   \n",
              "2                     White              Person search             NaN   \n",
              "3                     Mixed  Person and Vehicle search             NaN   \n",
              "4                     Mixed  Person and Vehicle search             NaN   \n",
              "\n",
              "                     object_of_search  \n",
              "0                    Controlled drugs  \n",
              "1  Evidence of offences under the Act  \n",
              "2                    Controlled drugs  \n",
              "3                    Controlled drugs  \n",
              "4                    Controlled drugs  "
            ],
            "text/html": [
              "\n",
              "  <div id=\"df-49c92709-6dc7-48bd-927f-97dec43cd577\">\n",
              "    <div class=\"colab-df-container\">\n",
              "      <div>\n",
              "<style scoped>\n",
              "    .dataframe tbody tr th:only-of-type {\n",
              "        vertical-align: middle;\n",
              "    }\n",
              "\n",
              "    .dataframe tbody tr th {\n",
              "        vertical-align: top;\n",
              "    }\n",
              "\n",
              "    .dataframe thead th {\n",
              "        text-align: right;\n",
              "    }\n",
              "</style>\n",
              "<table border=\"1\" class=\"dataframe\">\n",
              "  <thead>\n",
              "    <tr style=\"text-align: right;\">\n",
              "      <th></th>\n",
              "      <th>age_range</th>\n",
              "      <th>outcome</th>\n",
              "      <th>involved_person</th>\n",
              "      <th>self_defined_ethnicity</th>\n",
              "      <th>gender</th>\n",
              "      <th>legislation</th>\n",
              "      <th>outcome_linked_to_object_of_search</th>\n",
              "      <th>datetime</th>\n",
              "      <th>removal_of_more_than_outer_clothing</th>\n",
              "      <th>outcome_object</th>\n",
              "      <th>location</th>\n",
              "      <th>operation</th>\n",
              "      <th>officer_defined_ethnicity</th>\n",
              "      <th>type</th>\n",
              "      <th>operation_name</th>\n",
              "      <th>object_of_search</th>\n",
              "    </tr>\n",
              "  </thead>\n",
              "  <tbody>\n",
              "    <tr>\n",
              "      <th>0</th>\n",
              "      <td>over 34</td>\n",
              "      <td>A no further action disposal</td>\n",
              "      <td>True</td>\n",
              "      <td>White - English/Welsh/Scottish/Northern Irish/...</td>\n",
              "      <td>Male</td>\n",
              "      <td>Misuse of Drugs Act 1971 (section 23)</td>\n",
              "      <td>NaN</td>\n",
              "      <td>2022-03-09 11:55:00+00:00</td>\n",
              "      <td>0.0</td>\n",
              "      <td>{'id': 'bu-no-further-action', 'name': 'A no f...</td>\n",
              "      <td>{'latitude': '51.461396', 'street': {'id': 543...</td>\n",
              "      <td>NaN</td>\n",
              "      <td>White</td>\n",
              "      <td>Person search</td>\n",
              "      <td>NaN</td>\n",
              "      <td>Controlled drugs</td>\n",
              "    </tr>\n",
              "    <tr>\n",
              "      <th>1</th>\n",
              "      <td>18-24</td>\n",
              "      <td></td>\n",
              "      <td>True</td>\n",
              "      <td>None</td>\n",
              "      <td>Male</td>\n",
              "      <td>Police and Criminal Evidence Act 1984 (section 1)</td>\n",
              "      <td>NaN</td>\n",
              "      <td>2022-03-17 13:50:00+00:00</td>\n",
              "      <td>0.0</td>\n",
              "      <td>{'id': '', 'name': ''}</td>\n",
              "      <td>{'latitude': '51.473994', 'street': {'id': 545...</td>\n",
              "      <td>NaN</td>\n",
              "      <td>None</td>\n",
              "      <td>Person search</td>\n",
              "      <td>NaN</td>\n",
              "      <td>Evidence of offences under the Act</td>\n",
              "    </tr>\n",
              "    <tr>\n",
              "      <th>2</th>\n",
              "      <td>over 34</td>\n",
              "      <td>A no further action disposal</td>\n",
              "      <td>True</td>\n",
              "      <td>White - English/Welsh/Scottish/Northern Irish/...</td>\n",
              "      <td>Male</td>\n",
              "      <td>Misuse of Drugs Act 1971 (section 23)</td>\n",
              "      <td>0.0</td>\n",
              "      <td>2022-03-23 11:35:00+00:00</td>\n",
              "      <td>0.0</td>\n",
              "      <td>{'id': 'bu-no-further-action', 'name': 'A no f...</td>\n",
              "      <td>{'latitude': '51.497897', 'street': {'id': 547...</td>\n",
              "      <td>NaN</td>\n",
              "      <td>White</td>\n",
              "      <td>Person search</td>\n",
              "      <td>NaN</td>\n",
              "      <td>Controlled drugs</td>\n",
              "    </tr>\n",
              "    <tr>\n",
              "      <th>3</th>\n",
              "      <td>None</td>\n",
              "      <td>A no further action disposal</td>\n",
              "      <td>True</td>\n",
              "      <td>Other ethnic group - Not stated</td>\n",
              "      <td>Male</td>\n",
              "      <td>Misuse of Drugs Act 1971 (section 23)</td>\n",
              "      <td>NaN</td>\n",
              "      <td>2022-03-13 03:50:00+00:00</td>\n",
              "      <td>0.0</td>\n",
              "      <td>{'id': 'bu-no-further-action', 'name': 'A no f...</td>\n",
              "      <td>{'latitude': '51.403618', 'street': {'id': 539...</td>\n",
              "      <td>NaN</td>\n",
              "      <td>Mixed</td>\n",
              "      <td>Person and Vehicle search</td>\n",
              "      <td>NaN</td>\n",
              "      <td>Controlled drugs</td>\n",
              "    </tr>\n",
              "    <tr>\n",
              "      <th>4</th>\n",
              "      <td>25-34</td>\n",
              "      <td>A no further action disposal</td>\n",
              "      <td>True</td>\n",
              "      <td>Mixed/Multiple ethnic groups - White and Black...</td>\n",
              "      <td>Male</td>\n",
              "      <td>Misuse of Drugs Act 1971 (section 23)</td>\n",
              "      <td>NaN</td>\n",
              "      <td>2022-03-09 11:00:00+00:00</td>\n",
              "      <td>0.0</td>\n",
              "      <td>{'id': 'bu-no-further-action', 'name': 'A no f...</td>\n",
              "      <td>None</td>\n",
              "      <td>NaN</td>\n",
              "      <td>Mixed</td>\n",
              "      <td>Person and Vehicle search</td>\n",
              "      <td>NaN</td>\n",
              "      <td>Controlled drugs</td>\n",
              "    </tr>\n",
              "  </tbody>\n",
              "</table>\n",
              "</div>\n",
              "      <button class=\"colab-df-convert\" onclick=\"convertToInteractive('df-49c92709-6dc7-48bd-927f-97dec43cd577')\"\n",
              "              title=\"Convert this dataframe to an interactive table.\"\n",
              "              style=\"display:none;\">\n",
              "        \n",
              "  <svg xmlns=\"http://www.w3.org/2000/svg\" height=\"24px\"viewBox=\"0 0 24 24\"\n",
              "       width=\"24px\">\n",
              "    <path d=\"M0 0h24v24H0V0z\" fill=\"none\"/>\n",
              "    <path d=\"M18.56 5.44l.94 2.06.94-2.06 2.06-.94-2.06-.94-.94-2.06-.94 2.06-2.06.94zm-11 1L8.5 8.5l.94-2.06 2.06-.94-2.06-.94L8.5 2.5l-.94 2.06-2.06.94zm10 10l.94 2.06.94-2.06 2.06-.94-2.06-.94-.94-2.06-.94 2.06-2.06.94z\"/><path d=\"M17.41 7.96l-1.37-1.37c-.4-.4-.92-.59-1.43-.59-.52 0-1.04.2-1.43.59L10.3 9.45l-7.72 7.72c-.78.78-.78 2.05 0 2.83L4 21.41c.39.39.9.59 1.41.59.51 0 1.02-.2 1.41-.59l7.78-7.78 2.81-2.81c.8-.78.8-2.07 0-2.86zM5.41 20L4 18.59l7.72-7.72 1.47 1.35L5.41 20z\"/>\n",
              "  </svg>\n",
              "      </button>\n",
              "      \n",
              "  <style>\n",
              "    .colab-df-container {\n",
              "      display:flex;\n",
              "      flex-wrap:wrap;\n",
              "      gap: 12px;\n",
              "    }\n",
              "\n",
              "    .colab-df-convert {\n",
              "      background-color: #E8F0FE;\n",
              "      border: none;\n",
              "      border-radius: 50%;\n",
              "      cursor: pointer;\n",
              "      display: none;\n",
              "      fill: #1967D2;\n",
              "      height: 32px;\n",
              "      padding: 0 0 0 0;\n",
              "      width: 32px;\n",
              "    }\n",
              "\n",
              "    .colab-df-convert:hover {\n",
              "      background-color: #E2EBFA;\n",
              "      box-shadow: 0px 1px 2px rgba(60, 64, 67, 0.3), 0px 1px 3px 1px rgba(60, 64, 67, 0.15);\n",
              "      fill: #174EA6;\n",
              "    }\n",
              "\n",
              "    [theme=dark] .colab-df-convert {\n",
              "      background-color: #3B4455;\n",
              "      fill: #D2E3FC;\n",
              "    }\n",
              "\n",
              "    [theme=dark] .colab-df-convert:hover {\n",
              "      background-color: #434B5C;\n",
              "      box-shadow: 0px 1px 3px 1px rgba(0, 0, 0, 0.15);\n",
              "      filter: drop-shadow(0px 1px 2px rgba(0, 0, 0, 0.3));\n",
              "      fill: #FFFFFF;\n",
              "    }\n",
              "  </style>\n",
              "\n",
              "      <script>\n",
              "        const buttonEl =\n",
              "          document.querySelector('#df-49c92709-6dc7-48bd-927f-97dec43cd577 button.colab-df-convert');\n",
              "        buttonEl.style.display =\n",
              "          google.colab.kernel.accessAllowed ? 'block' : 'none';\n",
              "\n",
              "        async function convertToInteractive(key) {\n",
              "          const element = document.querySelector('#df-49c92709-6dc7-48bd-927f-97dec43cd577');\n",
              "          const dataTable =\n",
              "            await google.colab.kernel.invokeFunction('convertToInteractive',\n",
              "                                                     [key], {});\n",
              "          if (!dataTable) return;\n",
              "\n",
              "          const docLinkHtml = 'Like what you see? Visit the ' +\n",
              "            '<a target=\"_blank\" href=https://colab.research.google.com/notebooks/data_table.ipynb>data table notebook</a>'\n",
              "            + ' to learn more about interactive tables.';\n",
              "          element.innerHTML = '';\n",
              "          dataTable['output_type'] = 'display_data';\n",
              "          await google.colab.output.renderOutput(dataTable, element);\n",
              "          const docLink = document.createElement('div');\n",
              "          docLink.innerHTML = docLinkHtml;\n",
              "          element.appendChild(docLink);\n",
              "        }\n",
              "      </script>\n",
              "    </div>\n",
              "  </div>\n",
              "  "
            ]
          },
          "metadata": {},
          "execution_count": 64
        }
      ]
    },
    {
      "cell_type": "code",
      "source": [
        "#check the number of columns/rows of the final dataframe\n",
        "allthedata.shape"
      ],
      "metadata": {
        "colab": {
          "base_uri": "https://localhost:8080/"
        },
        "id": "BWQKJjnab3kp",
        "outputId": "8337f50d-f7d8-4592-e142-6d7ebe3a8e52"
      },
      "execution_count": null,
      "outputs": [
        {
          "output_type": "execute_result",
          "data": {
            "text/plain": [
              "(43502, 16)"
            ]
          },
          "metadata": {},
          "execution_count": 65
        }
      ]
    },
    {
      "cell_type": "markdown",
      "source": [
        "## Scheduling a scraper using the `schedule` library\n",
        "\n",
        "For scheduling scrapers and other code, you might use a library created to solve that challenge. The `schedule` library [looks like it might do that](https://schedule.readthedocs.io/en/stable/)\n",
        "\n",
        "It needs installing first, along with the `time` library."
      ],
      "metadata": {
        "id": "9XSWa-ruM7_z"
      }
    },
    {
      "cell_type": "code",
      "source": [
        "#first we need to import the schedule library\n",
        "!pip install schedule\n",
        "import schedule\n",
        "#and the time library\n",
        "import time"
      ],
      "metadata": {
        "colab": {
          "base_uri": "https://localhost:8080/"
        },
        "id": "J5xxpGabNA8y",
        "outputId": "6fc66f4c-8f8d-4f54-c15d-deac023ef94e"
      },
      "execution_count": null,
      "outputs": [
        {
          "output_type": "stream",
          "name": "stdout",
          "text": [
            "Collecting schedule\n",
            "  Downloading schedule-1.1.0-py2.py3-none-any.whl (10 kB)\n",
            "Installing collected packages: schedule\n",
            "Successfully installed schedule-1.1.0\n"
          ]
        }
      ]
    },
    {
      "cell_type": "markdown",
      "source": [
        "You would then search around for tutorials explaining how to use it. Broadly speaking it looks like you store the code you want to schedule inside a function (called `job` below), and then specify that function inside another line of code which says how often you want to schedule something."
      ],
      "metadata": {
        "id": "APUTIfDNiyz-"
      }
    },
    {
      "cell_type": "code",
      "source": [
        "#put your scraper code inside a function\n",
        "def job():\n",
        "  #replace this with your scraper code\n",
        "  print(\"I'm scraping...\")\n",
        "\n",
        "# Run job every 1 second\n",
        "schedule.every(1).seconds.do(job)\n",
        "\n",
        "\n",
        "while True:\n",
        "    schedule.run_pending()\n",
        "    time.sleep(1)"
      ],
      "metadata": {
        "id": "Fn5LujRVM-Y7"
      },
      "execution_count": null,
      "outputs": []
    }
  ]
}
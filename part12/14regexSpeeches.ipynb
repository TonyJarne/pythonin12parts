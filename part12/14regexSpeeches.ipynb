{
  "nbformat": 4,
  "nbformat_minor": 0,
  "metadata": {
    "colab": {
      "provenance": [],
      "toc_visible": true
    },
    "kernelspec": {
      "name": "python3",
      "display_name": "Python 3"
    },
    "language_info": {
      "name": "python"
    }
  },
  "cells": [
    {
      "cell_type": "markdown",
      "metadata": {
        "id": "QgliU17F5rJL"
      },
      "source": [
        "# Using regex in Python to analyse speeches\n",
        "\n",
        "This notebook details some techniques for using regular expressions - **regex** - with text data.\n",
        "\n",
        "First we import some libraries we are going to need..."
      ]
    },
    {
      "cell_type": "code",
      "metadata": {
        "id": "XPrhrAhko1vv"
      },
      "source": [
        "#pandas for data analysis\n",
        "import pandas as pd"
      ],
      "execution_count": null,
      "outputs": []
    },
    {
      "cell_type": "code",
      "metadata": {
        "id": "YNxkkSoopAFQ"
      },
      "source": [
        "#requests and BeautifulSoup for scraping\n",
        "import requests\n",
        "from bs4 import BeautifulSoup"
      ],
      "execution_count": null,
      "outputs": []
    },
    {
      "cell_type": "markdown",
      "metadata": {
        "id": "22JiEKRt6EUK"
      },
      "source": [
        "## Scraping the speeches\n",
        "\n",
        "We need some speech data to analyse. The gov.uk website publishes speeches and these can be found under the 'News and communications' search facility at https://www.gov.uk/search/news-and-communications.\n",
        "\n",
        "We've accessed this via the '[View all announcements](https://www.gov.uk/search/news-and-communications?people=dominic-raab)' link at the bottom of [the gov.uk page for the politician Dominic Raab](https://www.gov.uk/government/people/dominic-raab)\n",
        "\n",
        "We've then added an extra search term: 'statement', as we've noticed that speeches tend to use this term as a category.\n",
        "\n",
        "Below we store the URL, then fetch the webpage at that URL, then convert it to an lxml 'object' which will make it easier to drill down into for specific information."
      ]
    },
    {
      "cell_type": "code",
      "metadata": {
        "id": "ViRIC5DPo3ze"
      },
      "source": [
        "#store the URL\n",
        "raaburl = \"https://www.gov.uk/search/news-and-communications?keywords=statement&people%5B%5D=dominic-raab&order=updated-newest\"\n",
        "#fetch the webpage and store in 'html' as one long string\n",
        "html = requests.get(raaburl)\n",
        "#convert to an lxml object called 'root' - this gives it structure we can drill down into\n",
        "root = BeautifulSoup(html.content)"
      ],
      "execution_count": null,
      "outputs": []
    },
    {
      "cell_type": "markdown",
      "metadata": {
        "id": "H94TwdD87HGc"
      },
      "source": [
        "### Drilling down into specific parts of the webpage using `.select()`\n",
        "\n",
        "Now we want specific pieces of information from that webpage: the URLs of the webpages containing the full text of each speech or press release, etc.\n",
        "\n",
        "We use `.select()` which will grab the contents of any HTML tags/attributes/values that we specify. Those are specified using **CSS selectors**.\n",
        "\n",
        "Looking at the webpage HTML, for example, we can identify that document links are always within an `<a>` tag within a list tag like `<li class=\"gem-c-document-list__item\">`"
      ]
    },
    {
      "cell_type": "code",
      "metadata": {
        "colab": {
          "base_uri": "https://localhost:8080/"
        },
        "id": "ewvDXB6hpN8y",
        "outputId": "d1055c9c-ed9e-4206-e0a9-372459ec4ae3"
      },
      "source": [
        "#grab all the elements within the specified tags, with the specified class\n",
        "listlinks = root.select('li.gem-c-document-list__item a')\n",
        "#show how many matches we get\n",
        "print(len(listlinks))\n",
        "#store the text inside those tags, in a list called 'titles'\n",
        "titles = [i.get_text() for i in listlinks]\n",
        "#store the links - the href= values - in a list called 'hrefs'\n",
        "hrefs = [i['href'] for i in listlinks]\n",
        "#print them\n",
        "print(titles)\n",
        "print(hrefs)"
      ],
      "execution_count": null,
      "outputs": [
        {
          "output_type": "stream",
          "name": "stdout",
          "text": [
            "20\n",
            "['Justice Secretary to offer support in investigating Russian war crimes in visit to The Hague', 'Domestic abuse victims in England and Wales to be given more time to report assaults', 'Landmark reforms for victims', \"Flight from Kabul carrying British nationals: Foreign Secretary's statement, 9 September 2021\", \"Afghanistan response: Foreign Secretary's statement, 6 September 2021\", 'Foreign Secretary statement on the sentencing of Maria Kolesnikova and Maksim Znak', \"Harry Dunn: Foreign Secretary's statement, 27 August 2021\", \"Kabul attack: Foreign Secretary's statement following his call with US Secretary of State\", 'UK sanctions Russian FSB operatives over poisoning of Alexey Navalny', 'Foreign Secretary Statement: 20 August 2021', 'UK doubles aid to Afghanistan', \"Afghanistan: G7 Foreign and Development Ministers' Meeting, chair's statement, 19 August 2021\", \"Afghanistan debate in the House of Commons, 18 August 2021: Foreign Secretary's closing statement\", \"Fourth anniversary of Anoosheh Ashoori's detention: Foreign Secretary Statement\", \"MV Mercer Street attack: G7 Foreign Ministers' statement\", 'Draft mandate for negotiations in respect of Gibraltar: Foreign Secretary statement', 'UN Human Rights Council 47: UK statement for the introduction of the resolution on girls education', \"Srebrenica genocide in Bosnia and Herzegovina: Foreign Secretary's statement on the 26th anniversary\", 'Foreign Secretary statement on Bab Al-Hawa crossing', 'IAEA report on Iran producing enriched uranium metal: E3 statement']\n",
            "['/government/news/justice-secretary-to-offer-support-in-investigating-russian-war-crimes-in-visit-to-the-hague', '/government/news/domestic-abuse-victims-in-england-and-wales-to-be-given-more-time-to-report-assaults', '/government/news/landmark-reforms-for-victims', '/government/news/foreign-secretary-statement-9-september-2021', '/government/speeches/foreign-secretary-statement-on-afghanistan-response', '/government/news/foreign-secretary-statement-on-the-sentencing-of-maria-kolesnikova-and-maksim-znak', '/government/news/harry-dunn-foreign-secretarys-statement-27-august-2021', '/government/news/foreign-secretary-statement-26-august-2021', '/government/news/russia-uk-sanctions-fsb-operatives-over-poisoning-of-alexey-navalny', '/government/news/foreign-secretary-statement-20-august-2021', '/government/news/uk-doubles-aid-to-afghanistan', '/government/news/g7-chairs-statement-august-19-2021', '/government/speeches/afghanistan-foreign-secretary-speech', '/government/news/fourth-anniversary-of-anoosheh-ashooris-detention-foreign-secretary-statement', '/government/news/mv-mercer-street-attack-g7-foreign-ministers-statement', '/government/news/draft-mandate-for-negotiations-in-respect-of-gibraltar-foreign-secretary-statement', '/government/speeches/un-human-rights-council-47-uk-statement-for-the-introduction-of-the-resolution-on-girls-education', '/government/news/srebrenica-genocide-in-bosnia-and-herzegovina-foreign-secretarys-statement-on-the-26th-anniversary', '/government/news/foreign-secretary-statement-on-bab-al-hawa-crossing', '/government/news/iaea-report-on-iran-producing-enriched-uranium-metal-e3-statement']\n"
          ]
        }
      ]
    },
    {
      "cell_type": "markdown",
      "metadata": {
        "id": "K-3pwsV978nX"
      },
      "source": [
        "## Scrape the linked pages\n",
        "\n",
        "We get 20 matches, which is what we expect. \n",
        "\n",
        "At some point we need to loop through multiple pages but for now 20 results is enough.\n",
        "\n",
        "Now we need to scrape the 20 linked pages and store those in a dataframe. "
      ]
    },
    {
      "cell_type": "code",
      "metadata": {
        "colab": {
          "base_uri": "https://localhost:8080/"
        },
        "id": "Oxp2-kBBqTqt",
        "outputId": "e5193855-4fb0-483c-cfd3-842e9e5b3248"
      },
      "source": [
        "#create an empty dataframe\n",
        "df = pd.DataFrame()\n",
        "\n",
        "#loop through the links\n",
        "for i in hrefs[:5]:\n",
        "  #create an empty dictionary\n",
        "  datadict = {}\n",
        "  #add the link to the base URL, to form a full URL\n",
        "  fulllink = \"https://www.gov.uk\"+i\n",
        "  print(fulllink)\n",
        "  #scrape the page at that link\n",
        "  html = requests.get(fulllink)\n",
        "  #convert to lxml object\n",
        "  root = BeautifulSoup(html.content)\n",
        "  #drill down into the tag containing the category - and store\n",
        "  categories = root.select('span.govuk-caption-xl.gem-c-title__context')\n",
        "  #check we only have one match\n",
        "  print(len(categories))\n",
        "  #check the first match - there's some extra white space that we strip\n",
        "  print(categories[0].get_text().strip())\n",
        "  #store that in the dictionary\n",
        "  datadict['category'] = categories[0].get_text().strip()\n",
        "  #drill down into the tag containing the lead paragraph - and store\n",
        "  leadpars = root.select('p.gem-c-lead-paragraph')\n",
        "  #check it\n",
        "  print(leadpars[0].get_text())\n",
        "  #store it\n",
        "  datadict['leadpar'] = leadpars[0].get_text()\n",
        "  #drill down into the paragraph tags within <div class=\"govspeak\">\n",
        "  ps = root.select('div.govspeak p')\n",
        "  #join the pars into a single string\n",
        "  joinedps = '\\n'.join([i.get_text() for i in ps])\n",
        "  print(joinedps)\n",
        "  #store it\n",
        "  datadict['text'] = joinedps\n",
        "  #add to the dataframe\n",
        "  datadict['url'] = fulllink\n",
        "  df = df.append(datadict, ignore_index=True)"
      ],
      "execution_count": null,
      "outputs": [
        {
          "output_type": "stream",
          "name": "stdout",
          "text": [
            "https://www.gov.uk/government/news/justice-secretary-to-offer-support-in-investigating-russian-war-crimes-in-visit-to-the-hague\n",
            "1\n",
            "Press release\n",
            "Deputy Prime Minister Dominic Raab will visit the International Criminal Court (ICC) in The Hague on Monday to offer practical support from the UK for investigating and prosecuting war crimes.\n",
            "The visit will also inform how the international community can best support the court as the Deputy Prime Minister vows to bring together a broad coalition of countries which also have the capability to help the investigation.\n",
            "It follows a virtual meeting last week with Ukraine’s Prosecutor General, Iryna Venediktova, and Attorney General Suella Braverman to discuss what help the country needs to collect and preserve evidence of war crimes.\n",
            "This is the latest in a series of efforts to provide Ukraine with economic, diplomatic, humanitarian and defensive support alongside lethal aid. The UK Government is also investigating how to stop Russian oligarchs using the British legal system to intimidate and silence their critics.\n",
            "The Deputy Prime Minister will meet ICC Prosecutor, Karim AA Khan QC, its Registrar, Peter Lewis, and President of the Court, Judge Piotr Hofmański. He will emphasise UK support for the Court and respect for its independence.\n",
            "Deputy Prime Minister, Lord Chancellor, and Secretary of State for Justice, Dominic Raab, said:\n",
            "Tomorrow I will go to The Hague to offer the ICC UK technical support in bringing those responsible for war crimes in Ukraine to justice – including support with the immediate priority of gathering and preserving evidence.\n",
            "Russian commanders carrying out war crimes should know they cannot act with impunity. Like Radovan Karadzic and Charles Taylor before them, their actions risk landing them in a jail cell.\n",
            "Separately, Dominic Raab will meet ambassadors from a range of countries to build a coalition able to provide extra assistance and cooperation to the Office of the Prosecutor to investigate war crimes in Ukraine.\n",
            "The UK has a long history of supporting war crimes prosecutions from Nuremburg through to the Yugoslav tribunals in the 1990s and was a founder member of the ICC.\n",
            "The offer ranges from police and military analysis to specialist IT to help the ICC collect and preserve evidence, as well as the UK’s significant legal expertise. It might eventually lead to witness relocation and imprisoning those found guilty, as the UK has done for previous war crimes.\n",
            "Separately, last week the Attorney General, Suella Braverman, signed a statement with the Ukraine’s Prosecutor General which reaffirms the UK’s support for holding Russia to account for war crimes committed in Ukraine.\n",
            "The Deputy Prime Minister was the FCDO’s head of war crimes in the British Embassy in the Hague, liaising with the ICC from 2003 until 2006, supporting the prosecution of war crimes. In this role he negotiated agreements that have since allowed for witnesses to be relocated to safety in the UK and for those convicted to serve their sentences in UK prisons, including Radovan Karadžić who was found convicted of genocide in Bosnia at the International Criminal Tribunal for the former Yugoslavia in 2016.\n",
            "He is leading a taskforce of Ministers, senior civil servants and operational partners such as the police and Crown Prosecution Service to establish how best the UK can support the ICC prosecute war crimes in Ukraine.\n",
            "https://www.gov.uk/government/news/domestic-abuse-victims-in-england-and-wales-to-be-given-more-time-to-report-assaults\n",
            "1\n",
            "Press release\n",
            "New measures targeted directly at keeping women and girls safer will be added to the Police, Crime, Sentencing and Courts Bill today (4 January) the Government has announced.\n",
            "Under the changes, victims of domestic abuse will be allowed more time to report incidents of common assault or battery against them. Currently, prosecutions must commence within six months of the offence.\n",
            "Instead, this requirement will be moved to six months from the date the incident is formally reported to the police – with an overall time limit of two years from the offence to bring a prosecution. Domestic abuse is often reported late relative to other crimes; so this will ensure victims have enough time to seek justice and that perpetrators answer for their actions.\n",
            "Meanwhile, taking non-consensual photographs or video recordings of breastfeeding mothers will be made a specific offence punishable by up to two years in prison. It covers situations where the motive is to obtain sexual gratification, or to cause humiliation, distress or alarm. Similar legislation introduced by the Government in 2019 that criminalised “upskirting” has led to more than 30 prosecutions since it became law.\n",
            "Ministers are changing the law to protect mums from being harassed no matter where they choose to breastfeed.\n",
            "Deputy Prime Minister, Lord Chancellor and Secretary of State for Justice, Dominic Raab said:\n",
            "We are committed to doing everything we can to protect women, make them feel safer, and give them greater confidence in the justice system.\n",
            "We’re giving the victims of domestic abuse longer to report the offence to the police – so abusers don’t evade justice. And we will introduce a new offence to stop people filming or taking photos of mothers breast feeding without their consent – because no new mum should be harassed in this way.\n",
            "Domestic Abuse Commissioner Nicole Jacobs said:\n",
            "I strongly welcome the additions made to the PCSC Bill today, which allow victims of domestic abuse more time to report to the police.\n",
            "It is important that all domestic abuse victims have the time and opportunity to report to the police. This is especially important following Covid restrictions, when many victims faced additional challenges to seeking help and reporting domestic abuse.\n",
            "I want to see increased prosecutions for domestic abuse, and hope to see that as these measures remove another barrier to bringing perpetrators to justice.\n",
            "In making photographing breastfeeding mothers without consent a specific offence, the Government is giving police and prosecutors the clarity and powers they need to ensure perpetrators face justice.\n",
            "Today’s announcement builds on measures already in the Bill to better protect women such as ending the halfway release of offenders sentenced between four and seven years in prison for serious sexual offences – forcing them to spend two-thirds of their time in prison.\n",
            "In December, the legislation was amended to make clear that a new legal duty requiring public bodies to work together to tackle serious violence can also include domestic abuse and sexual offences.  It means that these crimes should be taken as seriously as knife crime and homicide, with police, government, and health bodies required to collaborate locally, so that they can develop more holistic strategies to protect people from harm, including through early intervention.\n",
            "Home Secretary, Priti Patel, said:\n",
            "My commitment to making our homes, streets and communities safer for women and girls is clear. Every department  in government is working to address and tackle all issues relating to violence against women and girls. The Government has a focussed Strategy, dedicated to providing essential support for survivors, the prevention of crimes against women and girls and bringing perpetrators to justice with the full force of the law.\n",
            "Our actions include the new Domestic Abuse Act, with important changes to our laws; a newly created  national police lead responsible solely on violence against women and girls, and millions of pounds have been invested in direct safety measures through the Safer Streets Fund. These are all important public confidence measures and changes to ensure the safety of women and girls in public spaces.\n",
            "But this Government is determined to do more, and the amendments being introduced to this Bill today put victims’ voices at the heart of our decisions – giving domestic abuse victims more time to make a report to the police, and providing better protections to mothers breast feeding their children.\n",
            "The amendments will be made to the Police, Crime, Sentencing and Courts and debated by Parliament.\n",
            "https://www.gov.uk/government/news/landmark-reforms-for-victims\n",
            "1\n",
            "Press release\n",
            "Victims of crime will be better heard, served and protected under wide ranging reforms set out by the government today (9 December 2021).\n",
            "\n",
            "https://www.gov.uk/government/news/foreign-secretary-statement-9-september-2021\n",
            "1\n",
            "Press release\n",
            "Foreign Secretary Dominic Raab gave a statement on the departure of British nationals on a flight from Kabul.\n",
            "The Foreign Secretary said:\n",
            "We are grateful to our Qatari friends for facilitating a flight carrying 13 British nationals from Kabul to safety in Doha today.\n",
            "We expect the Taliban to keep to their commitment to allow safe passage for those who want to leave.\n",
            "Media enquiries\n",
            "\n",
            "          Email newsdesk@fcdo.gov.uk\n",
            "\n",
            "\n",
            "          Telephone 020 7008 3100\n",
            "        \n",
            "Contact the FCDO Communication Team via email (monitored 24 hours a day) in the first instance, and we will respond as soon as possible.\n",
            "https://www.gov.uk/government/speeches/foreign-secretary-statement-on-afghanistan-response\n",
            "1\n",
            "Oral statement to Parliament\n",
            "The Foreign Secretary updated Parliament on the UK's international response to the situation in Afghanistan.\n",
            "Mr Speaker, with your permission I will update the House on the UK’s international response to the situation in Afghanistan.\n",
            "As my Rt Hon Friend the Prime Minster has set out, over the last 3 weeks, through a shared effort right across government and our armed forces, we have delivered the largest and most complex evacuation in living memory.\n",
            "Between 15 and 29 August, the UK evacuated over 15,000 people from Afghanistan. That includes: over 8,000 British nationals, close to 5,000 Afghans who loyally served the UK, along with their dependents, and around 500 special cases of particularly vulnerable Afghans, including Chevening scholars, journalists, human rights defenders, campaigners for women’s rights, judges and many others.\n",
            "Of course, the work to get people out did not start on 15 August. The FCDO advised British nationals to leave the country in April, and then again on 6 August. We estimate that around 500 did so.\n",
            "At the same time, the government launched the ARAP scheme for interpreters and other Afghan staff, getting over 1,900 out before the airlift began on 15 August.\n",
            "Now as the security situation deteriorated, we accelerated that process throughout July and early August. \n",
            "In total since April, we have helped over 17,000 people leave.\n",
            "And I want to place on record my thanks, and pay tribute to the Herculean efforts of our troops, our diplomats, our civil servants who have done an incredible job in the toughest of conditions. And as we remember their efforts we also remember those of UK armed forces who paid the ultimate sacrifice in Afghanistan trying to make that country a better place for the Afghan people.\n",
            "Mr Speaker, now that the evacuation has ended, we have moved into a new phase. We stand by our commitment to support those who have worked for us, and to take all remaining eligible cases. Securing their safe passage out of the country is an immediate priority. We are working through our diplomatic channels to that end.\n",
            "And of course the Taliban have given assurances that they will provide safe passage for foreign nationals and those eligible Afghans who wish to leave. On 30 August the UN Security Council passed Resolution 2593. Driven by the UK alongside the US and France, affirming the international community’s expectation requirement that the Taliban should follow through on the assurances that they have given.\n",
            "Last, week I visited Qatar and Pakistan. In Qatar, I met with the Emir and the Deputy Prime Minister and Foreign Minister Sheikh Mohammed, to discuss safe passage alongside the international community’s wider approach to dealing with the Taliban. We discussed ongoing efforts to re-establish flights at Kabul airport, where Qatari technical staff are working on the ground, and see how we can cooperate in handling the organisation of future flights.\n",
            "I also announced our new non-resident Chargé d’Affaires for Afghanistan, Martin Longden, who is now working out of Doha.\n",
            "In Pakistan, I met with Prime Minister Khan and Foreign Minister Qureshi to discuss safe passage via third countries, and the importance of holding the Taliban to its commitments.\n",
            "I also announced that we are sending £30 million of support to Afghanistan’s neighbours. This will provide life-saving support for refugees including shelters, household necessities, sanitation and other hygiene facilities.\n",
            "At the same time I dispatched last week a new Rapid Deployment Team to the region, with an extra 22 staff in total. They will reinforce our embassy teams, our high commission teams in those neighbouring countries, processing British nationals or eligible Afghans who are seeking to leave via third countries, which we want to do just as fast as we possibly can, once they can leave, and subject to the necessary security checks.\n",
            "I also spoke to the foreign minister of Uzbekistan earlier today, and the foreign minister of Tajikistan last week. And the Minister for South Asia, Lord Ahmad, last week visited Tajikistan and will return to the region shortly.\n",
            "Mr Speaker turning to the wider international strategy. The international community is adjusting and it must adjust to the new reality in Afghanistan and recalibrate its approach. The UK is playing a leading role.\n",
            "My Rt Hon Friend the Prime Minister convened G7 leaders on 24 August to discuss a shared response to the situation. That followed a G7 Foreign Ministers meeting.\n",
            "And we are building a global coalition around four key priorities set out in a UK G7 paper that we have shared with those partners:\n",
            "First, we must prevent Afghanistan from ever becoming a safe haven or harbour for terrorists ever again.\n",
            "Second, we must prevent a humanitarian disaster and support refugees – wherever possible in the region. The UK has allocated £286 million in aid for Afghanistan this year. We are supporting Afghanistan’s neighbours, as I have already set out, and the Home Secretary has set out our resettlement scheme. We are leading by example, which enables us to encourage others to step up in what will inevitably have to be an international team effort.\n",
            "Third, we must preserve regional stability, which risks being shattered by the combination of renewed terrorist threat and an exodus of refugees.\n",
            "Fourth, we must hold the Taliban and other factions to account for their conduct, including in particular on human rights and their treatment of women and girls.\n",
            "I am taking this forward through our bilateral partners and we have a G7-plus meeting later this week.\n",
            "The UK is also pressing for further discussions amongst the Permanent Members of the UN Security Council, and we plan to host an event at the UN General Assembly later this month as indicated by the Prime Minister.\n",
            "Mr Speaker, we will not recognise the Taliban, but we will engage, and we will carefully calibrate our actions to the choices that they make and the actions that they take.\n",
            "Given our strategic priorities, the ones that I’ve set out, we must also set some credible tests to hold the Taliban to the undertakings they have made on safe passage, on terrorism, on humanitarian access, and a more inclusive government. And we stand ready to use all the levers at our disposal in that effort - political, economic and diplomatic.\n",
            "Mr Speaker, we continue to galvanise the international community, and bring together the widest possible group of influential countries, to deliver on those strategic priorities and exercise the maximum moderating influence on the Taliban that we possibly can.\n",
            "I commend this statement to the House.\n"
          ]
        }
      ]
    },
    {
      "cell_type": "code",
      "metadata": {
        "colab": {
          "base_uri": "https://localhost:8080/",
          "height": 337
        },
        "id": "KyK4fKxVuzZC",
        "outputId": "71de4c97-974b-4204-ae53-d8495c8afa34"
      },
      "source": [
        "df"
      ],
      "execution_count": null,
      "outputs": [
        {
          "output_type": "execute_result",
          "data": {
            "text/plain": [
              "                       category  \\\n",
              "0                 Press release   \n",
              "1                 Press release   \n",
              "2                 Press release   \n",
              "3                 Press release   \n",
              "4  Oral statement to Parliament   \n",
              "\n",
              "                                             leadpar  \\\n",
              "0  Deputy Prime Minister Dominic Raab will visit ...   \n",
              "1  New measures targeted directly at keeping wome...   \n",
              "2  Victims of crime will be better heard, served ...   \n",
              "3  Foreign Secretary Dominic Raab gave a statemen...   \n",
              "4  The Foreign Secretary updated Parliament on th...   \n",
              "\n",
              "                                                text  \\\n",
              "0  The visit will also inform how the internation...   \n",
              "1  Under the changes, victims of domestic abuse w...   \n",
              "2                                                      \n",
              "3  The Foreign Secretary said:\\nWe are grateful t...   \n",
              "4  Mr Speaker, with your permission I will update...   \n",
              "\n",
              "                                                 url  \n",
              "0  https://www.gov.uk/government/news/justice-sec...  \n",
              "1  https://www.gov.uk/government/news/domestic-ab...  \n",
              "2  https://www.gov.uk/government/news/landmark-re...  \n",
              "3  https://www.gov.uk/government/news/foreign-sec...  \n",
              "4  https://www.gov.uk/government/speeches/foreign...  "
            ],
            "text/html": [
              "\n",
              "  <div id=\"df-16e786bc-967d-47a3-aa45-8c7df07818f5\">\n",
              "    <div class=\"colab-df-container\">\n",
              "      <div>\n",
              "<style scoped>\n",
              "    .dataframe tbody tr th:only-of-type {\n",
              "        vertical-align: middle;\n",
              "    }\n",
              "\n",
              "    .dataframe tbody tr th {\n",
              "        vertical-align: top;\n",
              "    }\n",
              "\n",
              "    .dataframe thead th {\n",
              "        text-align: right;\n",
              "    }\n",
              "</style>\n",
              "<table border=\"1\" class=\"dataframe\">\n",
              "  <thead>\n",
              "    <tr style=\"text-align: right;\">\n",
              "      <th></th>\n",
              "      <th>category</th>\n",
              "      <th>leadpar</th>\n",
              "      <th>text</th>\n",
              "      <th>url</th>\n",
              "    </tr>\n",
              "  </thead>\n",
              "  <tbody>\n",
              "    <tr>\n",
              "      <th>0</th>\n",
              "      <td>Press release</td>\n",
              "      <td>Deputy Prime Minister Dominic Raab will visit ...</td>\n",
              "      <td>The visit will also inform how the internation...</td>\n",
              "      <td>https://www.gov.uk/government/news/justice-sec...</td>\n",
              "    </tr>\n",
              "    <tr>\n",
              "      <th>1</th>\n",
              "      <td>Press release</td>\n",
              "      <td>New measures targeted directly at keeping wome...</td>\n",
              "      <td>Under the changes, victims of domestic abuse w...</td>\n",
              "      <td>https://www.gov.uk/government/news/domestic-ab...</td>\n",
              "    </tr>\n",
              "    <tr>\n",
              "      <th>2</th>\n",
              "      <td>Press release</td>\n",
              "      <td>Victims of crime will be better heard, served ...</td>\n",
              "      <td></td>\n",
              "      <td>https://www.gov.uk/government/news/landmark-re...</td>\n",
              "    </tr>\n",
              "    <tr>\n",
              "      <th>3</th>\n",
              "      <td>Press release</td>\n",
              "      <td>Foreign Secretary Dominic Raab gave a statemen...</td>\n",
              "      <td>The Foreign Secretary said:\\nWe are grateful t...</td>\n",
              "      <td>https://www.gov.uk/government/news/foreign-sec...</td>\n",
              "    </tr>\n",
              "    <tr>\n",
              "      <th>4</th>\n",
              "      <td>Oral statement to Parliament</td>\n",
              "      <td>The Foreign Secretary updated Parliament on th...</td>\n",
              "      <td>Mr Speaker, with your permission I will update...</td>\n",
              "      <td>https://www.gov.uk/government/speeches/foreign...</td>\n",
              "    </tr>\n",
              "  </tbody>\n",
              "</table>\n",
              "</div>\n",
              "      <button class=\"colab-df-convert\" onclick=\"convertToInteractive('df-16e786bc-967d-47a3-aa45-8c7df07818f5')\"\n",
              "              title=\"Convert this dataframe to an interactive table.\"\n",
              "              style=\"display:none;\">\n",
              "        \n",
              "  <svg xmlns=\"http://www.w3.org/2000/svg\" height=\"24px\"viewBox=\"0 0 24 24\"\n",
              "       width=\"24px\">\n",
              "    <path d=\"M0 0h24v24H0V0z\" fill=\"none\"/>\n",
              "    <path d=\"M18.56 5.44l.94 2.06.94-2.06 2.06-.94-2.06-.94-.94-2.06-.94 2.06-2.06.94zm-11 1L8.5 8.5l.94-2.06 2.06-.94-2.06-.94L8.5 2.5l-.94 2.06-2.06.94zm10 10l.94 2.06.94-2.06 2.06-.94-2.06-.94-.94-2.06-.94 2.06-2.06.94z\"/><path d=\"M17.41 7.96l-1.37-1.37c-.4-.4-.92-.59-1.43-.59-.52 0-1.04.2-1.43.59L10.3 9.45l-7.72 7.72c-.78.78-.78 2.05 0 2.83L4 21.41c.39.39.9.59 1.41.59.51 0 1.02-.2 1.41-.59l7.78-7.78 2.81-2.81c.8-.78.8-2.07 0-2.86zM5.41 20L4 18.59l7.72-7.72 1.47 1.35L5.41 20z\"/>\n",
              "  </svg>\n",
              "      </button>\n",
              "      \n",
              "  <style>\n",
              "    .colab-df-container {\n",
              "      display:flex;\n",
              "      flex-wrap:wrap;\n",
              "      gap: 12px;\n",
              "    }\n",
              "\n",
              "    .colab-df-convert {\n",
              "      background-color: #E8F0FE;\n",
              "      border: none;\n",
              "      border-radius: 50%;\n",
              "      cursor: pointer;\n",
              "      display: none;\n",
              "      fill: #1967D2;\n",
              "      height: 32px;\n",
              "      padding: 0 0 0 0;\n",
              "      width: 32px;\n",
              "    }\n",
              "\n",
              "    .colab-df-convert:hover {\n",
              "      background-color: #E2EBFA;\n",
              "      box-shadow: 0px 1px 2px rgba(60, 64, 67, 0.3), 0px 1px 3px 1px rgba(60, 64, 67, 0.15);\n",
              "      fill: #174EA6;\n",
              "    }\n",
              "\n",
              "    [theme=dark] .colab-df-convert {\n",
              "      background-color: #3B4455;\n",
              "      fill: #D2E3FC;\n",
              "    }\n",
              "\n",
              "    [theme=dark] .colab-df-convert:hover {\n",
              "      background-color: #434B5C;\n",
              "      box-shadow: 0px 1px 3px 1px rgba(0, 0, 0, 0.15);\n",
              "      filter: drop-shadow(0px 1px 2px rgba(0, 0, 0, 0.3));\n",
              "      fill: #FFFFFF;\n",
              "    }\n",
              "  </style>\n",
              "\n",
              "      <script>\n",
              "        const buttonEl =\n",
              "          document.querySelector('#df-16e786bc-967d-47a3-aa45-8c7df07818f5 button.colab-df-convert');\n",
              "        buttonEl.style.display =\n",
              "          google.colab.kernel.accessAllowed ? 'block' : 'none';\n",
              "\n",
              "        async function convertToInteractive(key) {\n",
              "          const element = document.querySelector('#df-16e786bc-967d-47a3-aa45-8c7df07818f5');\n",
              "          const dataTable =\n",
              "            await google.colab.kernel.invokeFunction('convertToInteractive',\n",
              "                                                     [key], {});\n",
              "          if (!dataTable) return;\n",
              "\n",
              "          const docLinkHtml = 'Like what you see? Visit the ' +\n",
              "            '<a target=\"_blank\" href=https://colab.research.google.com/notebooks/data_table.ipynb>data table notebook</a>'\n",
              "            + ' to learn more about interactive tables.';\n",
              "          element.innerHTML = '';\n",
              "          dataTable['output_type'] = 'display_data';\n",
              "          await google.colab.output.renderOutput(dataTable, element);\n",
              "          const docLink = document.createElement('div');\n",
              "          docLink.innerHTML = docLinkHtml;\n",
              "          element.appendChild(docLink);\n",
              "        }\n",
              "      </script>\n",
              "    </div>\n",
              "  </div>\n",
              "  "
            ]
          },
          "metadata": {},
          "execution_count": 8
        }
      ]
    },
    {
      "cell_type": "markdown",
      "metadata": {
        "id": "8-7cAxYqt9lu"
      },
      "source": [
        "## Introducing regex\n",
        "\n",
        "Now we have some documents to use regex on. First we need to import the `re` library for using regex."
      ]
    },
    {
      "cell_type": "code",
      "metadata": {
        "id": "ybEDc0Ovt-4Z"
      },
      "source": [
        "#import re library for regex\n",
        "import re"
      ],
      "execution_count": null,
      "outputs": []
    },
    {
      "cell_type": "markdown",
      "metadata": {
        "id": "qb22NLCI81w6"
      },
      "source": [
        "## 'Compiling' a regular expression\n",
        "\n",
        "Now we need to 'compile' a regular expression using the `compile()` function.\n",
        "\n",
        "This is stored in a variable called 'p'\n",
        "\n",
        "In this case the expression specifies we are looking for a space, followed by 'w' and 'e', followed by another space, and then we indicate 'one or more alphanumeric characters' with some special characters: `\\w` (a **metacharacter** which means 'any alphanumeric character') and `+` (a **modifier** which means 'one or more of')"
      ]
    },
    {
      "cell_type": "code",
      "metadata": {
        "colab": {
          "base_uri": "https://localhost:8080/"
        },
        "id": "HmxmDS_luP3p",
        "outputId": "82a99415-776e-4318-82e6-f58de24811fe"
      },
      "source": [
        "p = re.compile(' ?[Ww]e \\w+')\n",
        "p"
      ],
      "execution_count": null,
      "outputs": [
        {
          "output_type": "execute_result",
          "data": {
            "text/plain": [
              "re.compile(r' ?[Ww]e \\w+', re.UNICODE)"
            ]
          },
          "metadata": {},
          "execution_count": 10
        }
      ]
    },
    {
      "cell_type": "markdown",
      "metadata": {
        "id": "ZW1bK9FH9EGc"
      },
      "source": [
        "## Finding all matches using `.findall()`\n",
        "\n",
        "We then use that with `.findall()` to find all matches within a specified string, which is passed as an argument to that function."
      ]
    },
    {
      "cell_type": "code",
      "metadata": {
        "colab": {
          "base_uri": "https://localhost:8080/"
        },
        "id": "bBPg6w44uQyc",
        "outputId": "afacbaa7-aa3d-460e-8864-292d7c5f7944"
      },
      "source": [
        "print(p.findall(\" and we will build\"))"
      ],
      "execution_count": null,
      "outputs": [
        {
          "output_type": "stream",
          "name": "stdout",
          "text": [
            "[' we will']\n"
          ]
        }
      ]
    },
    {
      "cell_type": "markdown",
      "metadata": {
        "id": "Hn4yFtjg9pFv"
      },
      "source": [
        "Here it matches the space and 'we' but also 'will' because it is one or more alphanumeric characters. The match stops with the space after 'will' because this is not an alphanumeric character.\n",
        "\n",
        "Now to apply that to the first speech."
      ]
    },
    {
      "cell_type": "code",
      "metadata": {
        "colab": {
          "base_uri": "https://localhost:8080/"
        },
        "id": "lmwRmcdLvHPL",
        "outputId": "28042902-9a19-43a2-80c6-4732e171c8a2"
      },
      "source": [
        "p.findall(df['text'][1])"
      ],
      "execution_count": null,
      "outputs": [
        {
          "output_type": "execute_result",
          "data": {
            "text/plain": [
              "['We are', ' we can', ' we will']"
            ]
          },
          "metadata": {},
          "execution_count": 12
        }
      ]
    },
    {
      "cell_type": "markdown",
      "metadata": {
        "id": "_C5vWhpZ9yg4"
      },
      "source": [
        "Here we get lots of matches. This list - along with lists of matches from other speeches - could be stored in a dataframe that can then be analysed. "
      ]
    },
    {
      "cell_type": "markdown",
      "metadata": {
        "id": "eLv1aaoghM1u"
      },
      "source": [
        "## Storing the matches in a dataframe\n",
        "\n",
        "We can repeat this regex on each speech to generate a list for each speech.\n",
        "\n",
        "To generate a dataframe of all those mentions, we need to generate a dataframe for each speech, with that list as a column, and the url as another, and then append it to a larger dataframe.\n",
        "\n",
        "Below is the code to do that."
      ]
    },
    {
      "cell_type": "code",
      "metadata": {
        "colab": {
          "base_uri": "https://localhost:8080/"
        },
        "id": "voi_nQHLe6k7",
        "outputId": "66ab9c0f-bd46-4b86-f391-40157a9a9d14"
      },
      "source": [
        "#create a new dataframe to store the results\n",
        "wedf = pd.DataFrame()\n",
        "\n",
        "#loop through a list of indices, up to an index which is equal to the number of items in the dataframe of speeches\n",
        "for i in range(0,len(df)):\n",
        "  #store the url in that row\n",
        "  thisurl = df['url'][i]\n",
        "  print(thisurl)\n",
        "  #store all matches of the regex\n",
        "  welist = p.findall(df['text'][i])\n",
        "  #create a dataframe for the results\n",
        "  localdf = pd.DataFrame()\n",
        "  #store the matches - because this is a list it will fill as many cells as needed\n",
        "  localdf['wemention'] = welist\n",
        "  #create a second column which just has the url repeated. \n",
        "  #Because this is a string it will just repeat for as many rows as there are\n",
        "  localdf['url'] = thisurl\n",
        "  #append to the ongoing dataframe\n",
        "  wedf = wedf.append(localdf, ignore_index=True)\n",
        "\n",
        "#show the results\n",
        "print(wedf)\n",
        "  "
      ],
      "execution_count": null,
      "outputs": [
        {
          "output_type": "stream",
          "name": "stdout",
          "text": [
            "https://www.gov.uk/government/news/justice-secretary-to-offer-support-in-investigating-russian-war-crimes-in-visit-to-the-hague\n",
            "https://www.gov.uk/government/news/domestic-abuse-victims-in-england-and-wales-to-be-given-more-time-to-report-assaults\n",
            "https://www.gov.uk/government/news/landmark-reforms-for-victims\n",
            "https://www.gov.uk/government/news/foreign-secretary-statement-9-september-2021\n",
            "https://www.gov.uk/government/speeches/foreign-secretary-statement-on-afghanistan-response\n",
            "          wemention                                                url\n",
            "0            We are  https://www.gov.uk/government/news/domestic-ab...\n",
            "1            we can  https://www.gov.uk/government/news/domestic-ab...\n",
            "2           we will  https://www.gov.uk/government/news/domestic-ab...\n",
            "3            We are  https://www.gov.uk/government/news/foreign-sec...\n",
            "4         We expect  https://www.gov.uk/government/news/foreign-sec...\n",
            "5           we will  https://www.gov.uk/government/news/foreign-sec...\n",
            "6           we have  https://www.gov.uk/government/speeches/foreign...\n",
            "7       We estimate  https://www.gov.uk/government/speeches/foreign...\n",
            "8    we accelerated  https://www.gov.uk/government/speeches/foreign...\n",
            "9           we have  https://www.gov.uk/government/speeches/foreign...\n",
            "10      we remember  https://www.gov.uk/government/speeches/foreign...\n",
            "11          we also  https://www.gov.uk/government/speeches/foreign...\n",
            "12          we have  https://www.gov.uk/government/speeches/foreign...\n",
            "13         We stand  https://www.gov.uk/government/speeches/foreign...\n",
            "14           We are  https://www.gov.uk/government/speeches/foreign...\n",
            "15     We discussed  https://www.gov.uk/government/speeches/foreign...\n",
            "16           we can  https://www.gov.uk/government/speeches/foreign...\n",
            "17           we are  https://www.gov.uk/government/speeches/foreign...\n",
            "18          we want  https://www.gov.uk/government/speeches/foreign...\n",
            "19      we possibly  https://www.gov.uk/government/speeches/foreign...\n",
            "20           we are  https://www.gov.uk/government/speeches/foreign...\n",
            "21          we have  https://www.gov.uk/government/speeches/foreign...\n",
            "22          we must  https://www.gov.uk/government/speeches/foreign...\n",
            "23          we must  https://www.gov.uk/government/speeches/foreign...\n",
            "24           We are  https://www.gov.uk/government/speeches/foreign...\n",
            "25           We are  https://www.gov.uk/government/speeches/foreign...\n",
            "26          we must  https://www.gov.uk/government/speeches/foreign...\n",
            "27          we must  https://www.gov.uk/government/speeches/foreign...\n",
            "28          we have  https://www.gov.uk/government/speeches/foreign...\n",
            "29          we plan  https://www.gov.uk/government/speeches/foreign...\n",
            "30          we will  https://www.gov.uk/government/speeches/foreign...\n",
            "31          we will  https://www.gov.uk/government/speeches/foreign...\n",
            "32          we will  https://www.gov.uk/government/speeches/foreign...\n",
            "33          we must  https://www.gov.uk/government/speeches/foreign...\n",
            "34         we stand  https://www.gov.uk/government/speeches/foreign...\n",
            "35      we continue  https://www.gov.uk/government/speeches/foreign...\n",
            "36      we possibly  https://www.gov.uk/government/speeches/foreign...\n"
          ]
        }
      ]
    },
    {
      "cell_type": "code",
      "metadata": {
        "colab": {
          "base_uri": "https://localhost:8080/"
        },
        "id": "ZG8_Wa5egg2m",
        "outputId": "7b8c27cd-b1b1-4472-e0d2-485231b558c7"
      },
      "source": [
        "#show the most frequent mentions\n",
        "wedf['wemention'].value_counts()"
      ],
      "execution_count": null,
      "outputs": [
        {
          "output_type": "execute_result",
          "data": {
            "text/plain": [
              " we will           5\n",
              " we have           5\n",
              " we must           5\n",
              " We are            3\n",
              "We are             2\n",
              " we are            2\n",
              " we possibly       2\n",
              " we can            2\n",
              " we stand          1\n",
              " we plan           1\n",
              " we want           1\n",
              " We stand          1\n",
              " We discussed      1\n",
              " we also           1\n",
              " we remember       1\n",
              " we accelerated    1\n",
              " We estimate       1\n",
              "We expect          1\n",
              " we continue       1\n",
              "Name: wemention, dtype: int64"
            ]
          },
          "metadata": {},
          "execution_count": 14
        }
      ]
    },
    {
      "cell_type": "markdown",
      "metadata": {
        "id": "DdUlhXIPjZYr"
      },
      "source": [
        "## Using NLTK to extract ngrams\n",
        "\n",
        "An **ngram** is a number of words that appear consecutively. For example \"to the\" is a common ngram. \n",
        "\n",
        "The 'n' in 'ngram' means 'number' and there are specific words for ngrams of specific numbers. For example, an ngram of two words is called a **bigram**, or you can have a **trigram** of three words and so on. \n",
        "\n",
        "In the table above 'we will' is the most common bigram - but there might be other bigrams in those speeches which *end* with 'we', or which don't use it at all.\n",
        "\n",
        "The natural language processing library `NLTK` (Natural Language Toolkit) includes a function for extracting ngrams. "
      ]
    },
    {
      "cell_type": "code",
      "metadata": {
        "id": "vYemP89qjaqY"
      },
      "source": [
        "#import the ngrams part of nltk\n",
        "from nltk.util import ngrams"
      ],
      "execution_count": null,
      "outputs": []
    },
    {
      "cell_type": "code",
      "metadata": {
        "colab": {
          "base_uri": "https://localhost:8080/",
          "height": 183
        },
        "id": "uOa7MWF7jdJ3",
        "outputId": "aff44e16-15e6-4be3-98e1-26144a70eabe"
      },
      "source": [
        "#convert text to lower so the same words will be treated the same regardless of case\n",
        "speech1lc = df['text'][1].lower()\n",
        "speech1lc"
      ],
      "execution_count": null,
      "outputs": [
        {
          "output_type": "execute_result",
          "data": {
            "text/plain": [
              "'under the changes, victims of domestic abuse will be allowed more time to report incidents of common assault or battery against them. currently, prosecutions must commence within six months of the offence.\\ninstead, this requirement will be moved to six months from the date the incident is formally reported to the police – with an overall time limit of two years from the offence to bring a prosecution. domestic abuse is often reported late relative to other crimes; so this will ensure victims have enough time to seek justice and that perpetrators answer for their actions.\\nmeanwhile, taking non-consensual photographs or video recordings of breastfeeding mothers will be made a specific offence punishable by up to two years in prison. it covers situations where the motive is to obtain sexual gratification, or to cause humiliation, distress or alarm. similar legislation introduced by the government in 2019 that criminalised “upskirting” has led to more than 30 prosecutions since it became law.\\nministers are changing the law to protect mums from being harassed no matter where they choose to breastfeed.\\ndeputy prime minister, lord chancellor and secretary of state for justice, dominic raab said:\\nwe are committed to doing everything we can to protect women, make them feel safer, and give them greater confidence in the justice system.\\nwe’re giving the victims of domestic abuse longer to report the offence to the police – so abusers don’t evade justice. and we will introduce a new offence to stop people filming or taking photos of mothers breast feeding without their consent – because no new mum should be harassed in this way.\\ndomestic abuse commissioner nicole jacobs said:\\ni strongly welcome the additions made to the pcsc bill today, which allow victims of domestic abuse more time to report to the police.\\nit is important that all domestic abuse victims have the time and opportunity to report to the police. this is especially important following covid restrictions, when many victims faced additional challenges to seeking help and reporting domestic abuse.\\ni want to see increased prosecutions for domestic abuse, and hope to see that as these measures remove another barrier to bringing perpetrators to justice.\\nin making photographing breastfeeding mothers without consent a specific offence, the government is giving police and prosecutors the clarity and powers they need to ensure perpetrators face justice.\\ntoday’s announcement builds on measures already in the bill to better protect women such as ending the halfway release of offenders sentenced between four and seven years in prison for serious sexual offences – forcing them to spend two-thirds of their time in prison.\\nin december, the legislation was amended to make clear that a new legal duty requiring public bodies to work together to tackle serious violence can also include domestic abuse and sexual offences.\\xa0 it means that these crimes should be taken as seriously as knife crime and homicide, with police, government, and health bodies required to collaborate locally, so that they can develop more holistic strategies to protect people from harm, including through early intervention.\\nhome secretary, priti patel, said:\\nmy commitment to making our homes, streets and communities safer for women and girls is clear. every department\\xa0 in government is working to address and tackle all issues relating to violence against women and girls. the government has a focussed strategy, dedicated to providing essential support for survivors, the prevention of crimes against women and girls and bringing perpetrators to justice with the full force of the law.\\nour actions include the new domestic abuse act, with important changes to our laws; a newly created\\xa0 national police lead responsible solely on violence against women and girls, and millions of pounds have been invested in direct safety measures through the safer streets fund. these are all important public confidence measures and changes\\xa0to ensure the safety of women and girls in public spaces.\\nbut this government is determined to do more, and the amendments being introduced to this bill today put victims’ voices at the heart of our decisions – giving domestic abuse victims more time to make a report to the police, and providing better protections to mothers breast feeding their children.\\nthe amendments will be made to the police, crime, sentencing and courts and debated by parliament.'"
            ],
            "application/vnd.google.colaboratory.intrinsic+json": {
              "type": "string"
            }
          },
          "metadata": {},
          "execution_count": 16
        }
      ]
    },
    {
      "cell_type": "code",
      "metadata": {
        "colab": {
          "base_uri": "https://localhost:8080/",
          "height": 183
        },
        "id": "_bTHlQcUjtVH",
        "outputId": "9c30854f-4366-4d9a-cde6-5311241c61de"
      },
      "source": [
        "#replace anything that's not a lower case or upper case letter, or number, or space - with a space\n",
        "#this is again so words aren't treated differently because they're followed by a comma or full stop, etc.\n",
        "speech1lc = re.sub(r'[^a-zA-Z0-9\\s]', ' ', speech1lc)\n",
        "speech1lc"
      ],
      "execution_count": null,
      "outputs": [
        {
          "output_type": "execute_result",
          "data": {
            "text/plain": [
              "'under the changes  victims of domestic abuse will be allowed more time to report incidents of common assault or battery against them  currently  prosecutions must commence within six months of the offence \\ninstead  this requirement will be moved to six months from the date the incident is formally reported to the police   with an overall time limit of two years from the offence to bring a prosecution  domestic abuse is often reported late relative to other crimes  so this will ensure victims have enough time to seek justice and that perpetrators answer for their actions \\nmeanwhile  taking non consensual photographs or video recordings of breastfeeding mothers will be made a specific offence punishable by up to two years in prison  it covers situations where the motive is to obtain sexual gratification  or to cause humiliation  distress or alarm  similar legislation introduced by the government in 2019 that criminalised  upskirting  has led to more than 30 prosecutions since it became law \\nministers are changing the law to protect mums from being harassed no matter where they choose to breastfeed \\ndeputy prime minister  lord chancellor and secretary of state for justice  dominic raab said \\nwe are committed to doing everything we can to protect women  make them feel safer  and give them greater confidence in the justice system \\nwe re giving the victims of domestic abuse longer to report the offence to the police   so abusers don t evade justice  and we will introduce a new offence to stop people filming or taking photos of mothers breast feeding without their consent   because no new mum should be harassed in this way \\ndomestic abuse commissioner nicole jacobs said \\ni strongly welcome the additions made to the pcsc bill today  which allow victims of domestic abuse more time to report to the police \\nit is important that all domestic abuse victims have the time and opportunity to report to the police  this is especially important following covid restrictions  when many victims faced additional challenges to seeking help and reporting domestic abuse \\ni want to see increased prosecutions for domestic abuse  and hope to see that as these measures remove another barrier to bringing perpetrators to justice \\nin making photographing breastfeeding mothers without consent a specific offence  the government is giving police and prosecutors the clarity and powers they need to ensure perpetrators face justice \\ntoday s announcement builds on measures already in the bill to better protect women such as ending the halfway release of offenders sentenced between four and seven years in prison for serious sexual offences   forcing them to spend two thirds of their time in prison \\nin december  the legislation was amended to make clear that a new legal duty requiring public bodies to work together to tackle serious violence can also include domestic abuse and sexual offences \\xa0 it means that these crimes should be taken as seriously as knife crime and homicide  with police  government  and health bodies required to collaborate locally  so that they can develop more holistic strategies to protect people from harm  including through early intervention \\nhome secretary  priti patel  said \\nmy commitment to making our homes  streets and communities safer for women and girls is clear  every department\\xa0 in government is working to address and tackle all issues relating to violence against women and girls  the government has a focussed strategy  dedicated to providing essential support for survivors  the prevention of crimes against women and girls and bringing perpetrators to justice with the full force of the law \\nour actions include the new domestic abuse act  with important changes to our laws  a newly created\\xa0 national police lead responsible solely on violence against women and girls  and millions of pounds have been invested in direct safety measures through the safer streets fund  these are all important public confidence measures and changes\\xa0to ensure the safety of women and girls in public spaces \\nbut this government is determined to do more  and the amendments being introduced to this bill today put victims  voices at the heart of our decisions   giving domestic abuse victims more time to make a report to the police  and providing better protections to mothers breast feeding their children \\nthe amendments will be made to the police  crime  sentencing and courts and debated by parliament '"
            ],
            "application/vnd.google.colaboratory.intrinsic+json": {
              "type": "string"
            }
          },
          "metadata": {},
          "execution_count": 17
        }
      ]
    },
    {
      "cell_type": "code",
      "metadata": {
        "id": "pCBURwacj-As"
      },
      "source": [
        "#split the string on spaces, which creates a list\n",
        "#loop through that list, calling each item 'token'\n",
        "#store in a new list called 'tokens' if it's not \"\" (an empty item)\n",
        "tokens = [token for token in speech1lc.split(\" \") if token != \"\"]"
      ],
      "execution_count": null,
      "outputs": []
    },
    {
      "cell_type": "code",
      "metadata": {
        "colab": {
          "base_uri": "https://localhost:8080/"
        },
        "id": "-SwSAhIukBot",
        "outputId": "01f17f60-5905-472b-9967-56872f3496ce"
      },
      "source": [
        "#create a list of ngrams that are two words long (bigrams)\n",
        "output = list(ngrams(tokens, 2))\n",
        "#show the first 10 bigrams\n",
        "output[:10]"
      ],
      "execution_count": null,
      "outputs": [
        {
          "output_type": "execute_result",
          "data": {
            "text/plain": [
              "[('under', 'the'),\n",
              " ('the', 'changes'),\n",
              " ('changes', 'victims'),\n",
              " ('victims', 'of'),\n",
              " ('of', 'domestic'),\n",
              " ('domestic', 'abuse'),\n",
              " ('abuse', 'will'),\n",
              " ('will', 'be'),\n",
              " ('be', 'allowed'),\n",
              " ('allowed', 'more')]"
            ]
          },
          "metadata": {},
          "execution_count": 19
        }
      ]
    },
    {
      "cell_type": "markdown",
      "metadata": {
        "id": "5c8cAAC8lnb4"
      },
      "source": [
        "## Show the most common bigrams using `collections`\n",
        "\n",
        "The `collections` library allows us to [count the frequency of items in a list](https://stackoverflow.com/questions/2161752/how-to-count-the-frequency-of-the-elements-in-an-unordered-list). Below we import it, and then use the `.Counter()` function to count frequency.\n",
        "\n",
        "This creates an object which includes the built-in function `.most_common()` - that can be used to show a specified number of the most frequent items."
      ]
    },
    {
      "cell_type": "code",
      "metadata": {
        "id": "iJS04YAYkL-5"
      },
      "source": [
        "import collections"
      ],
      "execution_count": null,
      "outputs": []
    },
    {
      "cell_type": "code",
      "metadata": {
        "colab": {
          "base_uri": "https://localhost:8080/"
        },
        "id": "YMDLNojvlT2b",
        "outputId": "3cd47b2f-ed17-4b91-cde9-f3d6599e4e84"
      },
      "source": [
        "#count the frequency of items\n",
        "outputcount = collections.Counter(output)\n",
        "#show the 10 most common\n",
        "outputcount.most_common(10)"
      ],
      "execution_count": null,
      "outputs": [
        {
          "output_type": "execute_result",
          "data": {
            "text/plain": [
              "[(('domestic', 'abuse'), 10),\n",
              " (('to', 'the'), 7),\n",
              " (('the', 'police'), 6),\n",
              " (('women', 'and'), 5),\n",
              " (('and', 'girls'), 5),\n",
              " (('will', 'be'), 4),\n",
              " (('time', 'to'), 4),\n",
              " (('to', 'report'), 4),\n",
              " (('victims', 'of'), 3),\n",
              " (('of', 'domestic'), 3)]"
            ]
          },
          "metadata": {},
          "execution_count": 21
        }
      ]
    },
    {
      "cell_type": "markdown",
      "metadata": {
        "id": "FeM7bMi4m2vl"
      },
      "source": [
        "What did I say? 'To the' *is* a common ngram!\n",
        "\n",
        "We can adapt that code to look at trigrams, too."
      ]
    },
    {
      "cell_type": "code",
      "metadata": {
        "colab": {
          "base_uri": "https://localhost:8080/"
        },
        "id": "ollywEjqm-iR",
        "outputId": "08f30b9e-5dc0-4e1f-8947-310fc58e5f61"
      },
      "source": [
        "#create a list of ngrams that are 3 words long (trigrams)\n",
        "output = list(ngrams(tokens, 3))\n",
        "#count the frequency of items\n",
        "outputcount = collections.Counter(output)\n",
        "#show the 10 most common\n",
        "outputcount.most_common(10)"
      ],
      "execution_count": null,
      "outputs": [
        {
          "output_type": "execute_result",
          "data": {
            "text/plain": [
              "[(('to', 'the', 'police'), 6),\n",
              " (('women', 'and', 'girls'), 5),\n",
              " (('victims', 'of', 'domestic'), 3),\n",
              " (('of', 'domestic', 'abuse'), 3),\n",
              " (('more', 'time', 'to'), 3),\n",
              " (('report', 'to', 'the'), 3),\n",
              " (('against', 'women', 'and'), 3),\n",
              " (('time', 'to', 'report'), 2),\n",
              " (('the', 'offence', 'to'), 2),\n",
              " (('will', 'be', 'made'), 2)]"
            ]
          },
          "metadata": {},
          "execution_count": 22
        }
      ]
    }
  ]
}